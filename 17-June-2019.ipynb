{
 "cells": [
  {
   "cell_type": "code",
   "execution_count": 37,
   "metadata": {},
   "outputs": [
    {
     "name": "stdout",
     "output_type": "stream",
     "text": [
      "2\n",
      "29\n",
      "29\n",
      "NO\n"
     ]
    }
   ],
   "source": [
    "p=int(input())\n",
    "f=int(input())\n",
    "def isprime(g):\n",
    "    count=0\n",
    "    for j in range(1,g+1):\n",
    "        if g%j==0:\n",
    "            count=count+1\n",
    "    if count<3:\n",
    "        return True\n",
    "    else:\n",
    "        return False\n",
    "    return\n",
    "#isprime(100)\n",
    "\n",
    "def primeperfect(f):\n",
    "    c=0\n",
    "    for i in range(2,f+1):\n",
    "        if f%i==0 and isprime(i):\n",
    "            c=c+1  \n",
    "            print(i)\n",
    "            \n",
    "    if c==p:\n",
    "        print(\"YES\")\n",
    "    else:\n",
    "        print(\"NO\")\n",
    "    return\n",
    "\n",
    "primeperfect(f)\n",
    "\n",
    "\n"
   ]
  },
  {
   "cell_type": "code",
   "execution_count": null,
   "metadata": {},
   "outputs": [],
   "source": []
  },
  {
   "cell_type": "code",
   "execution_count": 14,
   "metadata": {},
   "outputs": [],
   "source": [
    "fact(6)"
   ]
  },
  {
   "cell_type": "code",
   "execution_count": null,
   "metadata": {},
   "outputs": [],
   "source": []
  }
 ],
 "metadata": {
  "kernelspec": {
   "display_name": "Python 3",
   "language": "python",
   "name": "python3"
  },
  "language_info": {
   "codemirror_mode": {
    "name": "ipython",
    "version": 3
   },
   "file_extension": ".py",
   "mimetype": "text/x-python",
   "name": "python",
   "nbconvert_exporter": "python",
   "pygments_lexer": "ipython3",
   "version": "3.7.3"
  }
 },
 "nbformat": 4,
 "nbformat_minor": 2
}
