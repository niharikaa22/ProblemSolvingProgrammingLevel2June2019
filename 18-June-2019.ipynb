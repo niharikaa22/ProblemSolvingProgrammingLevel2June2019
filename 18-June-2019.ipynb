{
 "cells": [
  {
   "cell_type": "markdown",
   "metadata": {},
   "source": [
    "### Tuples\n",
    "\n",
    "* t1=()\n",
    "* li=[]\n",
    "* Difference between Lists and Tuples:\n",
    "  * Lists are Mutable----can be changed / Modified\n",
    "    - Used to Access,Modify,Add,Delete data\n",
    "    \n",
    "  * Tuples are immutable---cannot be changed once initilized\n",
    "    - Used to access data only \n",
    "    - All Slicing operations work\n",
    "*()-----indicates the tuples\n",
    "\n"
   ]
  },
  {
   "cell_type": "code",
   "execution_count": 12,
   "metadata": {},
   "outputs": [
    {
     "data": {
      "text/plain": [
       "tuple"
      ]
     },
     "execution_count": 12,
     "metadata": {},
     "output_type": "execute_result"
    }
   ],
   "source": [
    "t1=(1,2,3,4,5,0)\n",
    "\n",
    "t1[3]           #------Accessing the fourth element\n",
    "t1[len(t1)//2:] # Accessing all elements from middle to last\n",
    "type(t1)        # Accessing the type of the given data\n",
    "\n",
    "\n",
    "\n"
   ]
  },
  {
   "cell_type": "markdown",
   "metadata": {},
   "source": [
    "### Dictionaries :\n",
    "\n",
    "* It works on the concept of a set\n",
    "* All the data in a dictionary is Unique\n",
    "* Keys ,Values are the major in these dictionaries\n",
    "    * Key is the unique identifier of a value\n",
    "    * value is data that can be accessed with a key\n",
    "* {}----are indicates the dictionaries \n",
    "* data can be added in the dictionaries\n",
    "* In dictionaries the values can be modified but the keys cannot be modified.If you want to modify you have to       remove the key entirely\n"
   ]
  },
  {
   "cell_type": "code",
   "execution_count": 29,
   "metadata": {},
   "outputs": [
    {
     "data": {
      "text/plain": [
       "False"
      ]
     },
     "execution_count": 29,
     "metadata": {},
     "output_type": "execute_result"
    }
   ],
   "source": [
    "d1={\"k1\":\"value1\",\"k2\":\"value2\"}   #sample dictionary\n",
    "\n",
    "d1[\"k2\"]        # dictionaries don't have any index,we have to access data using keys --k2 is the key\n",
    "d1.keys()       # Accessing all the keys in the dictionary in a form of list\n",
    "d1.values()     # Accessing all the values in the dictionary in a form of list\n",
    "d1.items()      # return list of tuples of keys and values\n",
    "d1[\"k3\"]=\"value3\" #Adding a new value to the dictionary using key\n",
    "d1[\"k3\"]=\"value4\" #modifing/updating the values in a dictionary \n",
    "d1.pop(\"k3\")    #removing the key/element in the dictionary,\n",
    "\"k3\" in d1       #checking the available keys .only keys will be checked\n",
    "\n",
    "\n",
    "\n",
    "\n",
    "\n",
    "\n",
    "\n",
    "\n"
   ]
  },
  {
   "cell_type": "markdown",
   "metadata": {},
   "source": [
    "### Contacts Appliation:\n",
    "\n",
    "- Add contact\n",
    "- Search for contact\n",
    "- List all contacts\n",
    "- Modify contact\n",
    "- Remove contact\n",
    "\n",
    "\n"
   ]
  },
  {
   "cell_type": "code",
   "execution_count": 88,
   "metadata": {},
   "outputs": [
    {
     "name": "stdout",
     "output_type": "stream",
     "text": [
      "contact name3 added\n"
     ]
    }
   ],
   "source": [
    "contacts={}\n",
    "def addcontact(name,phone):    # name is the  key and phone is the value\n",
    "    # Verify that the contact doesnot already exist\n",
    "    if name not in contacts:\n",
    "        contacts[name]=phone\n",
    "        print(\"contact %s added\" %name)\n",
    "    else:\n",
    "        print(\"Contact %s already exists\" % name)\n",
    "    return\n",
    "addcontact(\"name3\",\"8923277\")"
   ]
  },
  {
   "cell_type": "code",
   "execution_count": 80,
   "metadata": {},
   "outputs": [
    {
     "name": "stdout",
     "output_type": "stream",
     "text": [
      "contact doesnot exist\n"
     ]
    }
   ],
   "source": [
    "def searchcontacts(name):\n",
    "    if name in contacts:\n",
    "        print(name,\":\",contacts[name])\n",
    "    else:\n",
    "        print(\"contact doesnot exist\")\n",
    "    return\n",
    "searchcontacts(\"name3\")"
   ]
  },
  {
   "cell_type": "code",
   "execution_count": 83,
   "metadata": {},
   "outputs": [
    {
     "name": "stdout",
     "output_type": "stream",
     "text": [
      "name not found\n"
     ]
    }
   ],
   "source": [
    "def modify(name,phone):\n",
    "    if name in contacts:\n",
    "        contacts[name]= phone\n",
    "        print(\"contact modified\")\n",
    "    else:\n",
    "        print(\"name not found\")\n",
    "    return\n",
    "modify(\"name4\",\"123451216789\")\n",
    "    "
   ]
  },
  {
   "cell_type": "code",
   "execution_count": 87,
   "metadata": {},
   "outputs": [],
   "source": [
    "def remove(name):\n",
    "    if name in contacts:\n",
    "        contacts.pop(name)\n",
    "        print(\"contact deleted\")\n",
    "    return\n",
    "remove(\"name3\")"
   ]
  },
  {
   "cell_type": "code",
   "execution_count": 91,
   "metadata": {},
   "outputs": [
    {
     "name": "stdout",
     "output_type": "stream",
     "text": [
      "name3 : 38148314918\n",
      "name2 : 1234332535\n",
      "name4 : 2798492232\n"
     ]
    }
   ],
   "source": [
    "def listcontacts():\n",
    "    for i,j in contacts.items():\n",
    "        print(i,\":\",j)\n",
    "    return\n",
    "listcontacts()"
   ]
  },
  {
   "cell_type": "code",
   "execution_count": 90,
   "metadata": {},
   "outputs": [
    {
     "name": "stdout",
     "output_type": "stream",
     "text": [
      "3 contacts added successfully\n"
     ]
    }
   ],
   "source": [
    "# Neew contacts is given as a dictionary\n",
    "#MErge new contacts with existing contacts\n",
    "\n",
    "def importcontacts(newcontacts):\n",
    "    contacts.update(newcontacts)\n",
    "    print(len(newcontacts.keys()),\"contacts added successfully\")\n",
    "    return\n",
    "newcontacts={\"name2\":1234332535,\"name3\":38148314918,\"name4\":2798492232}\n",
    "importcontacts(newcontacts)"
   ]
  },
  {
   "cell_type": "markdown",
   "metadata": {},
   "source": [
    "## Packages and Modules\n",
    "\n",
    "* Packages--- Collection of Modules(python file with .py) and sub packages\n",
    "    * Packages----Sub Packages ----Modules----Functions\n",
    "* Modules --- Single python file containing functions\n",
    "\n",
    "\n",
    "\n"
   ]
  },
  {
   "cell_type": "code",
   "execution_count": 98,
   "metadata": {},
   "outputs": [
    {
     "data": {
      "text/plain": [
       "30403"
      ]
     },
     "execution_count": 98,
     "metadata": {},
     "output_type": "execute_result"
    }
   ],
   "source": [
    "import math    #importing math can perform all mathematical functions,math is a module\n",
    "math.floor(300.28328)\n",
    "math.pi\n",
    "from math import floor #without importing the entire module we can import a particular function\n",
    "floor(28329.9209032)\n",
    "from math import floor,pi # importing two variables at a time\n",
    "floor(28328.29209)\n",
    "pi\n",
    "from math import floor as fl  # accessing the function of module with a variable name\n",
    "fl(30403.343)\n"
   ]
  },
  {
   "cell_type": "code",
   "execution_count": 103,
   "metadata": {},
   "outputs": [
    {
     "name": "stdout",
     "output_type": "stream",
     "text": [
      "61 49 41 24 28 63 69 11 57 79 "
     ]
    }
   ],
   "source": [
    "# Function to generate N random numbers:\n",
    "\n",
    "import random\n",
    "\n",
    "def generatenrandomnumbers(n,lb,ub): # n---no of numbers to b print,lb--lower bound and ub-upper bound\n",
    "    for i in range(0,n):\n",
    "        print(random.randint(lb,ub),end=\" \")\n",
    "    return\n",
    "generatenrandomnumbers(10,0,100)\n",
    "\n",
    "\n",
    "    "
   ]
  },
  {
   "cell_type": "code",
   "execution_count": 7,
   "metadata": {},
   "outputs": [
    {
     "data": {
      "text/plain": [
       "False"
      ]
     },
     "execution_count": 7,
     "metadata": {},
     "output_type": "execute_result"
    }
   ],
   "source": [
    "from Packages import numerical\n",
    "numerical.isperfect1(1000)\n",
    "\n",
    "from Packages.numerical import isprime\n",
    "isprime(10)\n",
    "\n"
   ]
  },
  {
   "cell_type": "code",
   "execution_count": null,
   "metadata": {},
   "outputs": [],
   "source": []
  },
  {
   "cell_type": "code",
   "execution_count": null,
   "metadata": {},
   "outputs": [],
   "source": []
  }
 ],
 "metadata": {
  "kernelspec": {
   "display_name": "Python 3",
   "language": "python",
   "name": "python3"
  },
  "language_info": {
   "codemirror_mode": {
    "name": "ipython",
    "version": 3
   },
   "file_extension": ".py",
   "mimetype": "text/x-python",
   "name": "python",
   "nbconvert_exporter": "python",
   "pygments_lexer": "ipython3",
   "version": "3.7.3"
  }
 },
 "nbformat": 4,
 "nbformat_minor": 2
}
