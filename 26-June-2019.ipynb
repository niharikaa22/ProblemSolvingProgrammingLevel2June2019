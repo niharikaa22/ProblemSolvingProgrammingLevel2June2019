{
 "cells": [
  {
   "cell_type": "code",
   "execution_count": 1,
   "metadata": {},
   "outputs": [
    {
     "name": "stdout",
     "output_type": "stream",
     "text": [
      "[8, 7, 5, 4, 3, 2, 1]\n"
     ]
    },
    {
     "data": {
      "text/plain": [
       "7"
      ]
     },
     "execution_count": 1,
     "metadata": {},
     "output_type": "execute_result"
    }
   ],
   "source": [
    "# Function to find the Second Largest number in a list:\n",
    "\n",
    "def secondlargest(li):\n",
    "    # Convert the list into a unique list\n",
    "    unique=[]\n",
    "    for n in li:\n",
    "        if n not in unique:\n",
    "            unique.append(n)\n",
    "    unique=sorted(unique,reverse=True)\n",
    "    print(unique)\n",
    "    if len(unique)>1:\n",
    "        return unique[1]\n",
    "    return -1\n",
    "secondlargest([1,2,3,4,2,5,8,7,1,2])\n",
    "            \n",
    "            \n",
    "            \n",
    "\n"
   ]
  },
  {
   "cell_type": "code",
   "execution_count": 2,
   "metadata": {},
   "outputs": [
    {
     "name": "stdout",
     "output_type": "stream",
     "text": [
      "[8, 7, 5, 4, 3, 2, 1]\n"
     ]
    },
    {
     "data": {
      "text/plain": [
       "5"
      ]
     },
     "execution_count": 2,
     "metadata": {},
     "output_type": "execute_result"
    }
   ],
   "source": [
    "# Function to find the fifth least number in a list:\n",
    "\n",
    "def fifthleast(li):\n",
    "    uni=[]\n",
    "    for n in li:\n",
    "        if n not in uni:\n",
    "            uni.append(n)\n",
    "    uni=sorted(uni,reverse=True)\n",
    "    print(uni)\n",
    "    if len(uni)>1:\n",
    "        return uni[len(uni)-5]\n",
    "    return -1\n",
    "fifthleast([1,2,3,4,2,5,8,7,1,2])"
   ]
  },
  {
   "cell_type": "code",
   "execution_count": 3,
   "metadata": {},
   "outputs": [
    {
     "name": "stdout",
     "output_type": "stream",
     "text": [
      "[1, 2, 3, 4, 5, 7, 8]\n"
     ]
    },
    {
     "data": {
      "text/plain": [
       "2"
      ]
     },
     "execution_count": 3,
     "metadata": {},
     "output_type": "execute_result"
    }
   ],
   "source": [
    "# Function to find the kth least number in a list:\n",
    "\n",
    "def kthleast(li,k):\n",
    "    # Extract unique elements in the list\n",
    "    uni=[]\n",
    "    for n in li:\n",
    "        if n not in uni:\n",
    "            uni.append(n)\n",
    "            #sort the unique list in descending order\n",
    "    uni=sorted(uni)\n",
    "    if len(uni)>=k:\n",
    "        print(uni)\n",
    "        return uni[k-1]\n",
    "    return -1\n",
    "kthleast([1,2,3,4,2,5,8,7,1,2],2)"
   ]
  },
  {
   "cell_type": "code",
   "execution_count": 4,
   "metadata": {},
   "outputs": [
    {
     "name": "stdout",
     "output_type": "stream",
     "text": [
      "[8, 7, 5, 4, 3, 2, 1]\n"
     ]
    },
    {
     "data": {
      "text/plain": [
       "8"
      ]
     },
     "execution_count": 4,
     "metadata": {},
     "output_type": "execute_result"
    }
   ],
   "source": [
    "# Function to find the kth largest number in a list:\n",
    "\n",
    "def kthlargest(li,k):\n",
    "    uni=[]\n",
    "    for n in li:\n",
    "        if n not in uni:\n",
    "            uni.append(n)\n",
    "    uni=sorted(uni,reverse=True)\n",
    "    if len(uni)>=k:\n",
    "        print(uni)\n",
    "        return uni[k-1]\n",
    "    return -1\n",
    "kthlargest([1,2,3,4,2,5,8,7,1,2],1)"
   ]
  },
  {
   "cell_type": "code",
   "execution_count": 6,
   "metadata": {},
   "outputs": [
    {
     "data": {
      "text/plain": [
       "1"
      ]
     },
     "execution_count": 6,
     "metadata": {},
     "output_type": "execute_result"
    }
   ],
   "source": [
    "# Function to identify the elements with highest frequency\n",
    "# If many elements have the highest frequency ,return the least frequency element\n",
    "# Highest Frequency([1,2,3,9,8,7,3,4,2,1])\n",
    "\n",
    "def highestfrequencyelement(li):\n",
    "    unique={}\n",
    "    for n in li:\n",
    "        if n not in unique:\n",
    "            unique[n]=1\n",
    "        else:\n",
    "            unique[n]+=1\n",
    "    # Getting all frequencies into a list\n",
    "    freq=unique.values()\n",
    "    maxfreq=max(freq)\n",
    "    maxfreqe=[]\n",
    "    # Identify keys with maximum frequency\n",
    "    for item in unique.items():\n",
    "        if item[1]==maxfreq:\n",
    "            maxfreqe.append(item[0])\n",
    "    # select the minimum from the keys with maximum frequency\n",
    "    return min(maxfreqe)    #minfreqe[k-1]\n",
    "highestfrequencyelement([1,2,3,9,8,7,3,4,2,1])\n",
    "            \n",
    "        \n",
    "       \n",
    "\n",
    "    \n",
    "    \n"
   ]
  },
  {
   "cell_type": "code",
   "execution_count": 23,
   "metadata": {},
   "outputs": [
    {
     "data": {
      "text/plain": [
       "2"
      ]
     },
     "execution_count": 23,
     "metadata": {},
     "output_type": "execute_result"
    }
   ],
   "source": [
    "# Function to generate kth largest frequency:\n",
    "\n",
    "def highestfrequencyelement(li,k):\n",
    "    unique={}\n",
    "    for n in li:\n",
    "        if n not in unique:\n",
    "            unique[n]=1\n",
    "        else:\n",
    "            unique[n]+=1\n",
    "    # unique={1:2,2:2,3:2,9:1,8:1,7:1,4:1}\n",
    "    # Getting all frequencies into a list\n",
    "    freq=unique.values()\n",
    "    \n",
    "    maxfreq=max(freq)\n",
    "    maxfreqe=[]\n",
    "    # Identify keys with maximum frequency\n",
    "    for item in unique.items():\n",
    "        if item[1]==maxfreq:\n",
    "            maxfreqe.append(item[0])\n",
    "    # select the minimum from the keys with maximum frequency\n",
    "    maxfreqe=sorted(maxfreqe)  #minfreqe[k-1]\n",
    "    return maxfreqe[k-1]\n",
    "\n",
    "highestfrequencyelement([1,2,3,9,8,7,3,4,2,1],2)\n",
    "            \n",
    "        "
   ]
  },
  {
   "cell_type": "code",
   "execution_count": 27,
   "metadata": {},
   "outputs": [
    {
     "name": "stdout",
     "output_type": "stream",
     "text": [
      "2\n"
     ]
    },
    {
     "data": {
      "text/plain": [
       "1"
      ]
     },
     "execution_count": 27,
     "metadata": {},
     "output_type": "execute_result"
    }
   ],
   "source": [
    "def minelementmaxfreq(li):\n",
    "    unique={}\n",
    "    for n in li:\n",
    "        if n not in unique:\n",
    "            unique[n]=1\n",
    "        else:\n",
    "            unique[n]+=1\n",
    "    # unique={1:2,2:2,3:2,9:1,8:1,7:1,4:1}\n",
    "    maxfreq=max(unique.values())\n",
    "    #print(maxfreq)\n",
    "    # Extract all keys with maxfreq in a list \n",
    "    maxfreqkeys=[]\n",
    "    for item in unique.items():\n",
    "        #item--->(key,value)\n",
    "        #item[1]\n",
    "        if item[1]==maxfreq:\n",
    "            maxfreqkeys.append(item[0])\n",
    "            #print(maxfreqkeys)\n",
    "    return min(maxfreqkeys)\n",
    "minelementmaxfreq([1,2,3,9,8,7,3,4,2,1])\n"
   ]
  },
  {
   "cell_type": "code",
   "execution_count": 45,
   "metadata": {},
   "outputs": [
    {
     "name": "stdout",
     "output_type": "stream",
     "text": [
      "[1, 3]\n"
     ]
    },
    {
     "data": {
      "text/plain": [
       "2"
      ]
     },
     "execution_count": 45,
     "metadata": {},
     "output_type": "execute_result"
    }
   ],
   "source": [
    "# Function to identify second highest frequency element:\n",
    "# If there are many elements,return the least element.\n",
    "# [1,2,3,2,1,4,4,9] --->3\n",
    "\n",
    "def secondhighest(li):\n",
    "    unique={}\n",
    "    for n in li:\n",
    "        if n not in unique:\n",
    "            unique[n]=1\n",
    "        else:\n",
    "            unique[n]+=1\n",
    "    maxfreq=unique.values()\n",
    "    u=[]\n",
    "    for i in maxfreq:\n",
    "        if i not in u:\n",
    "            u.append(i)\n",
    "    u=sorted(u)\n",
    "    print(u)\n",
    "    maxfreq=u[1]\n",
    "    mf=[]\n",
    "    for item in unique.items():\n",
    "        if item[1]==maxfreq:\n",
    "            mf.append(item[0])\n",
    "    \n",
    "    #print(maxfreq)\n",
    "    return min(mf)\n",
    "secondhighest([2,3,2,2,1,4,4,4,9])\n",
    "        \n",
    "    \n",
    "            \n",
    "\n",
    "\n",
    "    "
   ]
  },
  {
   "cell_type": "code",
   "execution_count": 73,
   "metadata": {},
   "outputs": [
    {
     "name": "stdout",
     "output_type": "stream",
     "text": [
      "[4, 3, 1]\n"
     ]
    },
    {
     "data": {
      "text/plain": [
       "3"
      ]
     },
     "execution_count": 73,
     "metadata": {},
     "output_type": "execute_result"
    }
   ],
   "source": [
    "# Function to generate kth highest frequency:\n",
    "\n",
    "def khighest(li,k):\n",
    "    unique={}\n",
    "    for n in li:\n",
    "        if n not in unique:\n",
    "            unique[n]=1\n",
    "        else:\n",
    "            unique[n]+=1\n",
    "    maxfreq=unique.values()\n",
    "    u=[]\n",
    "    for i in maxfreq:\n",
    "        if i not in u:\n",
    "            u.append(i)\n",
    "    u=sorted(u,reverse=True)\n",
    "    print(u)\n",
    "    maxfreq=u[k-1]\n",
    "    mf=[]\n",
    "    for item in unique.items():\n",
    "        if item[1]==maxfreq:\n",
    "            mf.append(item[0])\n",
    "    if len(unique)>=k:    \n",
    "    #print(maxfreq)\n",
    "        return max(mf)\n",
    "    return -1\n",
    "khighest([2,3,2,2,1,4,4,4,9,9,9,9],3)"
   ]
  },
  {
   "cell_type": "code",
   "execution_count": null,
   "metadata": {},
   "outputs": [],
   "source": [
    "def highestfrequency(s,k):\n",
    "    #unique character with frequencies\n",
    "    unique={}\n",
    "    for c in s:\n",
    "        if c not in unique:\n",
    "            unique[c]=1\n",
    "        else:\n",
    "            unique[c]+=1\n",
    "    \n",
    "    "
   ]
  }
 ],
 "metadata": {
  "kernelspec": {
   "display_name": "Python 3",
   "language": "python",
   "name": "python3"
  },
  "language_info": {
   "codemirror_mode": {
    "name": "ipython",
    "version": 3
   },
   "file_extension": ".py",
   "mimetype": "text/x-python",
   "name": "python",
   "nbconvert_exporter": "python",
   "pygments_lexer": "ipython3",
   "version": "3.7.3"
  }
 },
 "nbformat": 4,
 "nbformat_minor": 2
}
