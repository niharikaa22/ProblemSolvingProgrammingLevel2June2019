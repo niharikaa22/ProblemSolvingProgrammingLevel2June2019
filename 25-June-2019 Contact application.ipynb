{
 "cells": [
  {
   "cell_type": "code",
   "execution_count": 1,
   "metadata": {},
   "outputs": [],
   "source": [
    "## contacts Application\n",
    "    # add,search,list,modify and delete the contact\n",
    "## Find and replace Application\n",
    "    # Count the total number of occurance of a word\n",
    "    #If word is existing\n",
    "    #Replace all occurances of a word with another word"
   ]
  },
  {
   "cell_type": "code",
   "execution_count": 3,
   "metadata": {},
   "outputs": [
    {
     "data": {
      "text/plain": [
       "True"
      ]
     },
     "execution_count": 3,
     "metadata": {},
     "output_type": "execute_result"
    }
   ],
   "source": [
    "import re\n",
    "def phonenumvalidator(phone):\n",
    "    pattern=\"^[6-9][0-9]{9}$\"\n",
    "    if re.match(pattern,str(phone)):\n",
    "        \n",
    "        return  True\n",
    "    else:\n",
    "        return False\n",
    "    return\n",
    "#phonenumvalidator(\"6875563361\")\n",
    "\n",
    "def emailvalidator(email):\n",
    "    pattern=\"^[0-9a-z][0-9a-z_.]{4,13}[0-9a-z][@][a-z0-9]{3,18}[.][a-z]{2,4}$\"\n",
    "    if re.match(pattern,email):\n",
    "        return True\n",
    "    return False\n",
    "emailvalidator(\"nihadh@gmail.com\")\n"
   ]
  },
  {
   "cell_type": "code",
   "execution_count": 4,
   "metadata": {},
   "outputs": [],
   "source": [
    "def checkcontactexist(name):\n",
    "    with open(\"DataFiles/contact.txt\",'r') as f:\n",
    "        filedata=f.read()\n",
    "        pattern=name+\":\"\n",
    "    return re.search(pattern,filedata)\n",
    "#checkcontactexist(name)"
   ]
  },
  {
   "cell_type": "code",
   "execution_count": 10,
   "metadata": {},
   "outputs": [
    {
     "name": "stdout",
     "output_type": "stream",
     "text": [
      "Contact added\n"
     ]
    }
   ],
   "source": [
    "# Function to add contacts :\n",
    "def addcontact(name,phone,email):\n",
    "    if not checkcontactexist(name):\n",
    "        if phonenumvalidator(phone) and emailvalidator(email) :\n",
    "            with open(\"DataFiles/contact.txt\",'a') as f:\n",
    "                line=name+\":\"+str(phone)+\",\"+email+\"\\n\"\n",
    "                f.write(line)\n",
    "            print(\"Contact added\")\n",
    "        else:\n",
    "            print(\"Email or phonenumber is not valid\")\n",
    "    else:\n",
    "        print(\"contact already exist\")\n",
    "    return\n",
    "\n",
    "addcontact(\"niha3\",\"8336553210\",\"abkckdf@gmail.com\")\n",
    "    \n",
    "\n",
    "            \n",
    "            \n",
    "        \n",
    "    "
   ]
  },
  {
   "cell_type": "code",
   "execution_count": 12,
   "metadata": {},
   "outputs": [
    {
     "name": "stdout",
     "output_type": "stream",
     "text": [
      "niha1 found\n"
     ]
    }
   ],
   "source": [
    "\n",
    "def search(name):\n",
    "    #name,phone,email\n",
    "    with open(\"DataFiles/contact.txt\",'r') as f:\n",
    "        if checkcontactexist(name):\n",
    "            print(name,\"found\")\n",
    "        else:\n",
    "            print(name,\"not found\")\n",
    "    return\n",
    "\n",
    "search(\"niha1\")\n",
    "        "
   ]
  },
  {
   "cell_type": "code",
   "execution_count": 13,
   "metadata": {},
   "outputs": [
    {
     "name": "stdout",
     "output_type": "stream",
     "text": [
      "niha4:8336553210,abkckdf@gmail.com\n",
      " niha1:8336553210,abkckdf@gmail.com\n",
      " niha2:8336553210,abkckdf@gmail.com\n",
      " niha3:8336553210,abkckdf@gmail.com\n",
      " "
     ]
    }
   ],
   "source": [
    "def listcontact():\n",
    "    with open(\"DataFiles/contact.txt\",\"r\") as f:\n",
    "        for i in f:\n",
    "            print(i,end=\" \")    \n",
    "    return\n",
    "listcontact()"
   ]
  },
  {
   "cell_type": "code",
   "execution_count": 14,
   "metadata": {
    "scrolled": true
   },
   "outputs": [
    {
     "data": {
      "text/plain": [
       "'niha4:8336553210,abkckdf@gmail.com\\nniha1:8336553210,abkckdf@gmail.com\\nniha2:8336553210,abkckdf@gmail.com\\nniha3:8336553210,abkckdf@gmail.com\\n'"
      ]
     },
     "execution_count": 14,
     "metadata": {},
     "output_type": "execute_result"
    }
   ],
   "source": [
    "filename='DataFiles/contact.txt'\n",
    "def csvToList(filename):\n",
    "    li=[]\n",
    "    with open(filename, 'r') as f:\n",
    "        for line in f:\n",
    "            li.append(line.split(','))\n",
    "    return li\n",
    "#csvToList(filename)\n",
    "\n",
    "def listToFile(li):\n",
    "    s = ''\n",
    "    for i in li:\n",
    "        s+=','.join(i)\n",
    "    return s\n",
    "li = csvToList(filename)\n",
    "listToFile(li)"
   ]
  },
  {
   "cell_type": "code",
   "execution_count": 25,
   "metadata": {},
   "outputs": [
    {
     "ename": "NameError",
     "evalue": "name 'searchcontact' is not defined",
     "output_type": "error",
     "traceback": [
      "\u001b[1;31m---------------------------------------------------------------------------\u001b[0m",
      "\u001b[1;31mNameError\u001b[0m                                 Traceback (most recent call last)",
      "\u001b[1;32m<ipython-input-25-5f904da2dc2e>\u001b[0m in \u001b[0;36m<module>\u001b[1;34m\u001b[0m\n\u001b[0;32m     17\u001b[0m         \u001b[0mprint\u001b[0m\u001b[1;33m(\u001b[0m\u001b[1;34m\"contact not found to remove\"\u001b[0m\u001b[1;33m)\u001b[0m\u001b[1;33m\u001b[0m\u001b[1;33m\u001b[0m\u001b[0m\n\u001b[0;32m     18\u001b[0m \u001b[0mfilename\u001b[0m\u001b[1;33m=\u001b[0m\u001b[1;34m'DataFiles/contact.txt'\u001b[0m\u001b[1;33m\u001b[0m\u001b[1;33m\u001b[0m\u001b[0m\n\u001b[1;32m---> 19\u001b[1;33m \u001b[0mcontDel\u001b[0m\u001b[1;33m(\u001b[0m\u001b[0mfilename\u001b[0m\u001b[1;33m,\u001b[0m\u001b[1;34m'niha1'\u001b[0m\u001b[1;33m)\u001b[0m\u001b[1;33m\u001b[0m\u001b[1;33m\u001b[0m\u001b[0m\n\u001b[0m",
      "\u001b[1;32m<ipython-input-25-5f904da2dc2e>\u001b[0m in \u001b[0;36mcontDel\u001b[1;34m(filename, name)\u001b[0m\n\u001b[0;32m      7\u001b[0m \u001b[0mlistToFile\u001b[0m\u001b[1;33m(\u001b[0m\u001b[0mli\u001b[0m\u001b[1;33m)\u001b[0m\u001b[1;33m\u001b[0m\u001b[1;33m\u001b[0m\u001b[0m\n\u001b[0;32m      8\u001b[0m \u001b[1;32mdef\u001b[0m \u001b[0mcontDel\u001b[0m\u001b[1;33m(\u001b[0m\u001b[0mfilename\u001b[0m\u001b[1;33m,\u001b[0m\u001b[0mname\u001b[0m\u001b[1;33m)\u001b[0m\u001b[1;33m:\u001b[0m\u001b[1;33m\u001b[0m\u001b[1;33m\u001b[0m\u001b[0m\n\u001b[1;32m----> 9\u001b[1;33m     \u001b[0mi\u001b[0m\u001b[1;33m=\u001b[0m\u001b[0msearchcontact\u001b[0m\u001b[1;33m(\u001b[0m\u001b[0mfilename\u001b[0m\u001b[1;33m,\u001b[0m\u001b[0mname\u001b[0m\u001b[1;33m)\u001b[0m\u001b[1;33m\u001b[0m\u001b[1;33m\u001b[0m\u001b[0m\n\u001b[0m\u001b[0;32m     10\u001b[0m     \u001b[1;32mif\u001b[0m \u001b[0mi\u001b[0m\u001b[1;33m!=\u001b[0m\u001b[1;33m-\u001b[0m\u001b[1;36m1\u001b[0m\u001b[1;33m:\u001b[0m\u001b[1;33m\u001b[0m\u001b[1;33m\u001b[0m\u001b[0m\n\u001b[0;32m     11\u001b[0m         \u001b[0mf1\u001b[0m\u001b[1;33m=\u001b[0m\u001b[0mcsvtolist\u001b[0m\u001b[1;33m(\u001b[0m\u001b[0mfilename\u001b[0m\u001b[1;33m)\u001b[0m\u001b[1;33m\u001b[0m\u001b[1;33m\u001b[0m\u001b[0m\n",
      "\u001b[1;31mNameError\u001b[0m: name 'searchcontact' is not defined"
     ]
    }
   ],
   "source": [
    "def listToFile(li):\n",
    "    s=''\n",
    "    for i in li:\n",
    "        s+=','.join(i)\n",
    "    return s\n",
    "li=csvToList(filename)\n",
    "listToFile(li)\n",
    "def contDel(filename,name):\n",
    "    i=searchcontr(filename,name)\n",
    "    if i!=-1:\n",
    "        f1=csvtolist(filename)\n",
    "        f1.pop(i)\n",
    "        s=listToFile(f1)\n",
    "        with open(filename,'w') as f:\n",
    "            f.write(s)\n",
    "    else:\n",
    "        print(\"contact not found to remove\")\n",
    "filename='DataFiles/contact.txt'\n",
    "contDel(filename,'niha1')"
   ]
  },
  {
   "cell_type": "code",
   "execution_count": null,
   "metadata": {},
   "outputs": [],
   "source": []
  }
 ],
 "metadata": {
  "kernelspec": {
   "display_name": "Python 3",
   "language": "python",
   "name": "python3"
  },
  "language_info": {
   "codemirror_mode": {
    "name": "ipython",
    "version": 3
   },
   "file_extension": ".py",
   "mimetype": "text/x-python",
   "name": "python",
   "nbconvert_exporter": "python",
   "pygments_lexer": "ipython3",
   "version": "3.7.3"
  }
 },
 "nbformat": 4,
 "nbformat_minor": 2
}
