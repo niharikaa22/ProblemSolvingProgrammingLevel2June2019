{
 "cells": [
  {
   "cell_type": "code",
   "execution_count": 1,
   "metadata": {},
   "outputs": [],
   "source": [
    "## contacts Application\n",
    "    # add,search,list,modify and delete the contact\n",
    "## Find and replace Application\n",
    "    # Count the total number of occurance of a word\n",
    "    #If word is existing\n",
    "    #Replace all occurances of a word with another word"
   ]
  },
  {
   "cell_type": "code",
   "execution_count": 85,
   "metadata": {},
   "outputs": [
    {
     "data": {
      "text/plain": [
       "True"
      ]
     },
     "execution_count": 85,
     "metadata": {},
     "output_type": "execute_result"
    }
   ],
   "source": [
    "import re\n",
    "def phonenumvalidator(phone):\n",
    "    pattern=\"^[6-9][0-9]{9}$\"\n",
    "    if re.match(pattern,str(phone)):\n",
    "        \n",
    "        return  True\n",
    "    else:\n",
    "        return False\n",
    "    return\n",
    "#phonenumvalidator(\"6875563361\")\n",
    "\n",
    "def emailvalidator(email):\n",
    "    pattern=\"^[0-9a-z][0-9a-z_.]{4,13}[0-9a-z][@][a-z0-9]{3,18}[.][a-z]{2,4}$\"\n",
    "    if re.match(pattern,email):\n",
    "        return True\n",
    "    return False\n",
    "emailvalidator(\"nihadh@gmail.com\")\n"
   ]
  },
  {
   "cell_type": "code",
   "execution_count": 86,
   "metadata": {},
   "outputs": [],
   "source": [
    "def checkcontactexist(name):\n",
    "    with open(\"DataFiles/contact.txt\",'r') as f:\n",
    "        filedata=f.read()\n",
    "        pattern=name+\":\"\n",
    "    return re.search(pattern,filedata)\n",
    "#checkcontactexist(name)"
   ]
  },
  {
   "cell_type": "code",
   "execution_count": 93,
   "metadata": {},
   "outputs": [
    {
     "name": "stdout",
     "output_type": "stream",
     "text": [
      "contact already exist\n"
     ]
    }
   ],
   "source": [
    "# Function to add contacts :\n",
    "def addcontact(name,phone,email):\n",
    "    if not checkcontactexist(name):\n",
    "        if phonenumvalidator(phone) and emailvalidator(email) :\n",
    "            with open(\"DataFiles/contact.txt\",'a') as f:\n",
    "                line=name+\":\"+str(phone)+\",\"+email+\"\\n\"\n",
    "                f.write(line)\n",
    "            print(\"Contact added\")\n",
    "        else:\n",
    "            print(\"Email or phonenumber is not valid\")\n",
    "    else:\n",
    "        print(\"contact already exist\")\n",
    "    return\n",
    "\n",
    "addcontact(\"niha4\",\"8336553210\",\"abkckdf@gmail.com\")\n",
    "    \n",
    "\n",
    "            \n",
    "            \n",
    "        \n",
    "    "
   ]
  },
  {
   "cell_type": "code",
   "execution_count": 95,
   "metadata": {},
   "outputs": [
    {
     "name": "stdout",
     "output_type": "stream",
     "text": [
      "niha1 found\n"
     ]
    }
   ],
   "source": [
    "\n",
    "def search(name):\n",
    "    #name,phone,email\n",
    "    with open(\"DataFiles/contact.txt\",'r') as f:\n",
    "        if checkcontactexist(name):\n",
    "            print(name,\"found\")\n",
    "        else:\n",
    "            print(name,\"not found\")\n",
    "    return\n",
    "\n",
    "search(\"niha1\")\n",
    "        "
   ]
  },
  {
   "cell_type": "code",
   "execution_count": 100,
   "metadata": {},
   "outputs": [
    {
     "name": "stdout",
     "output_type": "stream",
     "text": [
      "niha1:8336553210,abkckdf@gmail.com\n",
      " niha2:8336553210,abkckdf@gmail.com\n",
      " niha3:8336553210,abkckdf@gmail.com\n",
      " niha4:8336553210,abkckdf@gmail.com\n",
      " niha5:8336553210,abkckdf@gmail.com\n",
      " "
     ]
    }
   ],
   "source": [
    "def listcontact():\n",
    "    with open(\"DataFiles/contact.txt\",\"r\") as f:\n",
    "        for i in f:\n",
    "            print(i,end=\" \")    \n",
    "    return\n",
    "listcontact()"
   ]
  },
  {
   "cell_type": "code",
   "execution_count": 116,
   "metadata": {},
   "outputs": [
    {
     "ename": "AttributeError",
     "evalue": "'str' object has no attribute 'pop'",
     "output_type": "error",
     "traceback": [
      "\u001b[1;31m---------------------------------------------------------------------------\u001b[0m",
      "\u001b[1;31mAttributeError\u001b[0m                            Traceback (most recent call last)",
      "\u001b[1;32m<ipython-input-116-2cec9fbdcbca>\u001b[0m in \u001b[0;36m<module>\u001b[1;34m\u001b[0m\n\u001b[0;32m     12\u001b[0m \u001b[1;33m\u001b[0m\u001b[0m\n\u001b[0;32m     13\u001b[0m     \u001b[1;32mreturn\u001b[0m\u001b[1;33m\u001b[0m\u001b[1;33m\u001b[0m\u001b[0m\n\u001b[1;32m---> 14\u001b[1;33m \u001b[0mdeletecontact\u001b[0m\u001b[1;33m(\u001b[0m\u001b[1;34m\"DataFiles/contact.txt\"\u001b[0m\u001b[1;33m,\u001b[0m\u001b[1;34m\"niha1\"\u001b[0m\u001b[1;33m)\u001b[0m\u001b[1;33m\u001b[0m\u001b[1;33m\u001b[0m\u001b[0m\n\u001b[0m\u001b[0;32m     15\u001b[0m \u001b[1;33m\u001b[0m\u001b[0m\n\u001b[0;32m     16\u001b[0m \u001b[1;33m\u001b[0m\u001b[0m\n",
      "\u001b[1;32m<ipython-input-116-2cec9fbdcbca>\u001b[0m in \u001b[0;36mdeletecontact\u001b[1;34m(filename, name)\u001b[0m\n\u001b[0;32m      4\u001b[0m             \u001b[1;32mfor\u001b[0m \u001b[0mi\u001b[0m \u001b[1;32min\u001b[0m \u001b[0mf\u001b[0m\u001b[1;33m:\u001b[0m\u001b[1;33m\u001b[0m\u001b[1;33m\u001b[0m\u001b[0m\n\u001b[0;32m      5\u001b[0m                 \u001b[1;32mif\u001b[0m \u001b[0mname\u001b[0m \u001b[1;32min\u001b[0m \u001b[0mi\u001b[0m\u001b[1;33m:\u001b[0m\u001b[1;33m\u001b[0m\u001b[1;33m\u001b[0m\u001b[0m\n\u001b[1;32m----> 6\u001b[1;33m                     \u001b[0mi\u001b[0m\u001b[1;33m.\u001b[0m\u001b[0mpop\u001b[0m\u001b[1;33m(\u001b[0m\u001b[1;33m)\u001b[0m\u001b[1;33m\u001b[0m\u001b[1;33m\u001b[0m\u001b[0m\n\u001b[0m\u001b[0;32m      7\u001b[0m                     \u001b[0mprint\u001b[0m\u001b[1;33m(\u001b[0m\u001b[1;34m\"name deleted\"\u001b[0m\u001b[1;33m)\u001b[0m\u001b[1;33m\u001b[0m\u001b[1;33m\u001b[0m\u001b[0m\n\u001b[0;32m      8\u001b[0m         \u001b[1;32melse\u001b[0m\u001b[1;33m:\u001b[0m\u001b[1;33m\u001b[0m\u001b[1;33m\u001b[0m\u001b[0m\n",
      "\u001b[1;31mAttributeError\u001b[0m: 'str' object has no attribute 'pop'"
     ]
    }
   ],
   "source": [
    "def deletecontact(filename,name):\n",
    "    with open('DataFiles/contact.txt','r') as f:\n",
    "        if checkcontactexist(name):\n",
    "            for i in f:\n",
    "                if name in i:\n",
    "                    i.pop()\n",
    "                    print(\"name deleted\")\n",
    "        else:\n",
    "            print(\"name not found\")\n",
    "            \n",
    "            \n",
    "                \n",
    "    return\n",
    "deletecontact(\"DataFiles/contact.txt\",\"niha1\")\n",
    "                \n",
    "                "
   ]
  },
  {
   "cell_type": "code",
   "execution_count": null,
   "metadata": {},
   "outputs": [],
   "source": []
  }
 ],
 "metadata": {
  "kernelspec": {
   "display_name": "Python 3",
   "language": "python",
   "name": "python3"
  },
  "language_info": {
   "codemirror_mode": {
    "name": "ipython",
    "version": 3
   },
   "file_extension": ".py",
   "mimetype": "text/x-python",
   "name": "python",
   "nbconvert_exporter": "python",
   "pygments_lexer": "ipython3",
   "version": "3.7.3"
  }
 },
 "nbformat": 4,
 "nbformat_minor": 2
}
