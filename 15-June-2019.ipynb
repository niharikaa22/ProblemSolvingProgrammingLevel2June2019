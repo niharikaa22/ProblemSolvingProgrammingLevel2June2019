{
 "cells": [
  {
   "cell_type": "markdown",
   "metadata": {},
   "source": [
    "## Practicing progams in HackerEarth\n"
   ]
  },
  {
   "cell_type": "code",
   "execution_count": null,
   "metadata": {},
   "outputs": [],
   "source": [
    "# You have been given 3 integers - l, r and k.\n",
    "# Find how many numbers between l and r (both inclusive) are divisible by k.\n",
    "# You do not need to print these numbers, you just have to find their count.\n",
    "\n",
    "num=input()\n",
    "li=num.split()\n",
    "l=int(li[0])\n",
    "r=int(li[1])\n",
    "k=int(li[2])\n",
    "    \n",
    "def countdiv(l,r,k):\n",
    "    count=0\n",
    "    for i in range(l,r+1):\n",
    "        if l%k==0:\n",
    "            count=count+1\n",
    "    print(count)\n",
    "    return\n",
    "countdiv(l,r,k)"
   ]
  },
  {
   "cell_type": "code",
   "execution_count": 19,
   "metadata": {},
   "outputs": [
    {
     "name": "stdout",
     "output_type": "stream",
     "text": [
      "abcdE\n",
      "ABCDe"
     ]
    }
   ],
   "source": [
    "#You have been given a String S consisting of uppercase and lowercase English alphabets. \n",
    "#You need to change the case of each alphabet in this String.\n",
    "#That is, all the uppercase letters should be converted to lowercase \n",
    "#and all the lowercase letters should be converted to uppercase. \n",
    "#You need to then print the resultant String to output.\n",
    "\n",
    "s=input()\n",
    "def toggle(s):\n",
    "    m=[]\n",
    "    for i in s:\n",
    "        if i.islower():\n",
    "            m.append(i.upper())\n",
    "        elif i.isupper():\n",
    "            m.append(i.lower())\n",
    "    for i in m:\n",
    "        print(i,end=\"\")\n",
    "    \n",
    "toggle(s)\n",
    "    "
   ]
  },
  {
   "cell_type": "code",
   "execution_count": 3,
   "metadata": {},
   "outputs": [
    {
     "name": "stdout",
     "output_type": "stream",
     "text": [
      "madam\n",
      "YES\n"
     ]
    }
   ],
   "source": [
    "#You have been given a String S. You need to find and print whether this string is a palindrome or not.\n",
    "#If yes, print \"YES\" (without quotes), else print \"NO\" (without quotes).\n",
    "\n",
    "s=input()\n",
    "def paralindrome(s):\n",
    "    a=s[-1::-1]\n",
    "    if s==a:\n",
    "        print(\"YES\")\n",
    "    else:\n",
    "        print(\"NO\")\n",
    "    return\n",
    "paralindrome(s)\n",
    "\n",
    "\n",
    "\n",
    "\n",
    "        "
   ]
  },
  {
   "cell_type": "code",
   "execution_count": null,
   "metadata": {},
   "outputs": [],
   "source": [
    "# prime number in a range\n",
    "\n",
    "def isprime(m):\n",
    "    count=0\n",
    "    for i in range(1,m+1):\n",
    "            if m%i==0:\n",
    "                count+=1\n",
    "    if count==2:\n",
    "        return True\n",
    "    else:\n",
    "        return False\n",
    "j=int(input())\n",
    "\n",
    "\n",
    "def prime(n):\n",
    "    for h in range(1,n+1):\n",
    "        if isprime(h):\n",
    "            print(h,end=\" \")\n",
    "    return\n",
    "prime(j)\n",
    "            \n",
    "                    \n",
    "            \n",
    " \n",
    "    "
   ]
  },
  {
   "cell_type": "code",
   "execution_count": null,
   "metadata": {},
   "outputs": [
    {
     "name": "stdout",
     "output_type": "stream",
     "text": [
      "100\n",
      "niharikaa aahjjedw\n",
      "NO\n"
     ]
    }
   ],
   "source": [
    "#Two strings comparision:\n",
    "\n",
    "size = input()\n",
    "size = int(size)\n",
    "\n",
    "for i in range(1,size+1):\n",
    "    name = input()\n",
    "    s = name.split()\n",
    "    s1 = s[0]\n",
    "    s2 = s[1]\n",
    "    s1 = sorted(s1)\n",
    "    s2 = sorted(s2)\n",
    "   \n",
    "    if(s1 == s2):\n",
    "        print(\"YES\")\n",
    "    else:\n",
    "        print(\"NO\")\n",
    "\n",
    "    \n"
   ]
  },
  {
   "cell_type": "code",
   "execution_count": 7,
   "metadata": {},
   "outputs": [
    {
     "data": {
      "text/plain": [
       "97"
      ]
     },
     "execution_count": 7,
     "metadata": {},
     "output_type": "execute_result"
    }
   ],
   "source": [
    "ord('a')"
   ]
  },
  {
   "cell_type": "code",
   "execution_count": 2,
   "metadata": {},
   "outputs": [
    {
     "name": "stdout",
     "output_type": "stream",
     "text": [
      "2 42 8 23\n",
      "5 41\n"
     ]
    }
   ],
   "source": [
    "##Rahul is a very busy persion he dont wan't to waste his time .\n",
    "#He keeps account of duration of each and every work. \n",
    "#Now he don't even get time to calculate duration of works, \n",
    "#So your job is to count the durations for each work and give it to rahul.\n",
    "\n",
    "#Input:\n",
    "\n",
    "#First line will be given by N number of works\n",
    "#Next N line will be given SH,SM,EH and EM  \n",
    "#each separated by space(SH=starting hr, SM=starting min, EH=ending hr, EM=ending min)\n",
    "\n",
    "#input: start time,end time (hh-mm)\n",
    "# hh -(00,23) - (00 00 ,23 59)\n",
    "#mm-(00,50)\n",
    "#hh mm (00 00,23 59)\n",
    "#output:time difference in hh mm\n",
    "def minutediff(s):\n",
    "    s=s.split()\n",
    "    sh=int(s[0])\n",
    "    sm=int(s[1])\n",
    "    eh=int(s[2])\n",
    "    em=int(s[3])\n",
    "    startminutes=(sh*60)+sm\n",
    "    endminutes=(eh*60)+em\n",
    "    return endminutes-startminutes\n",
    "def outputtimeformat(minutes):\n",
    "    hh=minutes//60\n",
    "    mm=minutes%60\n",
    "    print(hh,mm)\n",
    "    return\n",
    "n=int(input())\n",
    "for i in range(1,n+1):\n",
    "    s=input()\n",
    "    minutes=minutediff(s)\n",
    "    outputtimeformat(minutes)\n",
    "\n"
   ]
  },
  {
   "cell_type": "code",
   "execution_count": 3,
   "metadata": {},
   "outputs": [
    {
     "name": "stdout",
     "output_type": "stream",
     "text": [
      "abc\n",
      "6\n"
     ]
    }
   ],
   "source": [
    "s=input()\n",
    "sum=0\n",
    "for i in s:\n",
    "    sum=(sum+ord(i)-96)\n",
    "print(sum)"
   ]
  },
  {
   "cell_type": "code",
   "execution_count": 17,
   "metadata": {},
   "outputs": [],
   "source": [
    "# You are given an array of n numbers and q queries. \n",
    "#For each query you have to print the floor of the expected value(mean) of the subarray from L to R.\n",
    "#First line contains two integers N and Q denoting number of array elements and number of queries.\n",
    "#Next line contains N space seperated integers denoting array elements.\n",
    "#Next Q lines contain two integers L and R(indices of the array).\n",
    "#print a single integer denoting the answer.\n",
    "\n",
    "#line1: array size(n),no of queries(q)\n",
    "#line2:n array elements\n",
    "#next q lines:query-sub array \n",
    "\n",
    "\n",
    "\n",
    "    "
   ]
  },
  {
   "cell_type": "code",
   "execution_count": 16,
   "metadata": {},
   "outputs": [
    {
     "name": "stdout",
     "output_type": "stream",
     "text": [
      "5\n",
      "1 2 3 4 5\n",
      "120\n"
     ]
    }
   ],
   "source": [
    "#You have been given an array A of size N consisting of positive integers. \n",
    "#You need to find and print the product of all the number in this array Modulo(10^9)+7 .\n",
    "\n",
    "n=int(input())\n",
    "s=input()\n",
    "s=s.split()\n",
    "l=[]\n",
    "answer=1\n",
    "for i in s:\n",
    "    answer=(answer*int(i))%((10**9)+7)\n",
    "print(answer)\n",
    "    "
   ]
  },
  {
   "cell_type": "code",
   "execution_count": 22,
   "metadata": {},
   "outputs": [
    {
     "ename": "NameError",
     "evalue": "name 'floor' is not defined",
     "output_type": "error",
     "traceback": [
      "\u001b[1;31m---------------------------------------------------------------------------\u001b[0m",
      "\u001b[1;31mNameError\u001b[0m                                 Traceback (most recent call last)",
      "\u001b[1;32m<ipython-input-22-f9bcdbefa65f>\u001b[0m in \u001b[0;36m<module>\u001b[1;34m\u001b[0m\n\u001b[0;32m      1\u001b[0m \u001b[0ma\u001b[0m\u001b[1;33m=\u001b[0m\u001b[1;36m123\u001b[0m\u001b[1;33m\u001b[0m\u001b[1;33m\u001b[0m\u001b[0m\n\u001b[1;32m----> 2\u001b[1;33m \u001b[0mfloor\u001b[0m\u001b[1;33m(\u001b[0m\u001b[0ma\u001b[0m\u001b[1;33m[\u001b[0m\u001b[1;36m0\u001b[0m\u001b[1;33m]\u001b[0m\u001b[1;33m)\u001b[0m\u001b[1;33m\u001b[0m\u001b[1;33m\u001b[0m\u001b[0m\n\u001b[0m",
      "\u001b[1;31mNameError\u001b[0m: name 'floor' is not defined"
     ]
    }
   ],
   "source": [
    "a=123\n",
    "floor(a[0])"
   ]
  },
  {
   "cell_type": "code",
   "execution_count": 26,
   "metadata": {},
   "outputs": [
    {
     "ename": "TypeError",
     "evalue": "floor() takes exactly one argument (2 given)",
     "output_type": "error",
     "traceback": [
      "\u001b[1;31m---------------------------------------------------------------------------\u001b[0m",
      "\u001b[1;31mTypeError\u001b[0m                                 Traceback (most recent call last)",
      "\u001b[1;32m<ipython-input-26-c1162688b517>\u001b[0m in \u001b[0;36m<module>\u001b[1;34m\u001b[0m\n\u001b[0;32m      1\u001b[0m \u001b[1;32mimport\u001b[0m \u001b[0mmath\u001b[0m\u001b[1;33m\u001b[0m\u001b[1;33m\u001b[0m\u001b[0m\n\u001b[1;32m----> 2\u001b[1;33m \u001b[0mmath\u001b[0m\u001b[1;33m.\u001b[0m\u001b[0mfloor\u001b[0m\u001b[1;33m(\u001b[0m\u001b[1;36m2.01\u001b[0m\u001b[1;33m,\u001b[0m\u001b[1;36m2.5\u001b[0m\u001b[1;33m)\u001b[0m\u001b[1;33m\u001b[0m\u001b[1;33m\u001b[0m\u001b[0m\n\u001b[0m",
      "\u001b[1;31mTypeError\u001b[0m: floor() takes exactly one argument (2 given)"
     ]
    }
   ],
   "source": []
  },
  {
   "cell_type": "code",
   "execution_count": null,
   "metadata": {},
   "outputs": [],
   "source": []
  }
 ],
 "metadata": {
  "kernelspec": {
   "display_name": "Python 3",
   "language": "python",
   "name": "python3"
  },
  "language_info": {
   "codemirror_mode": {
    "name": "ipython",
    "version": 3
   },
   "file_extension": ".py",
   "mimetype": "text/x-python",
   "name": "python",
   "nbconvert_exporter": "python",
   "pygments_lexer": "ipython3",
   "version": "3.7.3"
  }
 },
 "nbformat": 4,
 "nbformat_minor": 2
}
