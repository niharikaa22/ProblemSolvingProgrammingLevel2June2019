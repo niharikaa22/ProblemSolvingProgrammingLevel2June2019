{
 "cells": [
  {
   "cell_type": "markdown",
   "metadata": {},
   "source": [
    "#### Practice test questions:"
   ]
  },
  {
   "cell_type": "code",
   "execution_count": 5,
   "metadata": {},
   "outputs": [
    {
     "name": "stdout",
     "output_type": "stream",
     "text": [
      "3 2 1 3 1 0 0 0 0 3 "
     ]
    }
   ],
   "source": [
    "# Frequency count of the digits available in a string:\n",
    "\n",
    "def uniquedata(allnumbers):\n",
    "    unique=[]\n",
    "    for n in allnumbers:\n",
    "        if n not in unique:\n",
    "            unique.append(n)\n",
    "    return unique\n",
    "def digitfrequency(s):\n",
    "    allnumbers=[]\n",
    "    for i in s:\n",
    "        if i.isdigit():\n",
    "            allnumbers.append(i)\n",
    "    unique=uniquedata(allnumbers)\n",
    "    for i in range(0,10):\n",
    "        if str(i) not in unique:\n",
    "            print(0,end=\" \")\n",
    "        else:\n",
    "            print(allnumbers.count(str(i)),end=\" \")\n",
    "    return\n",
    "digitfrequency(\"233430910jid9901\")\n",
    "    \n",
    "        \n",
    "    \n",
    "            "
   ]
  },
  {
   "cell_type": "code",
   "execution_count": 13,
   "metadata": {},
   "outputs": [
    {
     "data": {
      "text/plain": [
       "2"
      ]
     },
     "execution_count": 13,
     "metadata": {},
     "output_type": "execute_result"
    }
   ],
   "source": [
    "# Function to check if two strings are equal:\n",
    "\n",
    "# abc cba --->True\n",
    "# aabbcc ccbbaaa ---->False\n",
    "\n",
    "def checkanagram(s1,s2):\n",
    "    if len(s1)!=len(s2):\n",
    "        return False\n",
    "    if sorted(s1) == sorted(s2):\n",
    "        return True\n",
    "    return False\n",
    "checkanagram(\"abcdsjlslkg\",\"bckjfksjksja\")\n",
    "\n",
    "\n",
    "def chardeletionanagram(s1,s2):\n",
    "    uncommon=[]\n",
    "    for i in s1:\n",
    "        if i not in s2:\n",
    "            uncommon.append(i)\n",
    "    for i in s2:\n",
    "        if i not in s1:\n",
    "            uncommon.append(i)\n",
    "    count=len(uncommon)\n",
    "    freqs1={}\n",
    "    freqs2={}\n",
    "    uniqs1=[]\n",
    "    uniqs2=[]\n",
    "    for i in s1:\n",
    "        if i not in uncommon and i not in uniqs1:\n",
    "            freqs1[i]=s1.count(i)\n",
    "            uniqs1.append(i)\n",
    "    for i in s2:\n",
    "        if i not in uncommon and i not in uniqs2:\n",
    "            freqs2[i]=s2.count(i)\n",
    "            uniqs2.append(i)\n",
    "    for key in freqs1.keys():\n",
    "        count+=abs(freqs1[key]-freqs2[key])\n",
    "    return count\n",
    "chardeletionanagram(\"abc\",\"abd\")\n",
    "        \n",
    "            \n",
    "    "
   ]
  },
  {
   "cell_type": "code",
   "execution_count": 24,
   "metadata": {},
   "outputs": [
    {
     "data": {
      "text/plain": [
       "'b'"
      ]
     },
     "execution_count": 24,
     "metadata": {},
     "output_type": "execute_result"
    }
   ],
   "source": [
    "# Largest number in a list\n",
    "# Second Largest number in a list\n",
    "# Kth largest number in a list\n",
    "\n",
    "# Element with highest frequency\n",
    "# Second Highest Frequency\n",
    "# Kth Highest Frequency\n",
    "\n",
    "def klargestfrequency(s,k):\n",
    "    #construct the frequency dictionary\n",
    "    unique=[]\n",
    "    freq={}\n",
    "    \n",
    "    for i in s:\n",
    "        if i not in unique:\n",
    "            freq[i]=s.count(i)\n",
    "            \n",
    "    values=sorted(freq.values(),reverse=True)\n",
    "    uniquevalues=list(set(values))\n",
    "    uniquevalues=sorted(uniquevalues,reverse=True)\n",
    "    if k<=len(uniquevalues):\n",
    "        kvalue=uniquevalues[k-1]\n",
    "    else:\n",
    "        return -1\n",
    "    li=[]\n",
    "    for item in freq.items():\n",
    "        if item[1]==kvalue:\n",
    "            li.append(item[0])\n",
    "    return min(li)\n",
    "klargestfrequency(\"aabcd\",2)\n",
    "            \n",
    "   \n",
    "    "
   ]
  },
  {
   "cell_type": "code",
   "execution_count": null,
   "metadata": {},
   "outputs": [],
   "source": []
  }
 ],
 "metadata": {
  "kernelspec": {
   "display_name": "Python 3",
   "language": "python",
   "name": "python3"
  },
  "language_info": {
   "codemirror_mode": {
    "name": "ipython",
    "version": 3
   },
   "file_extension": ".py",
   "mimetype": "text/x-python",
   "name": "python",
   "nbconvert_exporter": "python",
   "pygments_lexer": "ipython3",
   "version": "3.7.3"
  }
 },
 "nbformat": 4,
 "nbformat_minor": 2
}
