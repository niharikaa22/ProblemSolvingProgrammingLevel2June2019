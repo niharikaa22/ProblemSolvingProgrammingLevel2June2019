{
 "cells": [
  {
   "cell_type": "markdown",
   "metadata": {},
   "source": [
    "### 20-June-2019\n",
    "### Objectives\n",
    "- Regular Expressions\n",
    "  - Constructing Regular Expressions for various use case\n",
    "  - Regular Expressions Module and related in Python\n",
    "  - Improving the contacts application with name and phone number validation using regular expressions\n",
    "- File Handling\n",
    "  - Text files\n",
    "  - Upgrading the contacts Application to store contact information in a text file"
   ]
  },
  {
   "cell_type": "code",
   "execution_count": null,
   "metadata": {},
   "outputs": [],
   "source": [
    "### Regular Expressions:\n",
    "\n",
    "# Pattern Matching\n",
    "# Symbolic Notation of a pattern\n",
    "    # Pattern : Format which repeats\n",
    "    # Pattern(RE) represents the set of all values matches a particular pattern\n",
    "# [0-9] --> Any digit\n",
    "# [a-z] --> Any lower case alphabet \n",
    "# [2468]--> All single digit multiples of 2\n",
    "  \"\"\"\" [8642]\n",
    "    [6824]\n",
    "    $----represents the end of the string\n",
    " - ^[0-9]{1}$ ----> for aceepting only one digit  \n",
    " - ^[0-9]{2}$ ----> for accepting only two digits\n",
    " - ^[0-9]{3}$ ----> for accepting only three digits\n",
    " - ^[0-9]{3}   ---->for accepting the three digits without considering the end \n",
    " -  [0-9]{3}$ -----> for accepting the last three digits\n",
    " - ^[0-9]*0$  ------> for checking the multiple of 10\n",
    " - ^[0-9]*[0|5]$  -------> All multiplies of 5\n",
    " - ^[1-9][0-9]*[05]$-----> All multiplies of 5 other than 5\n",
    " - ^[1-9][0-9]{10}$  -------> All 10 digit numbers\n",
    " - ^[9876]\\d[0-9]{8}$ -------> Validating Phone numbers in India starting with 9876 followed by 9 digits (or)\n",
    "    ^[6-9][0-9]{9}$|^[0][6-9][0-9]{9}$ ----another method\n",
    "     [+][9][1][-][6-9][0-9]{9}$ ------another method\n",
    "     - ^[a-zA-Z0-9]*@[a-z]*.com|^[a-zA-Z0-9]*@[a-z]*.in$ ------->Email Validation(username@domain.extension)\n",
    " -  (print)-----for searching a particular word\n",
    "            [p][r][i][n][t]------another method of searching the word \n",
    "            \n",
    "* Email Validation\n",
    "   * username\n",
    "       * length of username : [6-15]\n",
    "       * No special characters other than _ and .\n",
    "       * Should not begin and end with _ .\n",
    "       * Character Set : all digits and alphabet\n",
    "       \n",
    "   * domain\n",
    "       * Length of domain : [3,18]\n",
    "       * No special characters\n",
    "       * Character set: all digits and alphabet\n",
    "   * extension\n",
    "       * Length of extension: [2,4]\n",
    "       * No special characters\n",
    "       * character set:lower case alphabet        \n",
    "       ^[0-9a-z][0-9a-z_.]{4,13}[0-9a-z][@][a-z0-9]{3,18}[.][a-z]{2,4}$\n",
    " * ^[a]...*[z]any of length 5 starts with a and ends with z\n",
    "   ^[a].*[z]$ \"\"\"\n",
    "    \n",
    " \n"
   ]
  },
  {
   "cell_type": "code",
   "execution_count": 9,
   "metadata": {},
   "outputs": [
    {
     "data": {
      "text/plain": [
       "False"
      ]
     },
     "execution_count": 9,
     "metadata": {},
     "output_type": "execute_result"
    }
   ],
   "source": [
    "# how to validate a phone number\n",
    "\n",
    "import re\n",
    "\n",
    "def phonenumbervalidator(number):\n",
    "    pattern=\"^[6-9][0-9]{9}$|^[0][6-9][0-9]{9}$\"\n",
    "    if re.match(pattern,str(number)):\n",
    "        return True\n",
    "    else:\n",
    "        return False\n",
    "#phonenumbervalidator(8985485)\n",
    "\n",
    "def emailvalidator(email):\n",
    "    pattern=\"^[0-9a-z][0-9a-z_.]{4,13}[0-9a-z][@][a-z0-9]{3,18}[.][a-z]{2,4}$\"\n",
    "    if re.match(pattern,email):\n",
    "        return True\n",
    "    return False\n",
    "emailvalidator(\"_12nihadh@gmail.com\")"
   ]
  },
  {
   "cell_type": "code",
   "execution_count": 7,
   "metadata": {},
   "outputs": [
    {
     "name": "stdout",
     "output_type": "stream",
     "text": [
      "contact name3 added\n",
      "Contact name3 already exists\n"
     ]
    }
   ],
   "source": [
    "contacts={}\n",
    "def addcontact(name,phone):    # name is the  key and phone is the value\n",
    "    # Verify that the contact doesnot already exist\n",
    "    if name not in contacts and phonenumbervalidator(phone):\n",
    "        contacts[name]=phone\n",
    "        print(\"contact %s added\" %name)\n",
    "    if name in contacts:\n",
    "        print(\"Contact %s already exists\" % name)\n",
    "    elif not phonenumbervalidator(phone):\n",
    "        print(\"phone number is invalid\")\n",
    "    return\n",
    "addcontact(\"name3\",\"8923277896\")"
   ]
  },
  {
   "cell_type": "code",
   "execution_count": 36,
   "metadata": {},
   "outputs": [
    {
     "name": "stdout",
     "output_type": "stream",
     "text": [
      "contact added\n"
     ]
    }
   ],
   "source": [
    "contacts={}\n",
    "def addcontact(name,phone,email):\n",
    "    if name in contacts:\n",
    "        print(\"name already exist\")\n",
    "    else:\n",
    "        if not phonenumbervalidator(phone):\n",
    "            print(\"not valid number\")\n",
    "            return\n",
    "        if not emailvalidator(email):\n",
    "            print(\"Invalid email\")\n",
    "            return\n",
    "        newcontact =[]\n",
    "        newcontact.append(phone)\n",
    "        newcontact.append(email)\n",
    "        contacts[name]=newcontact\n",
    "        print(\"contact added\")\n",
    "    return\n",
    "addcontact(\"name10\",\"9223668902\",\"abcdefgh@gmail.com\")\n",
    "        \n",
    "        "
   ]
  },
  {
   "cell_type": "code",
   "execution_count": 39,
   "metadata": {},
   "outputs": [
    {
     "name": "stdout",
     "output_type": "stream",
     "text": [
      "name\n",
      "phone: 9223668902\n",
      "email: abcdefgh@gmail.com\n"
     ]
    }
   ],
   "source": [
    "def searchcontact(name):\n",
    "    if name in contacts:\n",
    "        print(\"name\")\n",
    "        print(\"phone:\",contacts[name][0])\n",
    "        print(\"email:\",contacts[name][1])\n",
    "    else:\n",
    "        print(\"%s does not exist\" % name)\n",
    "    return\n",
    "searchcontact(\"name10\")"
   ]
  },
  {
   "cell_type": "code",
   "execution_count": 46,
   "metadata": {},
   "outputs": [
    {
     "name": "stdout",
     "output_type": "stream",
     "text": [
      "1 contacts added\n"
     ]
    },
    {
     "data": {
      "text/plain": [
       "{'name10': ['9223668902', 'abcdefgh@gmail.com'], 'name4': 'abcdefgh@gmail.com'}"
      ]
     },
     "execution_count": 46,
     "metadata": {},
     "output_type": "execute_result"
    }
   ],
   "source": [
    "def importcontacts(newcontact):\n",
    "    contacts.update(newcontact)\n",
    "    print(len(newcontact.keys()),\"contacts added\")\n",
    "    return\n",
    "newcontact={\"name4\":[1234567890],\"name4\":\"abcdefgh@gmail.com\"}\n",
    "importcontacts(newcontact)\n",
    "contacts\n",
    "\n"
   ]
  },
  {
   "cell_type": "code",
   "execution_count": 50,
   "metadata": {},
   "outputs": [
    {
     "name": "stdout",
     "output_type": "stream",
     "text": [
      "name10 \n",
      " phone: 9223668902 \n",
      " Email : abcdefgh@gmail.com\n",
      "name4 \n",
      " phone: a \n",
      " Email : b\n"
     ]
    }
   ],
   "source": [
    "# function to list all contacts\n",
    "\n",
    "def listallcontacts():\n",
    "    for contact,info in contacts.items():\n",
    "        print(contact,\"\\n\",\"phone:\",info[0],\"\\n\",\"Email :\",info[1])\n",
    "    return\n",
    "listallcontacts()\n"
   ]
  },
  {
   "cell_type": "markdown",
   "metadata": {},
   "source": [
    "#### File Handling in Python:\n",
    "\n",
    "* File --Document containing information residing\n",
    "* Types --Text,PDF,CSV etc\n",
    "* File I/O --channelling I/O data to files\n",
    "* Defaault I/O channels-Keyboard/screen\n",
    "\n",
    "change I/O channel to files for reading and writing\n",
    "\n",
    "Read a file-Input from file\n",
    "write to a file -Output to a file\n",
    "Read/Write file -Open (filename,mode)"
   ]
  },
  {
   "cell_type": "code",
   "execution_count": 70,
   "metadata": {},
   "outputs": [
    {
     "name": "stdout",
     "output_type": "stream",
     "text": [
      "Line1\n",
      "Line2\n",
      "Line3\n",
      "Line1\n",
      "Line2\n",
      "Line3"
     ]
    }
   ],
   "source": [
    "# Function to read  a file:\n",
    "\n",
    "def readfile(filename):\n",
    "    f=open(filename,'r')\n",
    "    filedata=f.read()\n",
    "    f.close\n",
    "    return filedata\n",
    "filename='DataFiles/data.txt'\n",
    "filedata=readfile(filename)\n",
    "for line in filedata.split('\\n'):\n",
    "    print(line)\n",
    "# another way\n",
    "\n",
    "def printfile(filename):\n",
    "    f=open(filename,'r')\n",
    "    for line in f:\n",
    "        print(line,end=\"\")\n",
    "    return\n",
    "printfile(filename)\n",
    "    "
   ]
  },
  {
   "cell_type": "code",
   "execution_count": 72,
   "metadata": {},
   "outputs": [],
   "source": [
    "#Function to write data into a file\n",
    "\n",
    "def writeintofile(filename,filedata):\n",
    "    with open(filename,'w')as f:\n",
    "        f.write(filedata)\n",
    "    return\n",
    "\n",
    "filename=\"DataFiles/data.txt\"\n",
    "writeintofile(filename,\"new data\")"
   ]
  },
  {
   "cell_type": "code",
   "execution_count": 73,
   "metadata": {},
   "outputs": [],
   "source": [
    "def appendtofile(filename,filedata):\n",
    "    with open(filename,'a')as f:\n",
    "        f.write(filedata)\n",
    "    return\n",
    "filedata=\"line2/nline3\"\n",
    "appendtofile(filename,filedata)"
   ]
  },
  {
   "cell_type": "code",
   "execution_count": 74,
   "metadata": {},
   "outputs": [],
   "source": [
    "def appendtofile(filename,filedata):\n",
    "    with open(filename,'a')as f:\n",
    "        for line in filedata:\n",
    "            f.write(\"\\n\"+line)\n",
    "    return\n",
    "filedata=[\"line4\",\"line5\"]\n",
    "appendtofile(filename,filedata)"
   ]
  },
  {
   "cell_type": "code",
   "execution_count": null,
   "metadata": {},
   "outputs": [],
   "source": []
  }
 ],
 "metadata": {
  "kernelspec": {
   "display_name": "Python 3",
   "language": "python",
   "name": "python3"
  },
  "language_info": {
   "codemirror_mode": {
    "name": "ipython",
    "version": 3
   },
   "file_extension": ".py",
   "mimetype": "text/x-python",
   "name": "python",
   "nbconvert_exporter": "python",
   "pygments_lexer": "ipython3",
   "version": "3.7.3"
  }
 },
 "nbformat": 4,
 "nbformat_minor": 2
}
