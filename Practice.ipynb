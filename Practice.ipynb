{
 "cells": [
  {
   "cell_type": "code",
   "execution_count": 16,
   "metadata": {},
   "outputs": [
    {
     "name": "stdout",
     "output_type": "stream",
     "text": [
      "hello\n"
     ]
    },
    {
     "data": {
      "text/plain": [
       "'ol'"
      ]
     },
     "execution_count": 16,
     "metadata": {},
     "output_type": "execute_result"
    }
   ],
   "source": [
    "a=10\n",
    "b=10\n",
    "a%=b\n",
    "s1=\"hello\"\n",
    "print(s1)\n",
    "s1[0]\n",
    "s1[1]\n",
    "s1[1:5]\n",
    "s1[:-1]\n",
    "s1[::-2]\n",
    "s1[:3:-2]\n",
    "s1[:2:-1]\n"
   ]
  },
  {
   "cell_type": "code",
   "execution_count": 19,
   "metadata": {},
   "outputs": [
    {
     "name": "stdout",
     "output_type": "stream",
     "text": [
      "enter the number:2345\n",
      "the given number is odd\n"
     ]
    }
   ],
   "source": [
    "#even or odd\n",
    "\n",
    "a=int(input(\"enter the number:\"))\n",
    "if a%2==0:\n",
    "      print(\"the given number is even\")\n",
    "else:\n",
    "    print(\"the given number is odd\")"
   ]
  },
  {
   "cell_type": "code",
   "execution_count": 20,
   "metadata": {},
   "outputs": [
    {
     "name": "stdout",
     "output_type": "stream",
     "text": [
      "enter the number:12\n",
      "enter the number22\n",
      "enter the number14\n",
      "22  is the greatest number\n"
     ]
    }
   ],
   "source": [
    "#greatest of the three\n",
    "\n",
    "a=int(input(\"enter the number:\"))\n",
    "b=int(input(\"enter the number\"))\n",
    "c=int(input(\"enter the number\"))\n",
    "if a>b and a>c:\n",
    "    print(a,\" is the greatest number\")\n",
    "if b>a and b>c:\n",
    "    print(b,\" is the greatest number\")\n",
    "if c>a and c>b:\n",
    "    print(c,\" is the greatest number\")\n",
    "    \n"
   ]
  },
  {
   "cell_type": "code",
   "execution_count": 23,
   "metadata": {},
   "outputs": [
    {
     "name": "stdout",
     "output_type": "stream",
     "text": [
      "enter the year:1995\n",
      "1995  is not a leap year\n"
     ]
    }
   ],
   "source": [
    "# leap year\n",
    "\n",
    "year=int(input(\"enter the year:\"))\n",
    "if year%400==0 or (year%4==0 and year%100!=0):\n",
    "    print(year,\" is the leap year\")\n",
    "else:\n",
    "    print(year,\" is not a leap year\")"
   ]
  },
  {
   "cell_type": "code",
   "execution_count": 25,
   "metadata": {},
   "outputs": [
    {
     "name": "stdout",
     "output_type": "stream",
     "text": [
      "enter the number:123456790\n",
      "9\n"
     ]
    }
   ],
   "source": [
    "# number of digits in a number\n",
    "\n",
    "a=str(input(\"enter the number:\"))\n",
    "b=len(a)\n",
    "print(b)"
   ]
  },
  {
   "cell_type": "code",
   "execution_count": 29,
   "metadata": {},
   "outputs": [
    {
     "name": "stdout",
     "output_type": "stream",
     "text": [
      "enter the number:140\n",
      "140  is mutliple of 10\n"
     ]
    }
   ],
   "source": [
    "# checking multiple of 10\n",
    "\n",
    "a=int(input(\"enter the number:\"))\n",
    "if a%10==0:\n",
    "    print(a,\" is mutliple of 10\")\n",
    "else:\n",
    "    print(a,\" is not a mutliple of 10\")\n"
   ]
  },
  {
   "cell_type": "code",
   "execution_count": 31,
   "metadata": {},
   "outputs": [
    {
     "name": "stdout",
     "output_type": "stream",
     "text": [
      "enter the number:100\n",
      "100  factor of 1000\n"
     ]
    }
   ],
   "source": [
    "# checking factor of 1000\n",
    "\n",
    "a=int(input(\"enter the number:\"))\n",
    "if 1000%a==0:\n",
    "    print(a,\" factor of 1000\")\n",
    "else:\n",
    "    print(a,\" not a factor of 1000\")"
   ]
  },
  {
   "cell_type": "code",
   "execution_count": 10,
   "metadata": {},
   "outputs": [
    {
     "name": "stdout",
     "output_type": "stream",
     "text": [
      "string is not equal to number\n"
     ]
    }
   ],
   "source": [
    "## string is eqaul to number\n",
    "\n",
    "a=\"Python\"\n",
    "b=1234\n",
    "if str(a) == b:\n",
    "    print(\"string is equal to number\")\n",
    "else:\n",
    "    print(\"string is not equal to number\")\n",
    "    "
   ]
  },
  {
   "cell_type": "code",
   "execution_count": 17,
   "metadata": {},
   "outputs": [
    {
     "name": "stdout",
     "output_type": "stream",
     "text": [
      "enter the number:1225\n",
      "35.0\n"
     ]
    }
   ],
   "source": [
    "# square root of a number\n",
    "\n",
    "num=int(input(\"enter the number:\"))\n",
    "print(num**(0.5))"
   ]
  },
  {
   "cell_type": "code",
   "execution_count": 1,
   "metadata": {},
   "outputs": [
    {
     "data": {
      "text/plain": [
       "400.0"
      ]
     },
     "execution_count": 1,
     "metadata": {},
     "output_type": "execute_result"
    }
   ],
   "source": [
    "# Simple interest\n",
    "\n",
    "def si(i,t,p):\n",
    "    si=(i*t*p)/100\n",
    "    return(si)\n",
    "si(2,10,2000)\n",
    "    \n"
   ]
  },
  {
   "cell_type": "code",
   "execution_count": 5,
   "metadata": {},
   "outputs": [
    {
     "data": {
      "text/plain": [
       "314.0"
      ]
     },
     "execution_count": 5,
     "metadata": {},
     "output_type": "execute_result"
    }
   ],
   "source": [
    "#area of a circle\n",
    "\n",
    "def circlearea(r):\n",
    "    area=3.14*r**2\n",
    "    return area\n",
    "circlearea(10)"
   ]
  },
  {
   "cell_type": "code",
   "execution_count": 40,
   "metadata": {},
   "outputs": [
    {
     "name": "stdout",
     "output_type": "stream",
     "text": [
      "10\n",
      "2 3 5 7 "
     ]
    }
   ],
   "source": [
    "# finding prime numbers in a given range:\n",
    "def isprime(n):\n",
    "    count=0\n",
    "    for i in range(1,n+1):\n",
    "        if n%i==0:\n",
    "            count+=1\n",
    "    if count<3:\n",
    "        return True\n",
    "    else:\n",
    "        return False\n",
    "    return\n",
    "n=int(input())\n",
    "isprime(n)\n",
    "\n",
    "def primerange(n):\n",
    "    for i in range(2,n+1):\n",
    "        if isprime(i):\n",
    "            print(i,end=\" \")\n",
    "    return\n",
    "primerange(n)\n",
    "\n",
    "\n",
    "        "
   ]
  },
  {
   "cell_type": "code",
   "execution_count": 3,
   "metadata": {},
   "outputs": [
    {
     "name": "stdout",
     "output_type": "stream",
     "text": [
      "niharikaa\n",
      "niha\n",
      "niha\n",
      "niharikaa\n"
     ]
    }
   ],
   "source": [
    "# swap two variables:\n",
    "\n",
    "a=input()\n",
    "b=input()\n",
    "c=0\n",
    "def swap(a,b):\n",
    "    c=a\n",
    "    a=b\n",
    "    print(a)\n",
    "    b=c\n",
    "    print(b)\n",
    "    return\n",
    "swap(a,b)\n",
    "    \n",
    "    "
   ]
  },
  {
   "cell_type": "code",
   "execution_count": 15,
   "metadata": {},
   "outputs": [
    {
     "name": "stdout",
     "output_type": "stream",
     "text": [
      "10\n",
      "6\n",
      "2\n",
      "9\n",
      "7\n",
      "10\n",
      "6\n",
      "7\n",
      "10\n",
      "9\n",
      "9\n"
     ]
    }
   ],
   "source": [
    "#random integers:\n",
    "\n",
    "import random\n",
    "n=int(input())\n",
    "for i in range(1,n+1):\n",
    "    print(random.randint(1,10))\n"
   ]
  },
  {
   "cell_type": "code",
   "execution_count": 1,
   "metadata": {},
   "outputs": [
    {
     "name": "stdout",
     "output_type": "stream",
     "text": [
      "180\n",
      "1\n",
      "180 180\n",
      "ACCEPTED\n"
     ]
    }
   ],
   "source": [
    "# Roy wants to change his profile picture on Facebook. \n",
    "#Now Facebook has some restriction over the dimension of picture that we can upload.\n",
    "#Minimum dimension of the picture can be L x L, where L is the length of the side of square.\n",
    "\n",
    "#Now Roy has N photos of various dimensions.\n",
    "#Dimension of a photo is denoted as W x H \n",
    "#where W - width of the photo and H - Height of the photo\n",
    "\n",
    "#When any photo is uploaded following events may occur:\n",
    "\n",
    "#[1] If any of the width or height is less than L, user is prompted to upload another one. Print \"UPLOAD ANOTHER\" in this case.\n",
    "#[2] If width and height, both are large enough and \n",
    "#(a) if the photo is already square then it is accepted. Print \"ACCEPTED\" in this case.\n",
    "#(b) else user is prompted to crop it. Print \"CROP IT\" in this case.\n",
    "\n",
    "def profile(l,n,a):\n",
    "    w=int(a[0])\n",
    "    h=int(a[1])\n",
    "    if (w<l or h<l) and (w==h):\n",
    "        print(\"UPLOAD ANOTHER\")\n",
    "    elif w==h:\n",
    "        print(\"ACCEPTED\")\n",
    "    elif w>=l and h>=l:\n",
    "        print(\"CROP IT\")\n",
    "       #print(l,n,w,h)\n",
    "    elif (w<l and h>l)or(h<l and w>l):\n",
    "        print(\"UPLOAD ANOTHER\")\n",
    "       #print(l,n,w,h)\n",
    "    elif (w<l and h<=l) or (w<=l and h<l):\n",
    "        print(\"UPLOAD ANOTHER\")\n",
    "       #print(l,n,w,h)\n",
    "    return\n",
    "\n",
    "l=int(input())\n",
    "n=int(input())\n",
    "for i in range(0,n):\n",
    "    a=input().split()\n",
    "    profile(l,n,a)\n"
   ]
  },
  {
   "cell_type": "code",
   "execution_count": null,
   "metadata": {},
   "outputs": [],
   "source": [
    "#Given two strings, a and b , that may or may not be of the same length, \n",
    "#determine the minimum number of character deletions required to make a and b anagrams. \n",
    "#Any characters can be deleted from either of the strings.\n",
    "\n",
    "#Input :\n",
    "\n",
    "##test cases,t\n",
    "#two strings a and b, for each test case\n",
    "\n",
    "n=int(input())\n",
    "for i in range(0,n):\n",
    "    a=input()\n",
    "    b=input()\n",
    "    a1=[0]*26\n",
    "    b1=[0]*26\n",
    "    for element in range(0,len(a)):\n",
    "        a1[ord(a[element])-97]+=1\n",
    "    for element in range(0,len(b)):\n",
    "        b1[ord(b[element])-97]+=1\n",
    "    result=0\n",
    "    for i in range(26):\n",
    "        result=result+abs((a1[i])-(b1[i]))\n",
    "    print(result)"
   ]
  },
  {
   "cell_type": "code",
   "execution_count": null,
   "metadata": {},
   "outputs": [],
   "source": [
    "#Goki recently had a breakup, so he wants to have some more friends in his life. \n",
    "#Goki has N people who he can be friends with,\n",
    "#so he decides to choose among them according to their skills set Yi(1<=i<=n). He wants atleast X skills in his friends.\n",
    "#Help Goki find his friends.\n",
    "#INPUT\n",
    "##First line of the input contains an integer N denoting the number of people.\n",
    "\n",
    "#Next line contains a single integer X - denoting the minimum skill required to be Goki's friend. \n",
    "\n",
    "#Next n lines contain one integer Y - denoting the skill of ith person.\n",
    "\n",
    "\n",
    "\n",
    "N=int(input())\n",
    "M=int(input())\n",
    "for i in range(0,N):\n",
    "    Y=int(input())\n",
    "    if Y>=M:\n",
    "        print(\"YES\")\n",
    "    else:\n",
    "        print(\"NO\")\n"
   ]
  },
  {
   "cell_type": "code",
   "execution_count": 6,
   "metadata": {},
   "outputs": [
    {
     "name": "stdout",
     "output_type": "stream",
     "text": [
      "1\n",
      "45\n",
      "40 AS\n"
     ]
    }
   ],
   "source": [
    "#Akash and Vishal are quite fond of travelling. \n",
    "#They mostly travel by railways. They were travelling in a train one day and \n",
    "#they got interested in the seating arrangement of their compartment. The compartment looked something like \n",
    "#So they got interested to know the seat number facing them and the seat type facing them.\n",
    "#The seats are denoted as follows : \n",
    "\n",
    "#Window Seat : WS\n",
    "##Middle Seat : MS\n",
    "#Aisle Seat : AS\n",
    "\n",
    "#You will be given a seat number, find out the seat number facing you and the seat type, i.e. WS, MS or AS.\n",
    "\n",
    "#INPUT\n",
    "#First line of input will consist of a single integer T denoting number of test-cases. Each test-case consists of a single integer N denoting the seat-number.\n",
    "\n",
    "##OUTPUT\n",
    "#For each test case, print the facing seat-number and the seat-type, separated by a single space in a new line.\n",
    "\n",
    "\n",
    "t=int(input())\n",
    "for i in range(0,t):\n",
    "    n=int(input())\n",
    "    if n%12==1:\n",
    "        print(n+11,\" WS\")\n",
    "    elif n%12==2:\n",
    "        print(n+9,\"MS\")\n",
    "    elif n%12==3:\n",
    "        print(n+7,\"AS\")\n",
    "    elif n%12==4:\n",
    "        print(n+5,\"AS\")\n",
    "    elif n%12==5:\n",
    "        print(n+3,\"MS\")\n",
    "    elif n%12==6:\n",
    "        print(n+1,\"WS\")\n",
    "    elif n%12==7:\n",
    "        print(n-1,\"WS\")\n",
    "    elif n%12==8:\n",
    "        print(n-3,\"MS\")\n",
    "    elif n%12==9:\n",
    "        print(n-5,\"AS\")\n",
    "    elif n%12==10:\n",
    "        print(n-7,\"AS\")\n",
    "    elif n%12==11:\n",
    "        print(n-9,\"MS\")\n",
    "    elif n%12==0:\n",
    "        print(n-11,\"WS\")\n",
    "            \n",
    "        "
   ]
  },
  {
   "cell_type": "code",
   "execution_count": 28,
   "metadata": {},
   "outputs": [
    {
     "name": "stdout",
     "output_type": "stream",
     "text": [
      "1401601499\n",
      "Legal ISBN\n"
     ]
    }
   ],
   "source": [
    "\n",
    "\n",
    "string=input()\n",
    "sum=0\n",
    "if len(string)==10:\n",
    "    for i in range(0,len(string)):\n",
    "        sum=(int(i+1)*int(string[i]))+sum\n",
    "        #print(sum)\n",
    "    if sum%11==0:\n",
    "        print(\"Legal ISBN\")\n",
    "    else:\n",
    "        print(\"Illegal ISBN\")\n",
    "elif len(string)!=10:\n",
    "    print(\"Illegal ISBN\")\n"
   ]
  },
  {
   "cell_type": "code",
   "execution_count": 29,
   "metadata": {},
   "outputs": [
    {
     "name": "stdout",
     "output_type": "stream",
     "text": [
      "1\n",
      "1\n",
      "2\n",
      "2\n",
      "42\n"
     ]
    }
   ],
   "source": [
    "\n",
    "#Your program is to use the brute-force approach in order to find the Answer to Life, the Universe, and Everything.\n",
    "##More precisely... rewrite small numbers from input to output. \n",
    "#Stop processing input after reading in the number 42. \n",
    "#All numbers at input are integers of one or two digits.\n",
    "\n",
    "while (1):\n",
    "    l=int(input())\n",
    "    if l!=42:\n",
    "        print(l)\n",
    "    else:\n",
    "        break\n",
    "    \n",
    "            "
   ]
  },
  {
   "cell_type": "code",
   "execution_count": 37,
   "metadata": {},
   "outputs": [
    {
     "name": "stdout",
     "output_type": "stream",
     "text": [
      "12\n",
      "Motu\n"
     ]
    }
   ],
   "source": [
    "n=int(input())\n",
    "for i in range(1,n+1):\n",
    "    p=i\n",
    "    m=i*2\n",
    "    if n%p==0:\n",
    "        print(\"Motu\")\n",
    "        break\n",
    "    if n%m==0:\n",
    "        print(\"Potlu\")\n",
    "        break\n",
    "        "
   ]
  },
  {
   "cell_type": "code",
   "execution_count": 18,
   "metadata": {},
   "outputs": [
    {
     "name": "stdout",
     "output_type": "stream",
     "text": [
      "12X345-67\n",
      "invalid\n"
     ]
    }
   ],
   "source": [
    "string=input()\n",
    "s1=['A','E','I','O','U','Y']\n",
    "if len(string)==9 and string[0]!=0:\n",
    "        if ord(string[2]) in s1[0:len(s1)] :\n",
    "            sum1=(int(string[0])+int(string[1]))%2\n",
    "            sum2=(int(string[3])+int(string[4]))%2\n",
    "            sum3=(int(string[4])+int(string[5]))%2\n",
    "            sum4=(int(string[7])+int(string[8]))%2\n",
    "            if sum1==0 and sum2==0 and sum3==0 and sum4==0:\n",
    "                print(\"valid\")\n",
    "        else:\n",
    "            print(\"invalid\")\n",
    "else:\n",
    "    print(\"invalid\")\n"
   ]
  },
  {
   "cell_type": "code",
   "execution_count": 1,
   "metadata": {},
   "outputs": [
    {
     "name": "stdout",
     "output_type": "stream",
     "text": [
      "10\n",
      "20\n",
      "20  is greater\n"
     ]
    }
   ],
   "source": [
    "a=int(input())\n",
    "b=int(input())\n",
    "if a>b :\n",
    "    print(a,\" is greater\")\n",
    "else:\n",
    "    print(b,\" is greater\")"
   ]
  },
  {
   "cell_type": "code",
   "execution_count": 2,
   "metadata": {},
   "outputs": [
    {
     "name": "stdout",
     "output_type": "stream",
     "text": [
      "Yes\n"
     ]
    }
   ],
   "source": [
    "l=[1,2,3,4,'a']\n",
    "a='a'\n",
    "if a in l:\n",
    "    print(\"Yes\")\n",
    "else:\n",
    "    print(\"No\")"
   ]
  },
  {
   "cell_type": "code",
   "execution_count": 12,
   "metadata": {},
   "outputs": [
    {
     "name": "stdout",
     "output_type": "stream",
     "text": [
      "4\n",
      "*   *\n",
      "*   *\n",
      "*****\n",
      "*   *\n",
      "*   *\n",
      "*****\n",
      "*   *\n",
      "*   *\n",
      "*****\n",
      "*   *\n",
      "*   *\n",
      "*****\n",
      "*   *\n",
      "*   *\n"
     ]
    }
   ],
   "source": [
    "n=int(input())\n",
    "print(\"*   *\")\n",
    "for i in range(0,n):\n",
    "    print(\"*   *\")\n",
    "    print(\"*****\")\n",
    "    print(\"*   *\")\n",
    "print(\"*   *\")\n",
    "  "
   ]
  },
  {
   "cell_type": "code",
   "execution_count": 19,
   "metadata": {},
   "outputs": [
    {
     "name": "stdout",
     "output_type": "stream",
     "text": [
      "phone and email added \n"
     ]
    }
   ],
   "source": [
    "contacts={}\n",
    "def addcontact(name,phone,email):\n",
    "    if name not in contacts:\n",
    "        contacts[name]=phone\n",
    "        contacts[name]=email\n",
    "        print(\"phone and email added \")\n",
    "    else:\n",
    "        print(\"name already exists\")\n",
    "    return\n",
    "addcontact(\"name1\",8985488989,\"abcdefg@gmail.com\")\n",
    "        \n",
    "        "
   ]
  },
  {
   "cell_type": "code",
   "execution_count": 20,
   "metadata": {},
   "outputs": [
    {
     "name": "stdout",
     "output_type": "stream",
     "text": [
      "modified data\n"
     ]
    }
   ],
   "source": [
    "def modifycontact(name,phone,email):\n",
    "    if name in contacts:\n",
    "        contacts[name]=phone\n",
    "        contacts[name]=email\n",
    "        print(\"modified data\")\n",
    "    else:\n",
    "        print(\"name not found\")\n",
    "    return\n",
    "modifycontact(\"name1\",8329832839,\"djhksdkskj@hajh.com\")"
   ]
  },
  {
   "cell_type": "code",
   "execution_count": 42,
   "metadata": {},
   "outputs": [
    {
     "name": "stdout",
     "output_type": "stream",
     "text": [
      "name1 djhksdkskj@hajh.com\n"
     ]
    }
   ],
   "source": [
    "def listcontacts():\n",
    "    for i,j in contacts.items():\n",
    "        print(i,j)\n",
    "    return\n",
    "listcontacts()\n",
    "        "
   ]
  },
  {
   "cell_type": "code",
   "execution_count": 14,
   "metadata": {},
   "outputs": [
    {
     "name": "stdout",
     "output_type": "stream",
     "text": [
      "{'name1': 'abcdefgh@gmail.com', 'name2': 'jjdskjdksjk@gmail.com', 'name3': 'dihdihjdkj@gmail.com'}\n",
      "name1 : abcdefgh@gmail.com\n",
      "name2 : jjdskjdksjk@gmail.com\n",
      "name3 : dihdihjdkj@gmail.com\n"
     ]
    }
   ],
   "source": [
    "a={\"name1\":\"abcdefgh@gmail.com\",\"name2\":\"jjdskjdksjk@gmail.com\",\"name3\":\"dihdihjdkj@gmail.com\"}\n",
    "print(a)\n",
    "for i,j in a.items():\n",
    "    print(i,\":\",j)"
   ]
  },
  {
   "cell_type": "code",
   "execution_count": 2,
   "metadata": {},
   "outputs": [
    {
     "data": {
      "text/plain": [
       "dict_keys(['name1', 'name2', 'name3'])"
      ]
     },
     "execution_count": 2,
     "metadata": {},
     "output_type": "execute_result"
    }
   ],
   "source": [
    "a.keys()"
   ]
  },
  {
   "cell_type": "code",
   "execution_count": 3,
   "metadata": {},
   "outputs": [
    {
     "data": {
      "text/plain": [
       "<function dict.values>"
      ]
     },
     "execution_count": 3,
     "metadata": {},
     "output_type": "execute_result"
    }
   ],
   "source": [
    "a.values"
   ]
  },
  {
   "cell_type": "code",
   "execution_count": 4,
   "metadata": {},
   "outputs": [
    {
     "data": {
      "text/plain": [
       "dict_values(['abcdefgh@gmail.com', 'jjdskjdksjk@gmail.com', 'dihdihjdkj@gmail.com'])"
      ]
     },
     "execution_count": 4,
     "metadata": {},
     "output_type": "execute_result"
    }
   ],
   "source": [
    "a.values()"
   ]
  },
  {
   "cell_type": "code",
   "execution_count": 39,
   "metadata": {},
   "outputs": [
    {
     "data": {
      "text/plain": [
       "dict_items([('name1', 'abcdefgh@gmail.com'), ('name2', 'jjdskjdksjk@gmail.com'), ('name3', 'dihdihjdkj@gmail.com'), ('name5', ['adskdjksj@jsjksj.com', '2929232923029'])])"
      ]
     },
     "execution_count": 39,
     "metadata": {},
     "output_type": "execute_result"
    }
   ],
   "source": [
    "a.items()"
   ]
  },
  {
   "cell_type": "code",
   "execution_count": 22,
   "metadata": {},
   "outputs": [
    {
     "name": "stdout",
     "output_type": "stream",
     "text": [
      "added\n"
     ]
    }
   ],
   "source": [
    "def add(name,email,phone):\n",
    "    if name not in a:\n",
    "        a[name]=[email,phone]\n",
    "        print(\"added\")\n",
    "    else:\n",
    "        print(\"exist\")\n",
    "    return\n",
    "add(\"name5\",\"adskdjksj@jsjksj.com\",\"2929232923029\")\n",
    "        "
   ]
  },
  {
   "cell_type": "code",
   "execution_count": 46,
   "metadata": {},
   "outputs": [
    {
     "data": {
      "text/plain": [
       "dict_items([('name1', 'abcdefgh@gmail.com'), ('name2', 'jjdskjdksjk@gmail.com'), ('name3', 'dihdihjdkj@gmail.com'), ('name5', ['adskdjksj@jsjksj.com', '2929232923029']), ('name4', ['hdhsdj@bwhd.com', 9039090394]), ('name6', ['jihfidhfhkf@jdhshd.com', 93929230243])])"
      ]
     },
     "execution_count": 46,
     "metadata": {},
     "output_type": "execute_result"
    }
   ],
   "source": [
    "a.items()"
   ]
  },
  {
   "cell_type": "code",
   "execution_count": 31,
   "metadata": {},
   "outputs": [
    {
     "name": "stdout",
     "output_type": "stream",
     "text": [
      "name5 : ['adskdjksj@jsjksj.com', '2929232923029']\n"
     ]
    }
   ],
   "source": [
    "def search(name):\n",
    "    if name in a:\n",
    "        print(name,\":\",a[name])\n",
    "    else:\n",
    "        print(\"not found\")\n",
    "    return\n",
    "search(\"name5\")\n"
   ]
  },
  {
   "cell_type": "code",
   "execution_count": 36,
   "metadata": {},
   "outputs": [
    {
     "name": "stdout",
     "output_type": "stream",
     "text": [
      "modified\n"
     ]
    }
   ],
   "source": [
    "def modify(name,email,phone):\n",
    "    if name in a :\n",
    "        a[name]=email\n",
    "        print(\"modified\")\n",
    "    else:\n",
    "        print(\"not found\")\n",
    "    return\n",
    "modify(\"name4\",\"kodofodkfoo@qs.com\",320309409)\n",
    "        "
   ]
  },
  {
   "cell_type": "code",
   "execution_count": 38,
   "metadata": {},
   "outputs": [
    {
     "name": "stdout",
     "output_type": "stream",
     "text": [
      "the name deleted\n"
     ]
    }
   ],
   "source": [
    "def delete(name):\n",
    "    if name in a:\n",
    "        a.pop(name)\n",
    "        print(\"the name deleted\")\n",
    "    else:\n",
    "        print(\"name not found\")\n",
    "    return\n",
    "delete(\"name4\")"
   ]
  },
  {
   "cell_type": "code",
   "execution_count": 45,
   "metadata": {},
   "outputs": [
    {
     "name": "stdout",
     "output_type": "stream",
     "text": [
      "updated\n"
     ]
    }
   ],
   "source": [
    "def update(newcontacts):\n",
    "    a.update(newcontacts)\n",
    "    print(\"updated\")\n",
    "    return\n",
    "newcontacts={\"name4\":[\"hdhsdj@bwhd.com\",9039090394],\"name6\":[\"jihfidhfhkf@jdhshd.com\",93929230243]}\n",
    "update(newcontacts)"
   ]
  },
  {
   "cell_type": "code",
   "execution_count": 55,
   "metadata": {},
   "outputs": [
    {
     "name": "stdout",
     "output_type": "stream",
     "text": [
      "26\n"
     ]
    }
   ],
   "source": [
    "def creatingfile(filepath):\n",
    "    with open(\"DataFiles/sample1.txt\",'w') as f:\n",
    "        write1=\"abcd efgh\"+\"\\n\"+\"nhijk djkdjskj\"+\"\\n\"\n",
    "        filedata=f.write(write1+\"\\n\")\n",
    "        print(filedata)\n",
    "    return\n",
    "creatingfile(\"DataFiles/sample1.txt\")\n",
    "    "
   ]
  },
  {
   "cell_type": "code",
   "execution_count": 70,
   "metadata": {},
   "outputs": [
    {
     "name": "stdout",
     "output_type": "stream",
     "text": [
      "0\n"
     ]
    }
   ],
   "source": [
    "def countline(filepath):\n",
    "    line=0\n",
    "    with open(filepath,'r')as f:\n",
    "        for line in f:\n",
    "            line=line+1\n",
    "            \n",
    "    print(line)\n",
    "                \n",
    "\n",
    "filepath=\"DataFiles/data.txt\"\n",
    "countwords(filepath)\n",
    "    "
   ]
  },
  {
   "cell_type": "code",
   "execution_count": 3,
   "metadata": {},
   "outputs": [
    {
     "name": "stdout",
     "output_type": "stream",
     "text": [
      "1\n",
      "5 20\n",
      "Yes\n"
     ]
    }
   ],
   "source": [
    "\"\"\"Mr. X's birthday is in next month. This time he is planning to invite N of his friends. He wants to distribute some chocolates to all of his friends after party. He went to a shop to buy a packet of chocolates.\n",
    "At chocolate shop, each packet is having different number of chocolates. He wants to buy such a packet which contains number of chocolates, which can be distributed equally among all of his friends.\n",
    "Help Mr. X to buy such a packet.\n",
    "\n",
    "Input:\n",
    "First line contains T, number of test cases.\n",
    "Each test case contains two integers, N and M. where is N is number of friends and M is number number of chocolates in a packet.\n",
    "\n",
    "Output:\n",
    "In each test case output \"Yes\" if he can buy that packet and \"No\" if he can't buy that packet.\"\"\"\n",
    "\n",
    "t=int(input())\n",
    "def choco(n):\n",
    "        n1=n.split()\n",
    "        a=int(n1[0])\n",
    "        b=int(n1[1])\n",
    "        if b%a==0:\n",
    "            print(\"Yes\")\n",
    "        else:\n",
    "            print(\"No\")\n",
    "        return\n",
    "\n",
    "for i in range(0,t):\n",
    "    n=input()\n",
    "    choco(n)"
   ]
  },
  {
   "cell_type": "code",
   "execution_count": 6,
   "metadata": {},
   "outputs": [
    {
     "name": "stdout",
     "output_type": "stream",
     "text": [
      "5 5\n",
      "2 3 4 8 9\n",
      "1 0 3\n"
     ]
    }
   ],
   "source": [
    "n=input()\n",
    "n=n.split()\n",
    "n=list(map(int,n))\n",
    "#print(n)\n",
    "a=input()\n",
    "a=a.split()\n",
    "a=list(map(int,a))\n",
    "o=input()\n",
    "o=o.split()\n",
    "o=list(map(int,o))\n",
    "sum1=0\n",
    "for i in range(0,len(a)):\n",
    "    if o[0]==1:\n",
    "        a.insert(o[2],o[1])\n",
    "    if o[0]==2:\n",
    "        for i in range(o[1],0[2]+1):\n",
    "            sum1+=a[i]\n",
    "    print(sum1)\n",
    "        \n",
    "        \n",
    "\n",
    "    "
   ]
  },
  {
   "cell_type": "code",
   "execution_count": 5,
   "metadata": {},
   "outputs": [
    {
     "data": {
      "text/plain": [
       "[0, 1, 2, 3]"
      ]
     },
     "execution_count": 5,
     "metadata": {},
     "output_type": "execute_result"
    }
   ],
   "source": [
    "l=[1,2,3]\n",
    "l.insert(0,0)\n",
    "l"
   ]
  },
  {
   "cell_type": "code",
   "execution_count": null,
   "metadata": {},
   "outputs": [],
   "source": [
    "\"\"\"Gary likes to solve problems of array, but he doesn't like problems that involve queries. His school teacher gave him an assignment full of problems but one of them involve queries. Can you help Gary in solving that problem so that he can go and play with his friends? The problem is :\n",
    "\n",
    "Given an Array A consisting of N positive integers, you have to answer Q queries on it. Queries can be of the two types: * 1 X Y - Update X at location Y in the array. * 2 L R - Print the sum of range [L, R], i.e. Both L and R are inclusive.\n",
    "\n",
    "Note:- Array indexing is from 0.\n",
    "Input:\n",
    "\n",
    "    The first line contains two space separated integers N(Length of Array) and Q(Queries).\n",
    "    Next Line contains N space separated integers denoting array A.\n",
    "    Next Q Line contains 3 space separated integers for each line, as described above\n",
    "Output: Answer to the each query of type 2 in a new line, only when range is valid, otherwise ouput `-1`\"\"\"\n",
    "\n",
    "n=input()\n",
    "n=n.split()\n",
    "#print(n)\n",
    "a=input()\n",
    "a=a.split()\n",
    "a=list(map(int,a))\n",
    "#print(type(t[0]))\n",
    "\n",
    "def array1(a):\n",
    "    avg=0\n",
    "    #for i in range(0,int(n[1])):\n",
    "    t=a\n",
    "    if q[0]==1:\n",
    "        t.insert(q[1],q[2])\n",
    "        t.pop(q[1]+1)\n",
    "    #print(t)\n",
    "    else:\n",
    "        for i in range(q[1],q[2]+1):\n",
    "            avg=avg+t[i]\n",
    "        print(avg)\n",
    "    return\n",
    "\n",
    "for i in range(0,int(n[1])):\n",
    "    q=input()\n",
    "    q=q.split()\n",
    "    q=list(map(int,q))\n",
    "    #print(q)\n",
    "    array1(a)\n",
    "        \n"
   ]
  }
 ],
 "metadata": {
  "kernelspec": {
   "display_name": "Python 3",
   "language": "python",
   "name": "python3"
  },
  "language_info": {
   "codemirror_mode": {
    "name": "ipython",
    "version": 3
   },
   "file_extension": ".py",
   "mimetype": "text/x-python",
   "name": "python",
   "nbconvert_exporter": "python",
   "pygments_lexer": "ipython3",
   "version": "3.7.3"
  }
 },
 "nbformat": 4,
 "nbformat_minor": 2
}
