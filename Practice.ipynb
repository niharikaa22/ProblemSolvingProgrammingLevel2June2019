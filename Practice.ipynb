{
 "cells": [
  {
   "cell_type": "code",
   "execution_count": 16,
   "metadata": {},
   "outputs": [
    {
     "name": "stdout",
     "output_type": "stream",
     "text": [
      "hello\n"
     ]
    },
    {
     "data": {
      "text/plain": [
       "'ol'"
      ]
     },
     "execution_count": 16,
     "metadata": {},
     "output_type": "execute_result"
    }
   ],
   "source": [
    "a=10\n",
    "b=10\n",
    "a%=b\n",
    "s1=\"hello\"\n",
    "print(s1)\n",
    "s1[0]\n",
    "s1[1]\n",
    "s1[1:5]\n",
    "s1[:-1]\n",
    "s1[::-2]\n",
    "s1[:3:-2]\n",
    "s1[:2:-1]\n"
   ]
  },
  {
   "cell_type": "code",
   "execution_count": 19,
   "metadata": {},
   "outputs": [
    {
     "name": "stdout",
     "output_type": "stream",
     "text": [
      "enter the number:2345\n",
      "the given number is odd\n"
     ]
    }
   ],
   "source": [
    "#even or odd\n",
    "\n",
    "a=int(input(\"enter the number:\"))\n",
    "if a%2==0:\n",
    "      print(\"the given number is even\")\n",
    "else:\n",
    "    print(\"the given number is odd\")"
   ]
  },
  {
   "cell_type": "code",
   "execution_count": 20,
   "metadata": {},
   "outputs": [
    {
     "name": "stdout",
     "output_type": "stream",
     "text": [
      "enter the number:12\n",
      "enter the number22\n",
      "enter the number14\n",
      "22  is the greatest number\n"
     ]
    }
   ],
   "source": [
    "#greatest of the three\n",
    "\n",
    "a=int(input(\"enter the number:\"))\n",
    "b=int(input(\"enter the number\"))\n",
    "c=int(input(\"enter the number\"))\n",
    "if a>b and a>c:\n",
    "    print(a,\" is the greatest number\")\n",
    "if b>a and b>c:\n",
    "    print(b,\" is the greatest number\")\n",
    "if c>a and c>b:\n",
    "    print(c,\" is the greatest number\")\n",
    "    \n"
   ]
  },
  {
   "cell_type": "code",
   "execution_count": 23,
   "metadata": {},
   "outputs": [
    {
     "name": "stdout",
     "output_type": "stream",
     "text": [
      "enter the year:1995\n",
      "1995  is not a leap year\n"
     ]
    }
   ],
   "source": [
    "# leap year\n",
    "\n",
    "year=int(input(\"enter the year:\"))\n",
    "if year%400==0 or (year%4==0 and year%100!=0):\n",
    "    print(year,\" is the leap year\")\n",
    "else:\n",
    "    print(year,\" is not a leap year\")"
   ]
  },
  {
   "cell_type": "code",
   "execution_count": 25,
   "metadata": {},
   "outputs": [
    {
     "name": "stdout",
     "output_type": "stream",
     "text": [
      "enter the number:123456790\n",
      "9\n"
     ]
    }
   ],
   "source": [
    "# number of digits in a number\n",
    "\n",
    "a=str(input(\"enter the number:\"))\n",
    "b=len(a)\n",
    "print(b)"
   ]
  },
  {
   "cell_type": "code",
   "execution_count": 29,
   "metadata": {},
   "outputs": [
    {
     "name": "stdout",
     "output_type": "stream",
     "text": [
      "enter the number:140\n",
      "140  is mutliple of 10\n"
     ]
    }
   ],
   "source": [
    "# checking multiple of 10\n",
    "\n",
    "a=int(input(\"enter the number:\"))\n",
    "if a%10==0:\n",
    "    print(a,\" is mutliple of 10\")\n",
    "else:\n",
    "    print(a,\" is not a mutliple of 10\")\n"
   ]
  },
  {
   "cell_type": "code",
   "execution_count": 31,
   "metadata": {},
   "outputs": [
    {
     "name": "stdout",
     "output_type": "stream",
     "text": [
      "enter the number:100\n",
      "100  factor of 1000\n"
     ]
    }
   ],
   "source": [
    "# checking factor of 1000\n",
    "\n",
    "a=int(input(\"enter the number:\"))\n",
    "if 1000%a==0:\n",
    "    print(a,\" factor of 1000\")\n",
    "else:\n",
    "    print(a,\" not a factor of 1000\")"
   ]
  },
  {
   "cell_type": "code",
   "execution_count": 10,
   "metadata": {},
   "outputs": [
    {
     "name": "stdout",
     "output_type": "stream",
     "text": [
      "string is not equal to number\n"
     ]
    }
   ],
   "source": [
    "## string is eqaul to number\n",
    "\n",
    "a=\"Python\"\n",
    "b=1234\n",
    "if str(a) == b:\n",
    "    print(\"string is equal to number\")\n",
    "else:\n",
    "    print(\"string is not equal to number\")\n",
    "    "
   ]
  },
  {
   "cell_type": "code",
   "execution_count": 17,
   "metadata": {},
   "outputs": [
    {
     "name": "stdout",
     "output_type": "stream",
     "text": [
      "enter the number:1225\n",
      "35.0\n"
     ]
    }
   ],
   "source": [
    "# square root of a number\n",
    "\n",
    "num=int(input(\"enter the number:\"))\n",
    "print(num**(0.5))"
   ]
  },
  {
   "cell_type": "code",
   "execution_count": null,
   "metadata": {},
   "outputs": [],
   "source": [
    "\n"
   ]
  }
 ],
 "metadata": {
  "kernelspec": {
   "display_name": "Python 3",
   "language": "python",
   "name": "python3"
  },
  "language_info": {
   "codemirror_mode": {
    "name": "ipython",
    "version": 3
   },
   "file_extension": ".py",
   "mimetype": "text/x-python",
   "name": "python",
   "nbconvert_exporter": "python",
   "pygments_lexer": "ipython3",
   "version": "3.7.3"
  }
 },
 "nbformat": 4,
 "nbformat_minor": 2
}
