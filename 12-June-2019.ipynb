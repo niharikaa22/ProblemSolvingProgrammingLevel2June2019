{
 "cells": [
  {
   "cell_type": "markdown",
   "metadata": {},
   "source": [
    "# Problem Solving and Programming\n",
    "\n",
    "#### Date 12 June 2019\n",
    "\n",
    "#### Day Objectives\n",
    "\n",
    "* String Slicing\n",
    "* Functions in Python\n",
    "* Basic Problems related to conditional statements using functions\n",
    "* Iteration in python and data structures\n",
    "* Python Data Structures -Tuples,Lists and Dictionaries\n",
    "* Basic Operations on data structures\n",
    "* Applying Data Structures to solve problems"
   ]
  },
  {
   "cell_type": "markdown",
   "metadata": {},
   "source": [
    "### String Slicing"
   ]
  },
  {
   "cell_type": "code",
   "execution_count": 1,
   "metadata": {},
   "outputs": [
    {
     "data": {
      "text/plain": [
       "'nhy'"
      ]
     },
     "execution_count": 1,
     "metadata": {},
     "output_type": "execute_result"
    }
   ],
   "source": [
    "s1 = \"Python\"\n",
    "s1[0] #accessing first character of the string\n",
    "s1[-1] #accessing last character of the string\n",
    "s1[2] #accessing third character of the string\n",
    "s1[len(s1)-1] #accessing last character of the string \n",
    "s1[-2] # accessing last but one character of the string\n",
    "s1[0:2] #accessing the first two charcters in the string(0 is inclusive and 2 is exclusive)\n",
    "s1[-2:] #accessing the last two characters in the string(-2 is inclusive and blank is till the last)\n",
    "s1[4:] #accessing all characters from 5th character to end  of the string\n",
    "s1[1:-1] #Accepting all characters except first and last character\n",
    "s1[len(s1)//2] # Accessing the middle character of the string --- // indicates the integer division\n",
    "s1[-1::-1]#Reverse of a string---- first -1 =inclusive from and after column to range and last -1 is subtraction\n",
    "s1[-1:-3:-1]#accessing the last two characters in a reverse string\n",
    "s1[-1:-4:-1] #accessing the last three characters in a reverse string\n",
    "s1[(len(s1)//2)-1:(len(s1)//2)+1] #reverse the middle two characters in an even length string\n",
    "s1[::2]#Accessing alternate characters of a string----pto\n",
    "s1[::-2]# accessing alternate characters in reverse order---nhy\n",
    "\n"
   ]
  },
  {
   "cell_type": "markdown",
   "metadata": {},
   "source": [
    "### Functions"
   ]
  },
  {
   "cell_type": "code",
   "execution_count": 2,
   "metadata": {},
   "outputs": [
    {
     "data": {
      "text/plain": [
       "'nohtyP'"
      ]
     },
     "execution_count": 2,
     "metadata": {},
     "output_type": "execute_result"
    }
   ],
   "source": [
    "#Function to reverse a string\n",
    "def reverseString(s):\n",
    "    return s[::-1]\n",
    "reverseString(\"Python\")"
   ]
  },
  {
   "cell_type": "code",
   "execution_count": 3,
   "metadata": {},
   "outputs": [
    {
     "data": {
      "text/plain": [
       "True"
      ]
     },
     "execution_count": 3,
     "metadata": {},
     "output_type": "execute_result"
    }
   ],
   "source": [
    "# Function to check if a string is palindrome\n",
    "\n",
    "def PalindromeString(s):\n",
    "    if s == s[::-1]:\n",
    "        return True\n",
    "    else:\n",
    "        return False\n",
    "    \n",
    "PalindromeString(\"racecar\")"
   ]
  },
  {
   "cell_type": "code",
   "execution_count": 4,
   "metadata": {},
   "outputs": [
    {
     "data": {
      "text/plain": [
       "'kaa'"
      ]
     },
     "execution_count": 4,
     "metadata": {},
     "output_type": "execute_result"
    }
   ],
   "source": [
    "s=\"Niharikaa\"\n",
    "len(s)\n",
    "s[0]\n",
    "s[::1]\n",
    "s[::-1]\n",
    "s[-1::-1]\n",
    "s[(len(s)//2):(len(s)//2)+1] # to the middle letter for odd number strings\n",
    "s[-3::]"
   ]
  },
  {
   "cell_type": "code",
   "execution_count": 5,
   "metadata": {},
   "outputs": [
    {
     "data": {
      "text/plain": [
       "False"
      ]
     },
     "execution_count": 5,
     "metadata": {},
     "output_type": "execute_result"
    }
   ],
   "source": [
    "#Function to check if a given year is a leap year\n",
    "def isleapyear(year):\n",
    "    if year%400==0 or (year%4==0 and year%100!=0):\n",
    "        return True\n",
    "    else:\n",
    "        return False\n",
    "isleapyear(2019)"
   ]
  },
  {
   "cell_type": "code",
   "execution_count": 6,
   "metadata": {},
   "outputs": [
    {
     "data": {
      "text/plain": [
       "5"
      ]
     },
     "execution_count": 6,
     "metadata": {},
     "output_type": "execute_result"
    }
   ],
   "source": [
    "# Function to count the number of digit in a given number\n",
    "\n",
    "def count(n):\n",
    "    return len(str(n))\n",
    "count(12345)"
   ]
  },
  {
   "cell_type": "code",
   "execution_count": 7,
   "metadata": {},
   "outputs": [
    {
     "data": {
      "text/plain": [
       "30"
      ]
     },
     "execution_count": 7,
     "metadata": {},
     "output_type": "execute_result"
    }
   ],
   "source": [
    "# Function to identify the greatest of 4 numbers\n",
    "\n",
    "def greatest(a,b,c,d):\n",
    "    if a > b and b> c and b > d:\n",
    "        return a\n",
    "    elif b > a and b > c and b > d:\n",
    "        return b\n",
    "    elif c > a and c > b and c > d :\n",
    "        return c\n",
    "    else:\n",
    "        return d\n",
    "    \n",
    "greatest(10,20,2,30)"
   ]
  },
  {
   "cell_type": "markdown",
   "metadata": {},
   "source": [
    "### Iterations \n",
    "\n",
    "* for \n",
    "* while"
   ]
  },
  {
   "cell_type": "code",
   "execution_count": 8,
   "metadata": {},
   "outputs": [
    {
     "name": "stdout",
     "output_type": "stream",
     "text": [
      "1 2 3 4 5 6 7 8 9 10 11 12 13 14 "
     ]
    }
   ],
   "source": [
    "# Function to print n  natural numbers using for loop\n",
    "\n",
    "def printnnaturalnumbers(n):\n",
    "    for i in range(1,n+1):  # (1,n+1)----1 is the starting of the range and n+1 is the ending of the range \n",
    "        print(i, end=\" \")\n",
    "    return \n",
    "printnnaturalnumbers(14)"
   ]
  },
  {
   "cell_type": "code",
   "execution_count": null,
   "metadata": {},
   "outputs": [],
   "source": [
    "# Function to print n  natural numbers using while loop \n",
    "\n",
    "def natnum(n):\n",
    "    counter = 1\n",
    "    while counter <=n:\n",
    "        print(counter,end=\" \")\n",
    "        counter=counter+1\n",
    "    return\n",
    "natnum(22)\n"
   ]
  },
  {
   "cell_type": "code",
   "execution_count": 3,
   "metadata": {},
   "outputs": [
    {
     "name": "stdout",
     "output_type": "stream",
     "text": [
      "102 108 114 120 126 132 138 144 150 156 162 168 174 180 186 192 198 "
     ]
    }
   ],
   "source": [
    "## Function to print numbers in a given range(lb,ub) divisible by 6 and\n",
    "# not a factor of 100 \n",
    "def div6(lb,ub):\n",
    "    for i in range(lb,ub+1):\n",
    "        if i%6 ==0 and 100%i!=0:\n",
    "            print(i, end=(\" \"))        \n",
    "    return\n",
    "div6(100,200)\n",
    "        "
   ]
  },
  {
   "cell_type": "code",
   "execution_count": 1,
   "metadata": {},
   "outputs": [
    {
     "data": {
      "text/plain": [
       "129346.88"
      ]
     },
     "execution_count": 1,
     "metadata": {},
     "output_type": "execute_result"
    }
   ],
   "source": [
    "## Function to find the average of cubes of all even numbers \n",
    "#in a given range(lb,ub) inclusive\n",
    "\n",
    "def avercube(lb,ub):\n",
    "    sum=0\n",
    "    count=0\n",
    "    for i in range(lb,ub+1):\n",
    "        if i%2==0:\n",
    "            sum+=i ** 3\n",
    "            count+=1\n",
    "    return sum/(count)\n",
    "avercube(50,75)"
   ]
  },
  {
   "cell_type": "code",
   "execution_count": 13,
   "metadata": {},
   "outputs": [
    {
     "name": "stdout",
     "output_type": "stream",
     "text": [
      "1 2 3 4 6 "
     ]
    },
    {
     "data": {
      "text/plain": [
       "16"
      ]
     },
     "execution_count": 13,
     "metadata": {},
     "output_type": "execute_result"
    }
   ],
   "source": [
    "# Function to generate the sum of factors for a given number\n",
    "#12-----1 2 3 4 6 12\n",
    "\n",
    "def factnum(a):\n",
    "    sum=0\n",
    "    for i in range(1,a//2+1):\n",
    "        if a%i==0:\n",
    "            sum=sum+i\n",
    "            print(i,end=\" \")\n",
    "    return (sum)\n",
    "factnum(12)"
   ]
  },
  {
   "cell_type": "code",
   "execution_count": 27,
   "metadata": {},
   "outputs": [
    {
     "data": {
      "text/plain": [
       "3628800"
      ]
     },
     "execution_count": 27,
     "metadata": {},
     "output_type": "execute_result"
    }
   ],
   "source": [
    "#Function to calculate the factorial of a given number\n",
    "def fact(n):\n",
    "    fact=1\n",
    "    for i in range(2,n+1):\n",
    "         fact*=i\n",
    "    return fact\n",
    "fact(10)"
   ]
  },
  {
   "cell_type": "code",
   "execution_count": 24,
   "metadata": {},
   "outputs": [
    {
     "data": {
      "text/plain": [
       "False"
      ]
     },
     "execution_count": 24,
     "metadata": {},
     "output_type": "execute_result"
    }
   ],
   "source": [
    "#Function to check if a given number is Prime\n",
    "\n",
    "def isprime(n):\n",
    "    flag=True\n",
    "    for i in range(2,n//2+1):\n",
    "        if n%i==0:\n",
    "            flag=False\n",
    "            return flag \n",
    "    return flag\n",
    "isprime(4)"
   ]
  },
  {
   "cell_type": "code",
   "execution_count": 57,
   "metadata": {},
   "outputs": [
    {
     "data": {
      "text/plain": [
       "12.9"
      ]
     },
     "execution_count": 57,
     "metadata": {},
     "output_type": "execute_result"
    }
   ],
   "source": [
    "#Function to calculate the average of first N prime numbers\n",
    "\n",
    "def avegnumbers(n):\n",
    "    primecount=0\n",
    "    sum=0\n",
    "    seqcount=2\n",
    "    while(primecount<n):\n",
    "        if isprime(seqcount):\n",
    "            primecount+=1\n",
    "            sum+=seqcount\n",
    "            #print(seqcount)\n",
    "        seqcount +=1\n",
    "    return sum/n\n",
    "avegnumbers(10)\n",
    "    "
   ]
  },
  {
   "cell_type": "code",
   "execution_count": 25,
   "metadata": {},
   "outputs": [
    {
     "name": "stdout",
     "output_type": "stream",
     "text": [
      "6 28 496 "
     ]
    }
   ],
   "source": [
    "# Function to generate all Perfect numbers in a given range\n",
    "\n",
    "def isperfect1(n):\n",
    "    s=0\n",
    "    for i in range(1,n//2+1):\n",
    "        if(n%i==0):\n",
    "            s=s+i\n",
    "    return s\n",
    "\n",
    "def perfectrange(lb,ub):\n",
    "    for i in range(lb,ub+1):\n",
    "        if isperfect1(i)==i:\n",
    "            print(i,end=\" \")\n",
    "    return\n",
    "perfectrange(1,1500)"
   ]
  },
  {
   "cell_type": "code",
   "execution_count": null,
   "metadata": {},
   "outputs": [],
   "source": []
  }
 ],
 "metadata": {
  "kernelspec": {
   "display_name": "Python 3",
   "language": "python",
   "name": "python3"
  },
  "language_info": {
   "codemirror_mode": {
    "name": "ipython",
    "version": 3
   },
   "file_extension": ".py",
   "mimetype": "text/x-python",
   "name": "python",
   "nbconvert_exporter": "python",
   "pygments_lexer": "ipython3",
   "version": "3.7.3"
  }
 },
 "nbformat": 4,
 "nbformat_minor": 2
}
