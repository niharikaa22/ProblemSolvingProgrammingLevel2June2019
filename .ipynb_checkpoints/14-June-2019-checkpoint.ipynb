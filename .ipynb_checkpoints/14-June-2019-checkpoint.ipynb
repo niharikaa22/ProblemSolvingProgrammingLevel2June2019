{
 "cells": [
  {
   "cell_type": "markdown",
   "metadata": {},
   "source": [
    "### Problem Solving and Programming in Python-Day 4"
   ]
  },
  {
   "cell_type": "markdown",
   "metadata": {},
   "source": [
    "### Date -14June 2019\n",
    "\n",
    "### Day Objectives:\n",
    "\n",
    "* Python Data Structures\n",
    " * Lists\n",
    " * Tuples\n",
    " * Dictionaries\n",
    "* Basic problem set on Data Structures\n",
    "* Advanced Problem Set\n",
    "* Packages and Modules in Python"
   ]
  },
  {
   "cell_type": "markdown",
   "metadata": {},
   "source": [
    "## Python Data Structures\n",
    "\n",
    "### Lists"
   ]
  },
  {
   "cell_type": "code",
   "execution_count": 113,
   "metadata": {},
   "outputs": [
    {
     "name": "stdout",
     "output_type": "stream",
     "text": [
      "-1\n"
     ]
    }
   ],
   "source": [
    "li = [123,978,654]\n",
    "\n",
    "li # access the entire list\n",
    "\n",
    "li[1] # access the second  through it's index value\n",
    "\n",
    "li[1:] # access all the elements from the second element to last\n",
    "\n",
    "li[::-1] # access all the elements in the reverse order\n",
    "\n",
    "# if we use li[operations] then the list will not be updated\n",
    "\n",
    "li=li[::-1] # reversing and resigning and now the list will be updated\n",
    "\n",
    "li\n",
    "\n",
    "li=li[::-1]\n",
    "\n",
    "li\n",
    "\n",
    "li[::2] #accessing even index elements\n",
    "\n",
    "li[1::2] # accessing odd index elements\n",
    "\n",
    "# Lists caan be accessed manipulated in two different ways\n",
    "        # Direct referencing --- accessing through [index]\n",
    "        # Indirect referencing --- through functions\n",
    "\n",
    "        \n",
    "li. append(345)# Adding an element to end of the list\n",
    "\n",
    "li\n",
    "\n",
    "li.insert(1,234) # Adding an element at a particular index----1--is the index position and 234 is the number added \n",
    "\n",
    "li\n",
    "\n",
    "li.sort() # Sort elements in ascending order if all the elements are of same kind\n",
    "\n",
    "li\n",
    "\n",
    "li.pop() # Remove the last element in a list\n",
    "\n",
    "li.pop(1)# Remove the element at a particular index\n",
    "li\n",
    "\n",
    "li2=[234,456,789]\n",
    "li2\n",
    "\n",
    "li.extend(li2)# Merge list 2 into list 1----li is the list to which list2 elements has to be added\n",
    "\n",
    "li\n",
    "\n",
    "sum(li)   # sum all the elements in the list when the elements are of same type\n",
    "max(li)   # maximum element in the list\n",
    "len(li)   # length of the list\n",
    "sum(li)/len(li) # Average of elements in the list\n",
    "sum(li[::2])/len(li[::2]) # Average of all alternative elements at even positions\n",
    "sum(li[1::2])/len(li[1::2]) # Average of all alternative elements at odd positions\n",
    "max(li)-1 #second largest number in the list\n",
    "\n",
    "\n",
    "try:\n",
    "    li.index(1000)  #if element found print the index value if that element\n",
    "except:\n",
    "    print(-1)    #if not found print -1\n",
    "\n"
   ]
  },
  {
   "cell_type": "code",
   "execution_count": 91,
   "metadata": {},
   "outputs": [
    {
     "data": {
      "text/plain": [
       "2023"
      ]
     },
     "execution_count": 91,
     "metadata": {},
     "output_type": "execute_result"
    }
   ],
   "source": [
    "# Function to identify the second largest element in a unique list \n",
    "\n",
    "def secondlargest(li):\n",
    "    li.sort()\n",
    "    li.reverse()\n",
    "    return li[2]\n",
    "secondlargest([123,345,678,2023])\n",
    "\n",
    "\n",
    "def secondlargest1(li):\n",
    "    li.sort()\n",
    "    return li[-2]\n",
    "secondlargest1(li)\n",
    "\n",
    "\n",
    "\n",
    "# another methods:\n",
    "\n",
    "#sort the data in reverse order and select the second element\n",
    "#Remove the max element and then get the max of the new list\n",
    "#comparison of the list with functions\n",
    "\n",
    "\n",
    "\n",
    "\n",
    "    "
   ]
  },
  {
   "cell_type": "code",
   "execution_count": 95,
   "metadata": {},
   "outputs": [
    {
     "data": {
      "text/plain": [
       "345"
      ]
     },
     "execution_count": 95,
     "metadata": {},
     "output_type": "execute_result"
    }
   ],
   "source": [
    "# Function to identify the nth largest element in a list\n",
    "\n",
    "def nlargest(li,n):\n",
    "    li.sort()\n",
    "    li.reverse()\n",
    "    return li[n]\n",
    "nlargest([123,345,678,2023],1)\n",
    "\n",
    "def nlargest1(li,n):\n",
    "    li.sort()\n",
    "    return li[- n]\n",
    "nlargest1(li,3)\n",
    "    "
   ]
  },
  {
   "cell_type": "code",
   "execution_count": 123,
   "metadata": {},
   "outputs": [
    {
     "data": {
      "text/plain": [
       "-1"
      ]
     },
     "execution_count": 123,
     "metadata": {},
     "output_type": "execute_result"
    }
   ],
   "source": [
    "# Function to search for data in a list\n",
    "# Search for the key in the list and return the index and if not found return -1\n",
    "\n",
    "def linearsearch(li,key):\n",
    "    a=len(li)\n",
    "    for i in range(0,a+1):\n",
    "        if key==li[i]:\n",
    "            return i\n",
    "    return -1\n",
    "#linearsearch(li,2023)\n",
    "\n",
    "\n",
    "\n",
    "# another method:\n",
    "\n",
    "def linearsearch1(li,key):\n",
    "    for index in range(0,len(li)):\n",
    "        if li[index]==key:\n",
    "            return index\n",
    "    return -1\n",
    "#linearsearch1(li,345)\n",
    "\n",
    "\n",
    "# another method:\n",
    "\n",
    "def linearsearch2(li,key):\n",
    "    for element in li:\n",
    "        if element == key:\n",
    "            return li.index(element)\n",
    "    return -1\n",
    "#linearsearch2(li,123)\n",
    "\n",
    "def linearsearch3(li,key):\n",
    "    if key in li:\n",
    "        return li.index(key)\n",
    "    else:\n",
    "        return -1\n",
    "linearsearch3(li,1234)\n"
   ]
  },
  {
   "cell_type": "code",
   "execution_count": 142,
   "metadata": {},
   "outputs": [
    {
     "data": {
      "text/plain": [
       "3"
      ]
     },
     "execution_count": 142,
     "metadata": {},
     "output_type": "execute_result"
    }
   ],
   "source": [
    "# Fuction to count the occurance of a character in a string\n",
    "# python programming\",m---2\n",
    "\n",
    "\n",
    "def countchar(s,c):\n",
    "    count=0\n",
    "    for ch in s:\n",
    "        if ch==c:\n",
    "            count +=1\n",
    "    return count\n",
    "#countchar(\"python programming\",\"m\")\n",
    "\n",
    "def countchar1(s,c):\n",
    "    return s.count(c)\n",
    "#countchar1(\"python programming\",'py')\n",
    "\n",
    "def charcount(string,character):\n",
    "    count=0\n",
    "    b=len(string)\n",
    "    for i in range(0,b):\n",
    "        if string[i]==character:\n",
    "            count=count+1\n",
    "    return count\n",
    "charcount(\"python programming\",\"m\")\n"
   ]
  },
  {
   "cell_type": "code",
   "execution_count": 4,
   "metadata": {},
   "outputs": [
    {
     "data": {
      "text/plain": [
       "4"
      ]
     },
     "execution_count": 4,
     "metadata": {},
     "output_type": "execute_result"
    }
   ],
   "source": [
    "#Function to find the number of occurances of a substring in a string\n",
    "#\"abcabcddcba\",\"ab\"----2\n",
    "\n",
    "def strcount(string,substr):\n",
    "    count=0\n",
    "    d=len(substr)\n",
    "    c=len(string)\n",
    "    for i in range(0,c):\n",
    "        if string[i:i+d]==substr:\n",
    "            count= count+1\n",
    "    return count\n",
    "strcount(\"abcabcddaaaaac\",\"aa\")"
   ]
  },
  {
   "cell_type": "code",
   "execution_count": 6,
   "metadata": {},
   "outputs": [
    {
     "data": {
      "text/plain": [
       "[1, 2, 3, 4, 5, 6]"
      ]
     },
     "execution_count": 6,
     "metadata": {},
     "output_type": "execute_result"
    }
   ],
   "source": [
    "# converting string values into integers\n",
    "\n",
    "s=\"1 2 3 4 5 6\"\n",
    "li=s.split()\n",
    "numberlist=[]\n",
    "for i in li:\n",
    "    numberlist.append(int(i))\n",
    "numberlist\n",
    "\n"
   ]
  },
  {
   "cell_type": "code",
   "execution_count": 8,
   "metadata": {
    "scrolled": true
   },
   "outputs": [
    {
     "name": "stdout",
     "output_type": "stream",
     "text": [
      "3\n"
     ]
    },
    {
     "data": {
      "text/plain": [
       "14"
      ]
     },
     "execution_count": 8,
     "metadata": {},
     "output_type": "execute_result"
    }
   ],
   "source": [
    "# Write a program to print the sum of squares of natural numbers:\n",
    "\n",
    "n=int(input())\n",
    "\n",
    "def sumsqunatural(n):\n",
    "    sum=0\n",
    "    for i in range(1,n+1):\n",
    "        sum=i**2+sum\n",
    "    return sum\n",
    "sumsqunatural(n)\n",
    "        "
   ]
  },
  {
   "cell_type": "code",
   "execution_count": null,
   "metadata": {},
   "outputs": [],
   "source": [
    "\n",
    "    \n"
   ]
  }
 ],
 "metadata": {
  "kernelspec": {
   "display_name": "Python 3",
   "language": "python",
   "name": "python3"
  },
  "language_info": {
   "codemirror_mode": {
    "name": "ipython",
    "version": 3
   },
   "file_extension": ".py",
   "mimetype": "text/x-python",
   "name": "python",
   "nbconvert_exporter": "python",
   "pygments_lexer": "ipython3",
   "version": "3.7.3"
  }
 },
 "nbformat": 4,
 "nbformat_minor": 2
}
