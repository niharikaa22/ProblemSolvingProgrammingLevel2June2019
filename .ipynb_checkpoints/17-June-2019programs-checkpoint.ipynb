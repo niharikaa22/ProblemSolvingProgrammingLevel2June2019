{
 "cells": [
  {
   "cell_type": "code",
   "execution_count": 3,
   "metadata": {},
   "outputs": [
    {
     "name": "stdout",
     "output_type": "stream",
     "text": [
      "2\n",
      "1\n",
      "False\n"
     ]
    }
   ],
   "source": [
    "p=int(input())\n",
    "f=int(input())\n",
    "def isprime(g):\n",
    "    count=0\n",
    "    for j in range(1,g+1):\n",
    "        if g%j==0:\n",
    "            count=count+1\n",
    "    if count<3:\n",
    "        return True\n",
    "    else:\n",
    "        return False\n",
    "    return\n",
    "#isprime(100)\n",
    "\n",
    "def primeperfect(f):\n",
    "    c=0\n",
    "    for i in range(2,f+1):\n",
    "        if f%i==0 and isprime(i):\n",
    "            c=c+1 \n",
    "    if c>=p:\n",
    "        print(\"True\")\n",
    "    else:\n",
    "        print(\"False\")\n",
    "    return\n",
    "\n",
    "\n",
    "primeperfect(f)\n",
    "\n",
    "\n"
   ]
  },
  {
   "cell_type": "code",
   "execution_count": 15,
   "metadata": {},
   "outputs": [
    {
     "name": "stdout",
     "output_type": "stream",
     "text": [
      "abAde123$\n",
      "5\n",
      "3\n",
      "1\n"
     ]
    }
   ],
   "source": [
    "# count the number of alphabets and digits in a given string:\n",
    "\n",
    "s=input()\n",
    "def check(s):\n",
    "    lettercount=0\n",
    "    numcount=0\n",
    "    symbols=0\n",
    "    for i in range(0,len(s)):\n",
    "        if (ord(s[i])>=96 and ord(s[i])<=122) or  (ord(s[i])>=65 and ord(s[i])<=90):\n",
    "            lettercount+=1\n",
    "        elif ord(s[i])<=57 and ord(s[i])>=48:\n",
    "            numcount+=1\n",
    "        else:\n",
    "            symbols+=1\n",
    "    print(lettercount)\n",
    "    print(numcount)\n",
    "    print(symbols)\n",
    "    return\n",
    "check(s)\n"
   ]
  },
  {
   "cell_type": "code",
   "execution_count": 16,
   "metadata": {},
   "outputs": [
    {
     "name": "stdout",
     "output_type": "stream",
     "text": [
      "5\n",
      "[2]\n",
      "[1]\n",
      "[2, 3]\n",
      "[1, 2]\n",
      "[2, 3, 4]\n",
      "[1, 2, 1]\n"
     ]
    }
   ],
   "source": [
    "# Highest Remainder:\n",
    "\n",
    "# N\n",
    "#Highest =0\n",
    "# x<N and N%x ==highest\n",
    "\n",
    "s=int(input())\n",
    "l=[]\n",
    "b=[]\n",
    "def divide(s):\n",
    "    for i in range(1,s+1):\n",
    "        if s//i and s%i!=0:\n",
    "            l.append(i)\n",
    "        if s%i!=0:\n",
    "            b.append(s%i)\n",
    "        print\n",
    "            print(l)\n",
    "            print(b)\n",
    "    return\n",
    "divide(s)\n",
    "            \n",
    "            "
   ]
  },
  {
   "cell_type": "code",
   "execution_count": 28,
   "metadata": {},
   "outputs": [
    {
     "name": "stdout",
     "output_type": "stream",
     "text": [
      "16\n"
     ]
    }
   ],
   "source": [
    "# Highest REmainder:\n",
    "\n",
    "def highestrem(n):\n",
    "    hr=0\n",
    "    v=n\n",
    "    for i in range(n-1,n//2,-1):\n",
    "        r=n%i\n",
    "        if r>hr:\n",
    "            hr==r\n",
    "            v=i\n",
    "    print(v)\n",
    "highestrem(30)\n",
    "        "
   ]
  },
  {
   "cell_type": "code",
   "execution_count": 18,
   "metadata": {},
   "outputs": [
    {
     "data": {
      "text/plain": [
       "122"
      ]
     },
     "execution_count": 18,
     "metadata": {},
     "output_type": "execute_result"
    }
   ],
   "source": [
    "ord('z')"
   ]
  },
  {
   "cell_type": "code",
   "execution_count": null,
   "metadata": {},
   "outputs": [],
   "source": []
  }
 ],
 "metadata": {
  "kernelspec": {
   "display_name": "Python 3",
   "language": "python",
   "name": "python3"
  },
  "language_info": {
   "codemirror_mode": {
    "name": "ipython",
    "version": 3
   },
   "file_extension": ".py",
   "mimetype": "text/x-python",
   "name": "python",
   "nbconvert_exporter": "python",
   "pygments_lexer": "ipython3",
   "version": "3.7.3"
  }
 },
 "nbformat": 4,
 "nbformat_minor": 2
}
