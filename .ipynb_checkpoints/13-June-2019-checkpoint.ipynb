{
 "cells": [
  {
   "cell_type": "markdown",
   "metadata": {},
   "source": [
    "### Advanced problem set(Optional)\n"
   ]
  },
  {
   "cell_type": "code",
   "execution_count": 70,
   "metadata": {},
   "outputs": [
    {
     "name": "stdout",
     "output_type": "stream",
     "text": [
      "1\n",
      "5\n"
     ]
    },
    {
     "data": {
      "text/plain": [
       "3.0"
      ]
     },
     "execution_count": 70,
     "metadata": {},
     "output_type": "execute_result"
    }
   ],
   "source": [
    "#Function to generate average of all factorials in a given range\n",
    "\n",
    "def factnumber1(n):\n",
    "    sum=0\n",
    "    count=0\n",
    "    for i in range(1,n+1):\n",
    "        if n%i==0:\n",
    "            sum=i+sum\n",
    "            count=count+1\n",
    "            print(i)\n",
    "        avg=sum/count\n",
    "    return avg\n",
    "\n",
    "factnumber1(5)"
   ]
  },
  {
   "cell_type": "code",
   "execution_count": null,
   "metadata": {},
   "outputs": [],
   "source": [
    "#Function to generate n Odd Armstrong numbers\n",
    "#   3**3 + 7**3 + 1**3 = 371   \n",
    "\n",
    "def amstrong(a):\n",
    "    for i in range(0,a+1):\n",
    "        number=str(i)\n",
    "        if len(number)==1:\n",
    "            a=int(str(number[0]))** 3\n",
    "            if a==i:\n",
    "                print(i)\n",
    "        elif len(number)==2:\n",
    "            a=int(str(number[0]))**3\n",
    "            b=int(str(number[1]))**3\n",
    "            if (a+b)==i:\n",
    "                print(i)   \n",
    "        else:\n",
    "            a=int(str(number[0]))**3\n",
    "            b=int(str(number[1]))**3\n",
    "            c=int(str(number[2]))**3\n",
    "            if (a+b+c)==i:\n",
    "                print(i)\n",
    "    return \n",
    "  \n",
    "amstrong(200)"
   ]
  },
  {
   "cell_type": "code",
   "execution_count": null,
   "metadata": {},
   "outputs": [],
   "source": [
    "#Function to generate multiplication tables for a number in a given range\n",
    "# 10 in the range (100,110)inclusive\n",
    "# 10x100=1000\n",
    "#10x101=1010\n",
    "# 10x110=1100\n",
    "def multable(start,end):\n",
    "    a=int(input(\"Enter the required table:\"))\n",
    "    for i in range(start,end+1):\n",
    "        b=a*i\n",
    "        print(a,\"x\",i,\"=\",b)\n",
    "    return\n",
    "multable(100,110)\n",
    "        "
   ]
  },
  {
   "cell_type": "code",
   "execution_count": 42,
   "metadata": {},
   "outputs": [
    {
     "name": "stdout",
     "output_type": "stream",
     "text": [
      "500 502 504 506 508 510 512 514 516 518 520 522 524 "
     ]
    }
   ],
   "source": [
    "#Function to print the alternate values in a range \n",
    "#[500,550]--- 500 502 504 .......550----alternate inclusive range\n",
    "#[500,550]----501 503 504........549----alternate exclusive range\n",
    "#[500,550]----500 501 502........549----python range\n",
    "#all set based functions in function have the start value \n",
    "\n",
    "def altervalues(start,end):\n",
    "    for value in range(start,end+1,2):\n",
    "        print(value,end=\" \")\n",
    "    return\n",
    "altervalues(500,525)"
   ]
  },
  {
   "cell_type": "code",
   "execution_count": 33,
   "metadata": {},
   "outputs": [
    {
     "name": "stdout",
     "output_type": "stream",
     "text": [
      "525 523 521 519 517 515 513 511 509 507 505 503 501 "
     ]
    }
   ],
   "source": [
    "# Function to print reverse of given range \n",
    "def revrange(start,end):\n",
    "    for value in range(end,start-1,-2):\n",
    "        print(value,end=\" \")\n",
    "    return\n",
    "revrange(500,525)\n"
   ]
  },
  {
   "cell_type": "code",
   "execution_count": 47,
   "metadata": {},
   "outputs": [
    {
     "name": "stdout",
     "output_type": "stream",
     "text": [
      "525 523 521 519 517 515 513 511 509 507 505 503 501 "
     ]
    }
   ],
   "source": [
    "#Function to print odd numbers in reverse order in a range\n",
    "\n",
    "def oddnum(start,end):\n",
    "    for i in range(end,start-1,-1):\n",
    "        if i%2!=0:\n",
    "            print(i,end=\" \")\n",
    "    return\n",
    "oddnum(500,525)"
   ]
  },
  {
   "cell_type": "code",
   "execution_count": 71,
   "metadata": {},
   "outputs": [
    {
     "data": {
      "text/plain": [
       "55"
      ]
     },
     "execution_count": 71,
     "metadata": {},
     "output_type": "execute_result"
    }
   ],
   "source": [
    "#function to print the sum of numbers in a range\n",
    "\n",
    "def sumnum(start,end):\n",
    "    sum=0\n",
    "    for i in range(start,end+1):\n",
    "        sum=sum+i\n",
    "    return sum\n",
    "sumnum(1,10)"
   ]
  },
  {
   "cell_type": "code",
   "execution_count": 81,
   "metadata": {},
   "outputs": [
    {
     "data": {
      "text/plain": [
       "3.0"
      ]
     },
     "execution_count": 81,
     "metadata": {},
     "output_type": "execute_result"
    }
   ],
   "source": [
    "#Function to calculate the average of a given range\n",
    "\n",
    "def avegrange(start,end):\n",
    "    sum=0\n",
    "    count=0\n",
    "    for i in range(start,end+1):\n",
    "        sum=sum+i\n",
    "        count=count+1\n",
    "    sum=sum/count\n",
    "    return sum\n",
    "avegrange(1,5)"
   ]
  },
  {
   "cell_type": "code",
   "execution_count": 79,
   "metadata": {},
   "outputs": [
    {
     "name": "stdout",
     "output_type": "stream",
     "text": [
      "2000\n",
      "2004\n",
      "2008\n",
      "2012\n",
      "2016\n",
      "2020\n"
     ]
    }
   ],
   "source": [
    "#function to generate the leap years in a given time period\n",
    "#2000-2020     --- 2000 2004 2008 2012 2016 2020\n",
    "\n",
    "\n",
    "def isleap(year):\n",
    "        if year%400==0 or (year%4==0 and year%100!=0):\n",
    "            return True\n",
    "        return False\n",
    "#isleap(2010)\n",
    "def genleap(start,end):\n",
    "    for i in range(start,end+1):\n",
    "        if isleap(i):\n",
    "            print(i)\n",
    "    return\n",
    "genleap(2000,2020)\n",
    "\n",
    "\n",
    "    \n",
    "    \n"
   ]
  },
  {
   "cell_type": "code",
   "execution_count": 81,
   "metadata": {},
   "outputs": [
    {
     "data": {
      "text/plain": [
       "7671"
      ]
     },
     "execution_count": 81,
     "metadata": {},
     "output_type": "execute_result"
    }
   ],
   "source": [
    "# Function to calculate number of days in a given time period using leap year logic\n",
    "\n",
    "def numday(start,end):\n",
    "    count=0\n",
    "    a=0\n",
    "    for i in range(start,end+1):\n",
    "        count=count+1\n",
    "        days=365*count\n",
    "        if isleap(i):\n",
    "            a=a+1\n",
    "    days=days+a\n",
    "    return days\n",
    "\n",
    "numday(2000,2020)\n",
    "            \n",
    "        \n",
    "    \n"
   ]
  },
  {
   "cell_type": "code",
   "execution_count": 82,
   "metadata": {},
   "outputs": [
    {
     "ename": "IndentationError",
     "evalue": "unexpected indent (<ipython-input-82-2177972c99ee>, line 25)",
     "output_type": "error",
     "traceback": [
      "\u001b[1;36m  File \u001b[1;32m\"<ipython-input-82-2177972c99ee>\"\u001b[1;36m, line \u001b[1;32m25\u001b[0m\n\u001b[1;33m    def numdays1(start,end):\u001b[0m\n\u001b[1;37m    ^\u001b[0m\n\u001b[1;31mIndentationError\u001b[0m\u001b[1;31m:\u001b[0m unexpected indent\n"
     ]
    }
   ],
   "source": [
    "#Function to calculate number of hours for a given period\n",
    "# (jan 1995 - june 2019)\n",
    "\n",
    "# 3.steps\n",
    " #1. start month year to end of year----calculate no\n",
    " #2. Calculate days for all years between start year and end year\n",
    "            #1995,2019--365*no of years\n",
    " #3. calculate days from january to end month of the year\n",
    "\n",
    "# Excluding feb\n",
    "#first six months-1,3,4,5,6\n",
    "            #All odd months have 31days\n",
    "            #All eveb months have 30 days\n",
    "#last six months-8,9,10,11,12\n",
    "             # All even months have 31 days\n",
    "             # All odd months have 30 days\n",
    "\n",
    "#31 days-(month<=7 and month % 2!=0)||(month >=8 and month % 2 ==0 and month !=2 )\n",
    "         #return 31\n",
    "    #else\n",
    "     #  return 30\n",
    "        \n",
    "        \n",
    "        \n",
    "        def numdays1(start,end):\n",
    "            \n",
    "            \n",
    "            \n",
    "\n",
    "\n",
    "def numberofdaysmonth(month,year):\n",
    "    if month == 2:\n",
    "        if isleap(year):\n",
    "            a=29\n",
    "            print(a)\n",
    "        else:\n",
    "            a=28\n",
    "            print(a)\n",
    "    elif month%\n",
    "\n",
    "        \n",
    "        \n",
    "\n",
    "    "
   ]
  },
  {
   "cell_type": "code",
   "execution_count": null,
   "metadata": {},
   "outputs": [],
   "source": [
    "#"
   ]
  }
 ],
 "metadata": {
  "kernelspec": {
   "display_name": "Python 3",
   "language": "python",
   "name": "python3"
  },
  "language_info": {
   "codemirror_mode": {
    "name": "ipython",
    "version": 3
   },
   "file_extension": ".py",
   "mimetype": "text/x-python",
   "name": "python",
   "nbconvert_exporter": "python",
   "pygments_lexer": "ipython3",
   "version": "3.7.3"
  }
 },
 "nbformat": 4,
 "nbformat_minor": 2
}
