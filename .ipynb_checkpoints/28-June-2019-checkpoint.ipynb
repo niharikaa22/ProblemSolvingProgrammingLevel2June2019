{
 "cells": [
  {
   "cell_type": "markdown",
   "metadata": {},
   "source": [
    "### Day Objectives:\n",
    "- Map\n",
    "- Lambda\n",
    "- Filter\n",
    "- Use cases - File/ Data Encryption\n"
   ]
  },
  {
   "cell_type": "markdown",
   "metadata": {},
   "source": [
    "### Map \n",
    "\n",
    "* Mapping --- Entity with Function\n",
    "\n",
    "* f:x^2 \n",
    "\n",
    "  x:[1+10]\n",
    "  \n",
    "  f(x)\n",
    "f(1) = 1\n",
    "f(2) = 4\n",
    "\n",
    "y=f(x)\n",
    "\n",
    "f:x^2\n",
    "\n",
    "x     y\n",
    "1     1\n",
    "2     4\n",
    "3     9\n",
    "4     16\n",
    "\n",
    "map(function,Iterable)\n"
   ]
  },
  {
   "cell_type": "code",
   "execution_count": 8,
   "metadata": {},
   "outputs": [
    {
     "data": {
      "text/plain": [
       "8"
      ]
     },
     "execution_count": 8,
     "metadata": {},
     "output_type": "execute_result"
    }
   ],
   "source": [
    "def powerN(a,n):\n",
    "    r=1\n",
    "    for i in range(1,n+1):\n",
    "        r*=a\n",
    "    return r\n",
    "powerN(2,3)\n",
    "\n",
    "\n",
    "# Another method\n",
    "\n",
    "def recursionPowerN(a,n):\n",
    "    if n==0:\n",
    "        return 1\n",
    "    else:\n",
    "        return a * recursionPowerN(a,n-1)\n",
    "recursionPowerN(2,3)\n",
    "    "
   ]
  },
  {
   "cell_type": "code",
   "execution_count": 56,
   "metadata": {},
   "outputs": [
    {
     "data": {
      "text/plain": [
       "[1, 8, 27, 64, 125, 216]"
      ]
     },
     "execution_count": 56,
     "metadata": {},
     "output_type": "execute_result"
    }
   ],
   "source": [
    "def cube(n):\n",
    "    return n**3\n",
    "\n",
    "li=[1,2,3,4,5,6]\n",
    "list(map(cube,li))\n",
    "\n",
    "numbers=[int(i) for i in li]\n",
    "[cube(i) for i in numbers]\n"
   ]
  },
  {
   "cell_type": "code",
   "execution_count": 21,
   "metadata": {},
   "outputs": [
    {
     "data": {
      "text/plain": [
       "[1.0, 2.0, 3.0]"
      ]
     },
     "execution_count": 21,
     "metadata": {},
     "output_type": "execute_result"
    }
   ],
   "source": [
    "li=['1','2','3']\n",
    "\n",
    "li2=list(map(int,li)) ###converting string into integer\n",
    "list(map(str,li2))    #converting integers into string\n",
    "list(map(float,li2))  # converting string to float"
   ]
  },
  {
   "cell_type": "markdown",
   "metadata": {},
   "source": [
    "### Filter \n",
    "\n",
    "- Used to check boolean values\n",
    "         f:x---> {T,F}\n",
    "         \n",
    "- Used to filter the data based on the definite condition\n",
    "         \n",
    "y is a subset of x\n",
    "\n",
    "2,3,5 are primes so satisfied the condition\n",
    "\n",
    "x    y\n",
    "1    not satisfied \n",
    "2    2  \n",
    "3    3\n",
    "4    not satisifed\n",
    "5    5"
   ]
  },
  {
   "cell_type": "code",
   "execution_count": 46,
   "metadata": {},
   "outputs": [
    {
     "data": {
      "text/plain": [
       "[1, 2, 3]"
      ]
     },
     "execution_count": 46,
     "metadata": {},
     "output_type": "execute_result"
    }
   ],
   "source": [
    "li=[1,2,'a','b','c',3]\n",
    "\n",
    "def isdigit(c):\n",
    "    c=str(c)\n",
    "    if c.isdigit():\n",
    "        return True\n",
    "    return False\n",
    "#isdigit('a')\n",
    "\n",
    "list(filter(isdigit,li))\n"
   ]
  },
  {
   "cell_type": "code",
   "execution_count": 57,
   "metadata": {},
   "outputs": [
    {
     "name": "stdout",
     "output_type": "stream",
     "text": [
      "[503, 509, 521, 523, 541, 547, 557, 563, 569, 571, 577, 587, 593, 599]\n",
      "[503, 509, 521, 523, 541, 547, 557, 563, 569, 571, 577, 587, 593, 599]\n"
     ]
    }
   ],
   "source": [
    "# Identify all primes in a given range :\n",
    "\n",
    "def primenum(n):\n",
    "    count=0\n",
    "    for i in range(1,n+1):\n",
    "        if n%i==0:\n",
    "            count+=1\n",
    "    if count==2:\n",
    "        return True\n",
    "    return False\n",
    "primenum(21)\n",
    "            \n",
    "lb,ub=500,600\n",
    "primelist=list(filter(primenum,range(lb,ub+1)))  # filter approach\n",
    "print(primelist)\n",
    "\n",
    "\n",
    "primelist2=[i for i in range(lb,ub+1)      #list comprehension appraoch\n",
    "           if primenum(i)]\n",
    "print(primelist2)\n",
    "\n",
    "# Map fails because it doesn't apply for checking conditions\n",
    "# list comprehension applys for filter and map functions too\n"
   ]
  },
  {
   "cell_type": "markdown",
   "metadata": {},
   "source": [
    "###  Lambda\n",
    "\n",
    "* Anonymous Functions can be emedded into maps,list comprehension,filters\n",
    "\n"
   ]
  },
  {
   "cell_type": "code",
   "execution_count": 78,
   "metadata": {},
   "outputs": [
    {
     "data": {
      "text/plain": [
       "[1, 3, 5]"
      ]
     },
     "execution_count": 78,
     "metadata": {},
     "output_type": "execute_result"
    }
   ],
   "source": [
    "a=lambda x: x**3\n",
    "a(3)\n",
    "\n",
    "list(map(lambda x: x**3,[1,2,3,4,5,6]))\n",
    "\n",
    "list(filter(lambda x:(x%2==0),[1,2,3,4,5]))\n",
    "list(filter(lambda x:(x%2!=0),[1,2,3,4,5]))"
   ]
  },
  {
   "cell_type": "code",
   "execution_count": null,
   "metadata": {},
   "outputs": [],
   "source": []
  }
 ],
 "metadata": {
  "kernelspec": {
   "display_name": "Python 3",
   "language": "python",
   "name": "python3"
  },
  "language_info": {
   "codemirror_mode": {
    "name": "ipython",
    "version": 3
   },
   "file_extension": ".py",
   "mimetype": "text/x-python",
   "name": "python",
   "nbconvert_exporter": "python",
   "pygments_lexer": "ipython3",
   "version": "3.7.3"
  }
 },
 "nbformat": 4,
 "nbformat_minor": 2
}
