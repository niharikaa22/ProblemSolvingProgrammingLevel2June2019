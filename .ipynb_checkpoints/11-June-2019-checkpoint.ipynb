{
 "cells": [
  {
   "cell_type": "markdown",
   "metadata": {},
   "source": [
    "### Markdown Basics\n",
    "* **Bold**\n",
    "* *italic*\n",
    "* ***bold and italic***\n",
    "* Normal text\n",
    "  * Sublist1\n",
    "  * Sublist2\n",
    "* ~~strike~~\n",
    "\n",
    "\n",
    ">1. Ordered list element1\n",
    ">2. ordered list element2\n",
    "\n",
    "\n",
    "\n",
    "\n",
    "`printf(\"Hello Markdown\")`\n",
    "\n",
    "\n",
    "<https://help.github.com/en/articles/getting-started-with-writing-and-formatting-on-github>\n",
    "\n",
    "\n",
    "[Jupyter logo](jupyter.png)\n",
    "\n",
    "![Jupyter Logo](jupyter.png)\n",
    " \n",
    "<img src=\"jupyter.png\" style=\"float:left\">\n",
    "\n",
    "\n",
    "I get 10 times more traffic from [Google] [1] than from\n",
    "[Yahoo] [2] or [MSN] [3].\n",
    "\n",
    "  [1]: http://google.com/        \"Google\"\n",
    "  [2]: http://search.yahoo.com/  \"Yahoo Search\"\n",
    "  [3]: http://search.msn.com/    \"MSN Search\"\n",
    "\n",
    "\n",
    "\n",
    "\n",
    "\n"
   ]
  },
  {
   "cell_type": "markdown",
   "metadata": {},
   "source": [
    "# Python Basics\n",
    "\n",
    "\n",
    "## Python Version 3.7\n"
   ]
  },
  {
   "cell_type": "code",
   "execution_count": 1,
   "metadata": {},
   "outputs": [
    {
     "name": "stdout",
     "output_type": "stream",
     "text": [
      "Hello,Good Afternoon!\n",
      "Hello Python\n",
      "Hello Good Afternoon !||"
     ]
    }
   ],
   "source": [
    "# python comments\n",
    "\n",
    "\n",
    "print(\"Hello,Good Afternoon!\") # Basic output\n",
    "print(\"Hello Python\")\n",
    "print(\"Hello Good Afternoon\", \"!\" , end=\"||\")\n",
    "\n",
    "\n"
   ]
  },
  {
   "cell_type": "markdown",
   "metadata": {},
   "source": [
    "# Assignment"
   ]
  },
  {
   "cell_type": "code",
   "execution_count": 2,
   "metadata": {},
   "outputs": [
    {
     "data": {
      "text/plain": [
       "123456"
      ]
     },
     "execution_count": 2,
     "metadata": {},
     "output_type": "execute_result"
    }
   ],
   "source": [
    "n1=123456 #Single variable assignment\n",
    "eg:123456\n",
    "n1\n"
   ]
  },
  {
   "cell_type": "code",
   "execution_count": 3,
   "metadata": {},
   "outputs": [
    {
     "name": "stdout",
     "output_type": "stream",
     "text": [
      "123 234 345\n"
     ]
    },
    {
     "data": {
      "text/plain": [
       "(123, 234, 345)"
      ]
     },
     "execution_count": 3,
     "metadata": {},
     "output_type": "execute_result"
    }
   ],
   "source": [
    "n2=n3=n4=n1 #Multi variable assignment\n",
    "\n",
    "n3\n",
    "\n",
    "#Multi variabe assignment with variables\n",
    "a,b,c = 123,234,345\n",
    "c,n2\n",
    "print(a,b,c)\n",
    "a,b,c\n",
    "\n"
   ]
  },
  {
   "cell_type": "code",
   "execution_count": null,
   "metadata": {},
   "outputs": [],
   "source": []
  },
  {
   "cell_type": "markdown",
   "metadata": {},
   "source": [
    "### Data Types\n",
    "- int\n",
    "- float\n",
    "- string\n"
   ]
  },
  {
   "cell_type": "code",
   "execution_count": 4,
   "metadata": {},
   "outputs": [
    {
     "data": {
      "text/plain": [
       "12.0"
      ]
     },
     "execution_count": 4,
     "metadata": {},
     "output_type": "execute_result"
    }
   ],
   "source": [
    "type(a)\n",
    "s1 = \"python\"\n",
    "type(s1)\n",
    "\n",
    "f1 = 12.345\n",
    "type(f1)\n",
    "\n",
    "\n",
    "int(f1)\n",
    "float(str(int(f1)))"
   ]
  },
  {
   "cell_type": "code",
   "execution_count": null,
   "metadata": {},
   "outputs": [],
   "source": []
  },
  {
   "cell_type": "markdown",
   "metadata": {},
   "source": [
    "### Arthmetic Operations\n",
    "\n",
    "* +\n",
    "* -\n",
    "* /\n",
    "* *"
   ]
  },
  {
   "cell_type": "code",
   "execution_count": 5,
   "metadata": {},
   "outputs": [
    {
     "name": "stdout",
     "output_type": "stream",
     "text": [
      "5.0\n"
     ]
    }
   ],
   "source": [
    "n1 % 11\n",
    "\n",
    "n3 = n2 ** 12\n",
    "\n",
    "type(n3)\n",
    "len(str(n3)) \n",
    "n3\n",
    "\n",
    "\n",
    "atoms = 10 ** 82\n",
    "len(str(atoms))\n",
    "atoms\n",
    "\n",
    "x = 1 + 2 * 3 - 8 / 4\n",
    "print(x)"
   ]
  },
  {
   "cell_type": "code",
   "execution_count": null,
   "metadata": {},
   "outputs": [],
   "source": []
  },
  {
   "cell_type": "markdown",
   "metadata": {},
   "source": [
    "### Conditionals"
   ]
  },
  {
   "cell_type": "code",
   "execution_count": 6,
   "metadata": {},
   "outputs": [
    {
     "name": "stdout",
     "output_type": "stream",
     "text": [
      "FALSE\n"
     ]
    }
   ],
   "source": [
    "if atoms < 10 ** 82:\n",
    "    print(\"TRUE\")\n",
    "else:\n",
    "    print(\"FALSE\")\n",
    "    \n",
    "    \n",
    "    "
   ]
  },
  {
   "cell_type": "code",
   "execution_count": 7,
   "metadata": {},
   "outputs": [
    {
     "name": "stdout",
     "output_type": "stream",
     "text": [
      "Odd\n"
     ]
    }
   ],
   "source": [
    "# check if an numner is even\n",
    "\n",
    "\n",
    "n=123\n",
    "if n % 2 == 0:\n",
    "    print(\"Even\")\n",
    "else:\n",
    "    print(\"Odd\")"
   ]
  },
  {
   "cell_type": "code",
   "execution_count": 8,
   "metadata": {},
   "outputs": [
    {
     "name": "stdout",
     "output_type": "stream",
     "text": [
      "Enter the first number:23\n",
      "Enter the second number:22\n",
      "Enter the third number:14\n",
      "23  is greatest\n"
     ]
    }
   ],
   "source": [
    "#### Find the greatest of 3 numbers\n",
    "\n",
    "n1 = input(\"Enter the first number:\")\n",
    "n2 = input(\"Enter the second number:\")\n",
    "n3 = input(\"Enter the third number:\")\n",
    "\n",
    "if n1 >= n2 and n1 >= n3:\n",
    "    print(n1,\" is greatest\")\n",
    "elif n2 >= n3 and n2 >= n1:\n",
    "    print(n2,\" is greatest\")\n",
    "else:\n",
    "    print(n3,\" is greatest\")"
   ]
  },
  {
   "cell_type": "code",
   "execution_count": 9,
   "metadata": {},
   "outputs": [
    {
     "name": "stdout",
     "output_type": "stream",
     "text": [
      "True\n"
     ]
    }
   ],
   "source": [
    "# n1,n2,n3 = -1,-100,-50\n",
    "if -1 > -100 and -1 > -50:\n",
    "    print(True)\n"
   ]
  },
  {
   "cell_type": "code",
   "execution_count": 34,
   "metadata": {},
   "outputs": [
    {
     "name": "stdout",
     "output_type": "stream",
     "text": [
      "enter the year:2010\n",
      "2010 is not a leap year\n"
     ]
    }
   ],
   "source": [
    "# Check if a year is a leap year\n",
    "\n",
    "year = int(input(\"enter the year:\"))\n",
    "if (year % 400 == 0):\n",
    "    print(year,\"is leap year\")\n",
    "elif ((year % 4 == 0) and (year % 100 != 0)):\n",
    "    print(year,\"is leap year\")\n",
    "else:\n",
    "    print(year,\"is not a leap year\")"
   ]
  },
  {
   "cell_type": "code",
   "execution_count": 41,
   "metadata": {},
   "outputs": [
    {
     "name": "stdout",
     "output_type": "stream",
     "text": [
      "7\n"
     ]
    }
   ],
   "source": [
    "#calculate the number of digits in a number\n",
    "n1=1234567\n",
    "print(len(str(n1)))"
   ]
  },
  {
   "cell_type": "code",
   "execution_count": 37,
   "metadata": {},
   "outputs": [
    {
     "name": "stdout",
     "output_type": "stream",
     "text": [
      "Enter the number:30\n",
      "30  is mutliple of 10\n"
     ]
    }
   ],
   "source": [
    "#check if a number is a mutliple of 10\n",
    "n1 = int(input(\"Enter the number:\"))\n",
    "if n1%10==0:\n",
    "    print(n1,\" is mutliple of 10\")\n",
    "else:\n",
    "    print(n1,\"is not a multiple of 10\")"
   ]
  },
  {
   "cell_type": "code",
   "execution_count": 46,
   "metadata": {},
   "outputs": [
    {
     "name": "stdout",
     "output_type": "stream",
     "text": [
      "not a factor of 1000\n"
     ]
    }
   ],
   "source": [
    "#check if a number is factor of 1000\n",
    "\n",
    "if 1000%n1==0:\n",
    "    print(\"factor of 1000\")\n",
    "else:\n",
    "    print(\"not a factor of 1000\")"
   ]
  },
  {
   "cell_type": "code",
   "execution_count": 43,
   "metadata": {},
   "outputs": [
    {
     "name": "stdout",
     "output_type": "stream",
     "text": [
      "123456 is not equal to python\n"
     ]
    }
   ],
   "source": [
    "#check if given string is equal to a number\n",
    "\n",
    "s1=\"python\"\n",
    "n1=123456\n",
    "if str(n1)==s1:\n",
    "    print(n1,\"is equal to\", s1)\n",
    "else:\n",
    "    print(n1,\"is not equal to\",s1)"
   ]
  },
  {
   "cell_type": "code",
   "execution_count": 44,
   "metadata": {},
   "outputs": [
    {
     "data": {
      "text/plain": [
       "34.97141690009142"
      ]
     },
     "execution_count": 44,
     "metadata": {},
     "output_type": "execute_result"
    }
   ],
   "source": [
    "#calculate square root of a number without functions\n",
    "n1=1223\n",
    "n1**0.5\n"
   ]
  },
  {
   "cell_type": "code",
   "execution_count": 45,
   "metadata": {},
   "outputs": [
    {
     "name": "stdout",
     "output_type": "stream",
     "text": [
      "31622400000000000\n"
     ]
    }
   ],
   "source": [
    "# calculate the number of nano seconds in a \n",
    "#given year(considering leap year logic)\n",
    "\n",
    "year=2019\n",
    "if year %400 == 0 or ((year % 4 == 0) and (year % 100 != 0)):\n",
    "    print(366*24*60*60*(10**9))\n",
    "else:\n",
    "    print(365*24*60*60*(10**9))"
   ]
  },
  {
   "cell_type": "code",
   "execution_count": null,
   "metadata": {},
   "outputs": [],
   "source": []
  }
 ],
 "metadata": {
  "kernelspec": {
   "display_name": "Python 3",
   "language": "python",
   "name": "python3"
  },
  "language_info": {
   "codemirror_mode": {
    "name": "ipython",
    "version": 3
   },
   "file_extension": ".py",
   "mimetype": "text/x-python",
   "name": "python",
   "nbconvert_exporter": "python",
   "pygments_lexer": "ipython3",
   "version": "3.7.3"
  }
 },
 "nbformat": 4,
 "nbformat_minor": 2
}
