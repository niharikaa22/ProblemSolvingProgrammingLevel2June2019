{
 "cells": [
  {
   "cell_type": "markdown",
   "metadata": {},
   "source": [
    "#### 22-June-2019\n",
    "#### Day Objectives\n",
    "- File Handling\n",
    "    - Basic File Data Processing\n",
    "        - Accessing and Modifying File data\n",
    "    - Character Count\n",
    "    - Line Count\n",
    "    - File Size\n",
    "    - Word count\n",
    "    - Unique Word Count"
   ]
  },
  {
   "cell_type": "code",
   "execution_count": 6,
   "metadata": {},
   "outputs": [
    {
     "name": "stdout",
     "output_type": "stream",
     "text": [
      "new dataline2/nline3\n",
      "line4\n",
      "line5\n"
     ]
    }
   ],
   "source": [
    "# Read a file-File should exist(Read Mode)\n",
    "# Write to a file-Existing(append mode) or new file(write)\n",
    "\n",
    "def readfile(filepath):\n",
    "    \n",
    "    with open(filepath,'r') as f: ##f is a variable used to access the with open function\n",
    "        filedata=f.read()\n",
    "    return filedata\n",
    "filepath=\"DataFiles/data.txt\"\n",
    "print(readfile(filepath))\n",
    "        \n",
    "    "
   ]
  },
  {
   "cell_type": "code",
   "execution_count": 96,
   "metadata": {},
   "outputs": [
    {
     "name": "stdout",
     "output_type": "stream",
     "text": [
      "6\n"
     ]
    }
   ],
   "source": [
    "# function to count the number of characters in a file:\n",
    "\n",
    "def countfile(filepath):\n",
    "    words=0\n",
    "    with open(filepath,'r')as f:\n",
    "        for i in f:\n",
    "            l=i.split()\n",
    "            words=words+len(l)\n",
    "    print(words)\n",
    "filepath=\"DataFiles/data.txt\"\n",
    "countfile(filepath)\n",
    " \n",
    "        "
   ]
  },
  {
   "cell_type": "code",
   "execution_count": 93,
   "metadata": {},
   "outputs": [
    {
     "name": "stdout",
     "output_type": "stream",
     "text": [
      "3\n"
     ]
    }
   ],
   "source": [
    "def countline(filepath):\n",
    "    line=0\n",
    "    with open(filepath,'r')as f:\n",
    "        for line in f:\n",
    "            line=line+1\n",
    "            \n",
    "    print(line)\n",
    "                \n",
    "\n",
    "filepath=\"DataFiles/data.txt\"\n",
    "countwords(filepath)\n",
    "    "
   ]
  },
  {
   "cell_type": "code",
   "execution_count": 97,
   "metadata": {},
   "outputs": [
    {
     "name": "stdout",
     "output_type": "stream",
     "text": [
      "36\n"
     ]
    }
   ],
   "source": [
    "def countchar(filepath):\n",
    "    char=0\n",
    "    with open(filepath,'r') as f:\n",
    "        for i in f:\n",
    "            char=char+len(i)\n",
    "    print(char)\n",
    "    return\n",
    "filepath=\"DataFiles/data.txt\"\n",
    "countchar(filepath)\n",
    "            "
   ]
  },
  {
   "cell_type": "code",
   "execution_count": 103,
   "metadata": {},
   "outputs": [
    {
     "data": {
      "text/plain": [
       "True"
      ]
     },
     "execution_count": 103,
     "metadata": {},
     "output_type": "execute_result"
    }
   ],
   "source": [
    "def isprime(a):\n",
    "    count=0\n",
    "    for i in range(1,a+1):\n",
    "        if a%i==0:\n",
    "            count+=1\n",
    "    if count<3:\n",
    "        return True\n",
    "    else:\n",
    "        return False\n",
    "    return\n",
    "isprime(2)"
   ]
  },
  {
   "cell_type": "code",
   "execution_count": 114,
   "metadata": {},
   "outputs": [],
   "source": [
    "contact={}\n",
    "def addcontact():\n",
    "    n=int(input())\n",
    "    for record in range(n):\n",
    "        name=input()\n",
    "        mobile=input()\n",
    "        email=input()\n",
    "        contact[name]=[mobile,email]\n",
    "    with open(\"contact.txt\",\"w\") as data:\n",
    "        for user in contact.items():\n",
    "            data.write(user[0]+\",\"+user[1][0]+\",\"+user[1][1]+\"/n\")\n",
    "    return \"data added successfully\"\n"
   ]
  },
  {
   "cell_type": "code",
   "execution_count": null,
   "metadata": {},
   "outputs": [
    {
     "name": "stdout",
     "output_type": "stream",
     "text": [
      "2\n"
     ]
    }
   ],
   "source": [
    "addcontact()"
   ]
  },
  {
   "cell_type": "code",
   "execution_count": null,
   "metadata": {},
   "outputs": [],
   "source": []
  }
 ],
 "metadata": {
  "kernelspec": {
   "display_name": "Python 3",
   "language": "python",
   "name": "python3"
  },
  "language_info": {
   "codemirror_mode": {
    "name": "ipython",
    "version": 3
   },
   "file_extension": ".py",
   "mimetype": "text/x-python",
   "name": "python",
   "nbconvert_exporter": "python",
   "pygments_lexer": "ipython3",
   "version": "3.7.3"
  }
 },
 "nbformat": 4,
 "nbformat_minor": 2
}
