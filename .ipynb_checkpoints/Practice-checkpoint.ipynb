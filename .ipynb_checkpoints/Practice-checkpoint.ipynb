{
 "cells": [
  {
   "cell_type": "code",
   "execution_count": 16,
   "metadata": {},
   "outputs": [
    {
     "name": "stdout",
     "output_type": "stream",
     "text": [
      "hello\n"
     ]
    },
    {
     "data": {
      "text/plain": [
       "'ol'"
      ]
     },
     "execution_count": 16,
     "metadata": {},
     "output_type": "execute_result"
    }
   ],
   "source": [
    "a=10\n",
    "b=10\n",
    "a%=b\n",
    "s1=\"hello\"\n",
    "print(s1)\n",
    "s1[0]\n",
    "s1[1]\n",
    "s1[1:5]\n",
    "s1[:-1]\n",
    "s1[::-2]\n",
    "s1[:3:-2]\n",
    "s1[:2:-1]\n"
   ]
  },
  {
   "cell_type": "code",
   "execution_count": 19,
   "metadata": {},
   "outputs": [
    {
     "name": "stdout",
     "output_type": "stream",
     "text": [
      "enter the number:2345\n",
      "the given number is odd\n"
     ]
    }
   ],
   "source": [
    "#even or odd\n",
    "\n",
    "a=int(input(\"enter the number:\"))\n",
    "if a%2==0:\n",
    "      print(\"the given number is even\")\n",
    "else:\n",
    "    print(\"the given number is odd\")"
   ]
  },
  {
   "cell_type": "code",
   "execution_count": 20,
   "metadata": {},
   "outputs": [
    {
     "name": "stdout",
     "output_type": "stream",
     "text": [
      "enter the number:12\n",
      "enter the number22\n",
      "enter the number14\n",
      "22  is the greatest number\n"
     ]
    }
   ],
   "source": [
    "#greatest of the three\n",
    "\n",
    "a=int(input(\"enter the number:\"))\n",
    "b=int(input(\"enter the number\"))\n",
    "c=int(input(\"enter the number\"))\n",
    "if a>b and a>c:\n",
    "    print(a,\" is the greatest number\")\n",
    "if b>a and b>c:\n",
    "    print(b,\" is the greatest number\")\n",
    "if c>a and c>b:\n",
    "    print(c,\" is the greatest number\")\n",
    "    \n"
   ]
  },
  {
   "cell_type": "code",
   "execution_count": 23,
   "metadata": {},
   "outputs": [
    {
     "name": "stdout",
     "output_type": "stream",
     "text": [
      "enter the year:1995\n",
      "1995  is not a leap year\n"
     ]
    }
   ],
   "source": [
    "# leap year\n",
    "\n",
    "year=int(input(\"enter the year:\"))\n",
    "if year%400==0 or (year%4==0 and year%100!=0):\n",
    "    print(year,\" is the leap year\")\n",
    "else:\n",
    "    print(year,\" is not a leap year\")"
   ]
  },
  {
   "cell_type": "code",
   "execution_count": 25,
   "metadata": {},
   "outputs": [
    {
     "name": "stdout",
     "output_type": "stream",
     "text": [
      "enter the number:123456790\n",
      "9\n"
     ]
    }
   ],
   "source": [
    "# number of digits in a number\n",
    "\n",
    "a=str(input(\"enter the number:\"))\n",
    "b=len(a)\n",
    "print(b)"
   ]
  },
  {
   "cell_type": "code",
   "execution_count": 29,
   "metadata": {},
   "outputs": [
    {
     "name": "stdout",
     "output_type": "stream",
     "text": [
      "enter the number:140\n",
      "140  is mutliple of 10\n"
     ]
    }
   ],
   "source": [
    "# checking multiple of 10\n",
    "\n",
    "a=int(input(\"enter the number:\"))\n",
    "if a%10==0:\n",
    "    print(a,\" is mutliple of 10\")\n",
    "else:\n",
    "    print(a,\" is not a mutliple of 10\")\n"
   ]
  },
  {
   "cell_type": "code",
   "execution_count": 31,
   "metadata": {},
   "outputs": [
    {
     "name": "stdout",
     "output_type": "stream",
     "text": [
      "enter the number:100\n",
      "100  factor of 1000\n"
     ]
    }
   ],
   "source": [
    "# checking factor of 1000\n",
    "\n",
    "a=int(input(\"enter the number:\"))\n",
    "if 1000%a==0:\n",
    "    print(a,\" factor of 1000\")\n",
    "else:\n",
    "    print(a,\" not a factor of 1000\")"
   ]
  },
  {
   "cell_type": "code",
   "execution_count": 10,
   "metadata": {},
   "outputs": [
    {
     "name": "stdout",
     "output_type": "stream",
     "text": [
      "string is not equal to number\n"
     ]
    }
   ],
   "source": [
    "## string is eqaul to number\n",
    "\n",
    "a=\"Python\"\n",
    "b=1234\n",
    "if str(a) == b:\n",
    "    print(\"string is equal to number\")\n",
    "else:\n",
    "    print(\"string is not equal to number\")\n",
    "    "
   ]
  },
  {
   "cell_type": "code",
   "execution_count": 17,
   "metadata": {},
   "outputs": [
    {
     "name": "stdout",
     "output_type": "stream",
     "text": [
      "enter the number:1225\n",
      "35.0\n"
     ]
    }
   ],
   "source": [
    "# square root of a number\n",
    "\n",
    "num=int(input(\"enter the number:\"))\n",
    "print(num**(0.5))"
   ]
  },
  {
   "cell_type": "code",
   "execution_count": 1,
   "metadata": {},
   "outputs": [
    {
     "data": {
      "text/plain": [
       "400.0"
      ]
     },
     "execution_count": 1,
     "metadata": {},
     "output_type": "execute_result"
    }
   ],
   "source": [
    "# Simple interest\n",
    "\n",
    "def si(i,t,p):\n",
    "    si=(i*t*p)/100\n",
    "    return(si)\n",
    "si(2,10,2000)\n",
    "    \n"
   ]
  },
  {
   "cell_type": "code",
   "execution_count": 5,
   "metadata": {},
   "outputs": [
    {
     "data": {
      "text/plain": [
       "314.0"
      ]
     },
     "execution_count": 5,
     "metadata": {},
     "output_type": "execute_result"
    }
   ],
   "source": [
    "#area of a circle\n",
    "\n",
    "def circlearea(r):\n",
    "    area=3.14*r**2\n",
    "    return area\n",
    "circlearea(10)"
   ]
  },
  {
   "cell_type": "code",
   "execution_count": 40,
   "metadata": {},
   "outputs": [
    {
     "name": "stdout",
     "output_type": "stream",
     "text": [
      "10\n",
      "2 3 5 7 "
     ]
    }
   ],
   "source": [
    "# finding prime numbers in a given range:\n",
    "def isprime(n):\n",
    "    count=0\n",
    "    for i in range(1,n+1):\n",
    "        if n%i==0:\n",
    "            count+=1\n",
    "    if count<3:\n",
    "        return True\n",
    "    else:\n",
    "        return False\n",
    "    return\n",
    "n=int(input())\n",
    "isprime(n)\n",
    "\n",
    "def primerange(n):\n",
    "    for i in range(2,n+1):\n",
    "        if isprime(i):\n",
    "            print(i,end=\" \")\n",
    "    return\n",
    "primerange(n)\n",
    "\n",
    "\n",
    "        "
   ]
  },
  {
   "cell_type": "code",
   "execution_count": 3,
   "metadata": {},
   "outputs": [
    {
     "name": "stdout",
     "output_type": "stream",
     "text": [
      "niharikaa\n",
      "niha\n",
      "niha\n",
      "niharikaa\n"
     ]
    }
   ],
   "source": [
    "# swap two variables:\n",
    "\n",
    "a=input()\n",
    "b=input()\n",
    "c=0\n",
    "def swap(a,b):\n",
    "    c=a\n",
    "    a=b\n",
    "    print(a)\n",
    "    b=c\n",
    "    print(b)\n",
    "    return\n",
    "swap(a,b)\n",
    "    \n",
    "    "
   ]
  },
  {
   "cell_type": "code",
   "execution_count": 15,
   "metadata": {},
   "outputs": [
    {
     "name": "stdout",
     "output_type": "stream",
     "text": [
      "10\n",
      "6\n",
      "2\n",
      "9\n",
      "7\n",
      "10\n",
      "6\n",
      "7\n",
      "10\n",
      "9\n",
      "9\n"
     ]
    }
   ],
   "source": [
    "#random integers:\n",
    "\n",
    "import random\n",
    "n=int(input())\n",
    "for i in range(1,n+1):\n",
    "    print(random.randint(1,10))\n"
   ]
  },
  {
   "cell_type": "code",
   "execution_count": 1,
   "metadata": {},
   "outputs": [
    {
     "name": "stdout",
     "output_type": "stream",
     "text": [
      "180\n",
      "1\n",
      "180 180\n",
      "ACCEPTED\n"
     ]
    }
   ],
   "source": [
    "# Roy wants to change his profile picture on Facebook. \n",
    "#Now Facebook has some restriction over the dimension of picture that we can upload.\n",
    "#Minimum dimension of the picture can be L x L, where L is the length of the side of square.\n",
    "\n",
    "#Now Roy has N photos of various dimensions.\n",
    "#Dimension of a photo is denoted as W x H \n",
    "#where W - width of the photo and H - Height of the photo\n",
    "\n",
    "#When any photo is uploaded following events may occur:\n",
    "\n",
    "#[1] If any of the width or height is less than L, user is prompted to upload another one. Print \"UPLOAD ANOTHER\" in this case.\n",
    "#[2] If width and height, both are large enough and \n",
    "#(a) if the photo is already square then it is accepted. Print \"ACCEPTED\" in this case.\n",
    "#(b) else user is prompted to crop it. Print \"CROP IT\" in this case.\n",
    "\n",
    "def profile(l,n,a):\n",
    "    w=int(a[0])\n",
    "    h=int(a[1])\n",
    "    if (w<l or h<l) and (w==h):\n",
    "        print(\"UPLOAD ANOTHER\")\n",
    "    elif w==h:\n",
    "        print(\"ACCEPTED\")\n",
    "    elif w>=l and h>=l:\n",
    "        print(\"CROP IT\")\n",
    "       #print(l,n,w,h)\n",
    "    elif (w<l and h>l)or(h<l and w>l):\n",
    "        print(\"UPLOAD ANOTHER\")\n",
    "       #print(l,n,w,h)\n",
    "    elif (w<l and h<=l) or (w<=l and h<l):\n",
    "        print(\"UPLOAD ANOTHER\")\n",
    "       #print(l,n,w,h)\n",
    "    return\n",
    "\n",
    "l=int(input())\n",
    "n=int(input())\n",
    "for i in range(0,n):\n",
    "    a=input().split()\n",
    "    profile(l,n,a)\n"
   ]
  },
  {
   "cell_type": "code",
   "execution_count": null,
   "metadata": {},
   "outputs": [],
   "source": [
    "#Given two strings, a and b , that may or may not be of the same length, \n",
    "#determine the minimum number of character deletions required to make a and b anagrams. \n",
    "#Any characters can be deleted from either of the strings.\n",
    "\n",
    "#Input :\n",
    "\n",
    "##test cases,t\n",
    "#two strings a and b, for each test case\n",
    "\n",
    "n=int(input())\n",
    "for i in range(0,n):\n",
    "    a=input()\n",
    "    b=input()\n",
    "    a1=[0]*26\n",
    "    b1=[0]*26\n",
    "    for element in range(0,len(a)):\n",
    "        a1[ord(a[element])-97]+=1\n",
    "    for element in range(0,len(b)):\n",
    "        b1[ord(b[element])-97]+=1\n",
    "    result=0\n",
    "    for i in range(26):\n",
    "        result=result+abs((a1[i])-(b1[i]))\n",
    "    print(result)"
   ]
  },
  {
   "cell_type": "code",
   "execution_count": null,
   "metadata": {},
   "outputs": [],
   "source": [
    "#Goki recently had a breakup, so he wants to have some more friends in his life. \n",
    "#Goki has N people who he can be friends with,\n",
    "#so he decides to choose among them according to their skills set Yi(1<=i<=n). He wants atleast X skills in his friends.\n",
    "#Help Goki find his friends.\n",
    "#INPUT\n",
    "##First line of the input contains an integer N denoting the number of people.\n",
    "\n",
    "#Next line contains a single integer X - denoting the minimum skill required to be Goki's friend. \n",
    "\n",
    "#Next n lines contain one integer Y - denoting the skill of ith person.\n",
    "\n",
    "\n",
    "\n",
    "N=int(input())\n",
    "M=int(input())\n",
    "for i in range(0,N):\n",
    "    Y=int(input())\n",
    "    if Y>=M:\n",
    "        print(\"YES\")\n",
    "    else:\n",
    "        print(\"NO\")\n"
   ]
  },
  {
   "cell_type": "code",
   "execution_count": 6,
   "metadata": {},
   "outputs": [
    {
     "name": "stdout",
     "output_type": "stream",
     "text": [
      "1\n",
      "45\n",
      "40 AS\n"
     ]
    }
   ],
   "source": [
    "#Akash and Vishal are quite fond of travelling. \n",
    "#They mostly travel by railways. They were travelling in a train one day and \n",
    "#they got interested in the seating arrangement of their compartment. The compartment looked something like \n",
    "#So they got interested to know the seat number facing them and the seat type facing them.\n",
    "#The seats are denoted as follows : \n",
    "\n",
    "#Window Seat : WS\n",
    "##Middle Seat : MS\n",
    "#Aisle Seat : AS\n",
    "\n",
    "#You will be given a seat number, find out the seat number facing you and the seat type, i.e. WS, MS or AS.\n",
    "\n",
    "#INPUT\n",
    "#First line of input will consist of a single integer T denoting number of test-cases. Each test-case consists of a single integer N denoting the seat-number.\n",
    "\n",
    "##OUTPUT\n",
    "#For each test case, print the facing seat-number and the seat-type, separated by a single space in a new line.\n",
    "\n",
    "\n",
    "t=int(input())\n",
    "for i in range(0,t):\n",
    "    n=int(input())\n",
    "    if n%12==1:\n",
    "        print(n+11,\" WS\")\n",
    "    elif n%12==2:\n",
    "        print(n+9,\"MS\")\n",
    "    elif n%12==3:\n",
    "        print(n+7,\"AS\")\n",
    "    elif n%12==4:\n",
    "        print(n+5,\"AS\")\n",
    "    elif n%12==5:\n",
    "        print(n+3,\"MS\")\n",
    "    elif n%12==6:\n",
    "        print(n+1,\"WS\")\n",
    "    elif n%12==7:\n",
    "        print(n-1,\"WS\")\n",
    "    elif n%12==8:\n",
    "        print(n-3,\"MS\")\n",
    "    elif n%12==9:\n",
    "        print(n-5,\"AS\")\n",
    "    elif n%12==10:\n",
    "        print(n-7,\"AS\")\n",
    "    elif n%12==11:\n",
    "        print(n-9,\"MS\")\n",
    "    elif n%12==0:\n",
    "        print(n-11,\"WS\")\n",
    "            \n",
    "        "
   ]
  },
  {
   "cell_type": "code",
   "execution_count": 28,
   "metadata": {},
   "outputs": [
    {
     "name": "stdout",
     "output_type": "stream",
     "text": [
      "1401601499\n",
      "Legal ISBN\n"
     ]
    }
   ],
   "source": [
    "\n",
    "\n",
    "string=input()\n",
    "sum=0\n",
    "if len(string)==10:\n",
    "    for i in range(0,len(string)):\n",
    "        sum=(int(i+1)*int(string[i]))+sum\n",
    "        #print(sum)\n",
    "    if sum%11==0:\n",
    "        print(\"Legal ISBN\")\n",
    "    else:\n",
    "        print(\"Illegal ISBN\")\n",
    "elif len(string)!=10:\n",
    "    print(\"Illegal ISBN\")\n"
   ]
  },
  {
   "cell_type": "code",
   "execution_count": 29,
   "metadata": {},
   "outputs": [
    {
     "name": "stdout",
     "output_type": "stream",
     "text": [
      "1\n",
      "1\n",
      "2\n",
      "2\n",
      "42\n"
     ]
    }
   ],
   "source": [
    "\n",
    "#Your program is to use the brute-force approach in order to find the Answer to Life, the Universe, and Everything.\n",
    "##More precisely... rewrite small numbers from input to output. \n",
    "#Stop processing input after reading in the number 42. \n",
    "#All numbers at input are integers of one or two digits.\n",
    "\n",
    "while (1):\n",
    "    l=int(input())\n",
    "    if l!=42:\n",
    "        print(l)\n",
    "    else:\n",
    "        break\n",
    "    \n",
    "            "
   ]
  },
  {
   "cell_type": "code",
   "execution_count": 37,
   "metadata": {},
   "outputs": [
    {
     "name": "stdout",
     "output_type": "stream",
     "text": [
      "12\n",
      "Motu\n"
     ]
    }
   ],
   "source": [
    "n=int(input())\n",
    "for i in range(1,n+1):\n",
    "    p=i\n",
    "    m=i*2\n",
    "    if n%p==0:\n",
    "        print(\"Motu\")\n",
    "        break\n",
    "    if n%m==0:\n",
    "        print(\"Potlu\")\n",
    "        break\n",
    "        "
   ]
  },
  {
   "cell_type": "code",
   "execution_count": null,
   "metadata": {},
   "outputs": [],
   "source": []
  }
 ],
 "metadata": {
  "kernelspec": {
   "display_name": "Python 3",
   "language": "python",
   "name": "python3"
  },
  "language_info": {
   "codemirror_mode": {
    "name": "ipython",
    "version": 3
   },
   "file_extension": ".py",
   "mimetype": "text/x-python",
   "name": "python",
   "nbconvert_exporter": "python",
   "pygments_lexer": "ipython3",
   "version": "3.7.3"
  }
 },
 "nbformat": 4,
 "nbformat_minor": 2
}
