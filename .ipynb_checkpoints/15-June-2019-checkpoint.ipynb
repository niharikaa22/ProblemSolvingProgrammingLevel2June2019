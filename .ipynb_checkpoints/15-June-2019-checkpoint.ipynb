{
 "cells": [
  {
   "cell_type": "markdown",
   "metadata": {},
   "source": [
    "## Practicing progams in HackerEarth\n"
   ]
  },
  {
   "cell_type": "code",
   "execution_count": null,
   "metadata": {},
   "outputs": [],
   "source": [
    "# You have been given 3 integers - l, r and k.\n",
    "# Find how many numbers between l and r (both inclusive) are divisible by k.\n",
    "# You do not need to print these numbers, you just have to find their count.\n",
    "\n",
    "num=input()\n",
    "li=num.split()\n",
    "l=int(li[0])\n",
    "r=int(li[1])\n",
    "k=int(li[2])\n",
    "    \n",
    "def countdiv(l,r,k):\n",
    "    count=0\n",
    "    for i in range(l,r+1):\n",
    "        if l%k==0:\n",
    "            count=count+1\n",
    "    print(count)\n",
    "    return\n",
    "countdiv(l,r,k)"
   ]
  },
  {
   "cell_type": "code",
   "execution_count": 19,
   "metadata": {},
   "outputs": [
    {
     "name": "stdout",
     "output_type": "stream",
     "text": [
      "abcdE\n",
      "ABCDe"
     ]
    }
   ],
   "source": [
    "#You have been given a String S consisting of uppercase and lowercase English alphabets. \n",
    "#You need to change the case of each alphabet in this String.\n",
    "#That is, all the uppercase letters should be converted to lowercase \n",
    "#and all the lowercase letters should be converted to uppercase. \n",
    "#You need to then print the resultant String to output.\n",
    "\n",
    "s=input()\n",
    "def toggle(s):\n",
    "    m=[]\n",
    "    for i in s:\n",
    "        if i.islower():\n",
    "            m.append(i.upper())\n",
    "        elif i.isupper():\n",
    "            m.append(i.lower())\n",
    "    for i in m:\n",
    "        print(i,end=\"\")\n",
    "    \n",
    "toggle(s)\n",
    "    "
   ]
  },
  {
   "cell_type": "code",
   "execution_count": 3,
   "metadata": {},
   "outputs": [
    {
     "name": "stdout",
     "output_type": "stream",
     "text": [
      "madam\n",
      "YES\n"
     ]
    }
   ],
   "source": [
    "#You have been given a String S. You need to find and print whether this string is a palindrome or not.\n",
    "#If yes, print \"YES\" (without quotes), else print \"NO\" (without quotes).\n",
    "\n",
    "s=input()\n",
    "def paralindrome(s):\n",
    "    a=s[-1::-1]\n",
    "    if s==a:\n",
    "        print(\"YES\")\n",
    "    else:\n",
    "        print(\"NO\")\n",
    "    return\n",
    "paralindrome(s)\n",
    "\n",
    "\n",
    "\n",
    "\n",
    "        "
   ]
  },
  {
   "cell_type": "code",
   "execution_count": null,
   "metadata": {},
   "outputs": [],
   "source": [
    "# prime number in a range\n",
    "\n",
    "def isprime(m):\n",
    "    count=0\n",
    "    for i in range(1,m+1):\n",
    "            if m%i==0:\n",
    "                count+=1\n",
    "    if count==2:\n",
    "        return True\n",
    "    else:\n",
    "        return False\n",
    "j=int(input())\n",
    "\n",
    "\n",
    "def prime(n):\n",
    "    for h in range(1,n+1):\n",
    "        if isprime(h):\n",
    "            print(h,end=\" \")\n",
    "    return\n",
    "prime(j)\n",
    "            \n",
    "                    \n",
    "            \n",
    " \n",
    "    "
   ]
  },
  {
   "cell_type": "code",
   "execution_count": 8,
   "metadata": {},
   "outputs": [
    {
     "ename": "SyntaxError",
     "evalue": "EOL while scanning string literal (<ipython-input-8-a120985366d0>, line 14)",
     "output_type": "error",
     "traceback": [
      "\u001b[1;36m  File \u001b[1;32m\"<ipython-input-8-a120985366d0>\"\u001b[1;36m, line \u001b[1;32m14\u001b[0m\n\u001b[1;33m    print(\"no\") \"\"\"\"\u001b[0m\n\u001b[1;37m                    \n^\u001b[0m\n\u001b[1;31mSyntaxError\u001b[0m\u001b[1;31m:\u001b[0m EOL while scanning string literal\n"
     ]
    }
   ],
   "source": [
    "s=input()\n",
    "a=s.split()\n",
    "s1=a[0]\n",
    "s2=a[1]\n",
    "\"\"\"\"sum1=0\n",
    "for ch in s1:\n",
    "    sum1+=ord(ch)\n",
    "sum2=0\n",
    "for ch in s2:\n",
    "    sum2+=ord(ch)\n",
    "if sum1==sum2:\n",
    "    print(\"yes\")\n",
    "else:\n",
    "    print(\"no\") \"\"\"\"\n",
    "\n",
    "\n",
    "if sorted(s1)==sorted(s2):\n",
    "    print(\"YES\")\n",
    "else:\n",
    "    print(\"NO\")\n",
    "    \n",
    "\n",
    "    \n"
   ]
  },
  {
   "cell_type": "code",
   "execution_count": 3,
   "metadata": {},
   "outputs": [
    {
     "name": "stdout",
     "output_type": "stream",
     "text": [
      "madam\n",
      "madam\n",
      "yes\n"
     ]
    }
   ],
   "source": [
    "s=input()\n",
    "def parlindrome(s):\n",
    "    a=s[-1::-1]\n",
    "    print(a)\n",
    "    if s==a:\n",
    "        print(\"yes\")\n",
    "    else:\n",
    "        print(\"no\")\n",
    "    return\n",
    "parlindrome(s)\n",
    "\n",
    "    "
   ]
  },
  {
   "cell_type": "code",
   "execution_count": null,
   "metadata": {},
   "outputs": [],
   "source": []
  }
 ],
 "metadata": {
  "kernelspec": {
   "display_name": "Python 3",
   "language": "python",
   "name": "python3"
  },
  "language_info": {
   "codemirror_mode": {
    "name": "ipython",
    "version": 3
   },
   "file_extension": ".py",
   "mimetype": "text/x-python",
   "name": "python",
   "nbconvert_exporter": "python",
   "pygments_lexer": "ipython3",
   "version": "3.7.3"
  }
 },
 "nbformat": 4,
 "nbformat_minor": 2
}
