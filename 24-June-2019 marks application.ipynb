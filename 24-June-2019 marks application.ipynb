{
 "cells": [
  {
   "cell_type": "code",
   "execution_count": 240,
   "metadata": {},
   "outputs": [],
   "source": [
    "# Marks Analysis\n",
    "    # Generate marks file for n students\n",
    "    # Input:Marks text file-each line contains\n",
    "    # Generates  a report with the following information \n",
    "        #Class Average\n",
    "        # % of students passed\n",
    "        # % of students failed\n",
    "        # % of students with distinction\n",
    "        # Highest mark frequency\n",
    "        # lowest mark frequency\n",
    "        \n",
    "    \n"
   ]
  },
  {
   "cell_type": "code",
   "execution_count": 243,
   "metadata": {},
   "outputs": [],
   "source": [
    "# function to generate marks data for n students\n",
    "from random import randint\n",
    "def generatemarks(n,lb,ub):\n",
    "    with open('DataFiles/marks.txt','w') as f:\n",
    "        for i in range(0,n):\n",
    "            r=randint(lb,ub)\n",
    "            f.write(str(r)+'\\n')\n",
    "    return\n",
    "generatemarks(50,0,100)\n",
    "\n",
    "    "
   ]
  },
  {
   "cell_type": "code",
   "execution_count": 244,
   "metadata": {},
   "outputs": [
    {
     "name": "stdout",
     "output_type": "stream",
     "text": [
      "average :  53.12\n"
     ]
    }
   ],
   "source": [
    "#Function to find average of marks:\n",
    "\n",
    "def linecount(filepath):\n",
    "    linecount=0\n",
    "    with open('DataFiles/marks.txt','r') as f:\n",
    "        for i in f:\n",
    "            for j in i.split():\n",
    "                linecount+=1\n",
    "    return linecount\n",
    "#linecount('DataFiles/sample1.txt')\n",
    "\n",
    "def avgmarks(filepath):\n",
    "    s=0\n",
    "    a=linecount('DataFiles/marks.txt')\n",
    "    with open('DataFiles/marks.txt','r') as f:\n",
    "        for i in f:\n",
    "            for j in i.split():\n",
    "                #print(j)\n",
    "                s=(s+int(j))\n",
    "        \n",
    "        print('average : ',s/a)\n",
    "    return \n",
    "avgmarks('DataFiles/marks.txt')\n",
    "        "
   ]
  },
  {
   "cell_type": "code",
   "execution_count": 235,
   "metadata": {},
   "outputs": [
    {
     "name": "stdout",
     "output_type": "stream",
     "text": [
      "% passed :  82.0\n"
     ]
    }
   ],
   "source": [
    "# Function to find % of passed students:\n",
    "\n",
    "def passpercentage(filepath):\n",
    "    p=0\n",
    "    a=linecount('DataFiles/marks.txt')\n",
    "    with open(\"DataFiles/marks.txt\",'r') as f:\n",
    "        for i in f:\n",
    "            for j in i.split():\n",
    "                if int(j)>=35:\n",
    "                    p+=1\n",
    "        print(\"% passed : \",(p/a)*100)\n",
    "    return\n",
    "passpercentage('DataFiles/marks.txt')\n"
   ]
  },
  {
   "cell_type": "code",
   "execution_count": 245,
   "metadata": {},
   "outputs": [
    {
     "name": "stdout",
     "output_type": "stream",
     "text": [
      "% failed:  26.0\n"
     ]
    }
   ],
   "source": [
    "# Function to find % of failed students:\n",
    "\n",
    "def failpercentage(filepath):\n",
    "    fail=0\n",
    "    a=linecount('DataFiles/marks.txt')\n",
    "    with open(\"DataFiles/marks.txt\",'r') as f:\n",
    "        for i in f:\n",
    "            for j in i.split():\n",
    "                if int(j)<35:\n",
    "                    fail+=1\n",
    "        print(\"% failed: \",(fail/a)*100)\n",
    "    return\n",
    "failpercentage('DataFiles/marks.txt')\n",
    "\n"
   ]
  },
  {
   "cell_type": "code",
   "execution_count": 246,
   "metadata": {},
   "outputs": [
    {
     "name": "stdout",
     "output_type": "stream",
     "text": [
      "% distinction:  28.000000000000004\n"
     ]
    }
   ],
   "source": [
    "# Function to find % of distinction students:\n",
    "\n",
    "def distinctionpercentage(filepath):\n",
    "    dist=0\n",
    "    a=linecount('DataFiles/marks.txt')\n",
    "    with open(\"DataFiles/marks.txt\",'r') as f:\n",
    "        for i in f:\n",
    "            for j in i.split():\n",
    "                if int(j)>=75:\n",
    "                    dist+=1\n",
    "        print(\"% distinction: \",(dist/a)*100)\n",
    "    return\n",
    "distinctionpercentage('DataFiles/marks.txt')\n"
   ]
  },
  {
   "cell_type": "code",
   "execution_count": 250,
   "metadata": {},
   "outputs": [
    {
     "name": "stdout",
     "output_type": "stream",
     "text": [
      "Highest Frequency  100 - 1\n"
     ]
    }
   ],
   "source": [
    "# Function to find highest mark frequency:\n",
    "\n",
    "def HighestFreq(filepath):\n",
    "    l=[]\n",
    "    c=0\n",
    "    with open(\"DataFiles/marks.txt\",'r') as f:\n",
    "        for i in f:\n",
    "            for j in i.split():\n",
    "                l.append(int(j))\n",
    "                c=max(l)\n",
    "            for i in range(0,len(l)):\n",
    "                if c in l:\n",
    "                    b=l.count(c)\n",
    "    \n",
    "    print(\"Highest Frequency \",c,\"-\",b)          \n",
    "    return \n",
    "            \n",
    "    \n",
    "    \n",
    "HighestFreq(\"DataFile/marks.txt\")\n",
    "\n",
    "\n",
    "    "
   ]
  },
  {
   "cell_type": "code",
   "execution_count": 248,
   "metadata": {},
   "outputs": [
    {
     "name": "stdout",
     "output_type": "stream",
     "text": [
      "Lowest Frequency  3 - 1\n"
     ]
    }
   ],
   "source": [
    "# Function to find Lowest mark frequency:\n",
    "\n",
    "def lowestFreq(filepath):\n",
    "    l=[]\n",
    "    c=0\n",
    "    with open(\"DataFiles/marks.txt\",'r') as f:\n",
    "        for i in f:\n",
    "            for j in i.split():\n",
    "                l.append(int(j))\n",
    "                c=min(l)\n",
    "            for i in range(0,len(l)):\n",
    "                if c in l:\n",
    "                    b=l.count(c)\n",
    "    \n",
    "    print(\"Lowest Frequency \",c,\"-\",b)          \n",
    "    return \n",
    "            \n",
    "    \n",
    "    \n",
    "lowestFreq(\"DataFile/marks.txt\")\n",
    "\n",
    "\n",
    "    "
   ]
  },
  {
   "cell_type": "code",
   "execution_count": 249,
   "metadata": {},
   "outputs": [
    {
     "name": "stdout",
     "output_type": "stream",
     "text": [
      "average :  57.72\n",
      "% passed :  76.0\n",
      "% failed:  24.0\n",
      "% distinction:  40.0\n",
      "Highest Frequency  100 - 1\n",
      "Lowest Frequency  2 - 1\n"
     ]
    }
   ],
   "source": [
    "# Function to generate the marks report of students:\n",
    "\n",
    "def Genearatereport(filepath):\n",
    "    generatemarks(50,0,100)\n",
    "    avgmarks('DataFiles/marks.txt')\n",
    "    passpercentage('DataFiles/marks.txt')\n",
    "    failpercentage('DataFiles/marks.txt')\n",
    "    distinctionpercentage('DataFiles/marks.txt')\n",
    "    HighestFreq(\"DataFile/marks.txt\")\n",
    "    lowestFreq(\"DataFile/marks.txt\")\n",
    "    return\n",
    "Genearatereport(\"DataFile/marks.txt\")\n",
    "    \n",
    "\n",
    "    \n",
    "    "
   ]
  },
  {
   "cell_type": "code",
   "execution_count": null,
   "metadata": {},
   "outputs": [],
   "source": []
  }
 ],
 "metadata": {
  "kernelspec": {
   "display_name": "Python 3",
   "language": "python",
   "name": "python3"
  },
  "language_info": {
   "codemirror_mode": {
    "name": "ipython",
    "version": 3
   },
   "file_extension": ".py",
   "mimetype": "text/x-python",
   "name": "python",
   "nbconvert_exporter": "python",
   "pygments_lexer": "ipython3",
   "version": "3.7.3"
  }
 },
 "nbformat": 4,
 "nbformat_minor": 2
}
