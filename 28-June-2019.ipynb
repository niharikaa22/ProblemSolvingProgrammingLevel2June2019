{
 "cells": [
  {
   "cell_type": "markdown",
   "metadata": {},
   "source": [
    "### Day Objectives:\n",
    "- Map\n",
    "- Lambda\n",
    "- Filter\n",
    "- Use cases - File/ Data Encryption\n"
   ]
  },
  {
   "cell_type": "markdown",
   "metadata": {},
   "source": [
    "### Map \n",
    "\n",
    "* Mapping --- Entity with Function\n",
    "\n",
    "* f:x^2 \n",
    "\n",
    "  x:[1+10]\n",
    "  \n",
    "  f(x)\n",
    "f(1) = 1\n",
    "f(2) = 4\n",
    "\n",
    "y=f(x)\n",
    "\n",
    "f:x^2\n",
    "\n",
    "x     y\n",
    "1     1\n",
    "2     4\n",
    "3     9\n",
    "4     16\n",
    "\n",
    "map(function,Iterable)\n"
   ]
  },
  {
   "cell_type": "code",
   "execution_count": 8,
   "metadata": {},
   "outputs": [
    {
     "data": {
      "text/plain": [
       "8"
      ]
     },
     "execution_count": 8,
     "metadata": {},
     "output_type": "execute_result"
    }
   ],
   "source": [
    "def powerN(a,n):\n",
    "    r=1\n",
    "    for i in range(1,n+1):\n",
    "        r*=a\n",
    "    return r\n",
    "powerN(2,3)\n",
    "\n",
    "\n",
    "# Another method\n",
    "\n",
    "def recursionPowerN(a,n):\n",
    "    if n==0:\n",
    "        return 1\n",
    "    else:\n",
    "        return a * recursionPowerN(a,n-1)\n",
    "recursionPowerN(2,3)\n",
    "    "
   ]
  },
  {
   "cell_type": "code",
   "execution_count": 56,
   "metadata": {},
   "outputs": [
    {
     "data": {
      "text/plain": [
       "[1, 8, 27, 64, 125, 216]"
      ]
     },
     "execution_count": 56,
     "metadata": {},
     "output_type": "execute_result"
    }
   ],
   "source": [
    "def cube(n):\n",
    "    return n**3\n",
    "\n",
    "li=[1,2,3,4,5,6]\n",
    "list(map(cube,li))\n",
    "\n",
    "numbers=[int(i) for i in li]\n",
    "[cube(i) for i in numbers]\n"
   ]
  },
  {
   "cell_type": "code",
   "execution_count": 21,
   "metadata": {},
   "outputs": [
    {
     "data": {
      "text/plain": [
       "[1.0, 2.0, 3.0]"
      ]
     },
     "execution_count": 21,
     "metadata": {},
     "output_type": "execute_result"
    }
   ],
   "source": [
    "li=['1','2','3']\n",
    "\n",
    "li2=list(map(int,li)) ###converting string into integer\n",
    "list(map(str,li2))    #converting integers into string\n",
    "list(map(float,li2))  # converting string to float"
   ]
  },
  {
   "cell_type": "markdown",
   "metadata": {},
   "source": [
    "### Filter \n",
    "\n",
    "- Used to check boolean values\n",
    "         f:x---> {T,F}\n",
    "         \n",
    "- Used to filter the data based on the definite condition\n",
    "         \n",
    "y is a subset of x\n",
    "\n",
    "2,3,5 are primes so satisfied the condition\n",
    "\n",
    "x    y\n",
    "1    not satisfied \n",
    "2    2  \n",
    "3    3\n",
    "4    not satisifed\n",
    "5    5"
   ]
  },
  {
   "cell_type": "code",
   "execution_count": 46,
   "metadata": {},
   "outputs": [
    {
     "data": {
      "text/plain": [
       "[1, 2, 3]"
      ]
     },
     "execution_count": 46,
     "metadata": {},
     "output_type": "execute_result"
    }
   ],
   "source": [
    "li=[1,2,'a','b','c',3]\n",
    "\n",
    "def isdigit(c):\n",
    "    c=str(c)\n",
    "    if c.isdigit():\n",
    "        return True\n",
    "    return False\n",
    "#isdigit('a')\n",
    "\n",
    "list(filter(isdigit,li))\n"
   ]
  },
  {
   "cell_type": "code",
   "execution_count": 57,
   "metadata": {},
   "outputs": [
    {
     "name": "stdout",
     "output_type": "stream",
     "text": [
      "[503, 509, 521, 523, 541, 547, 557, 563, 569, 571, 577, 587, 593, 599]\n",
      "[503, 509, 521, 523, 541, 547, 557, 563, 569, 571, 577, 587, 593, 599]\n"
     ]
    }
   ],
   "source": [
    "# Identify all primes in a given range :\n",
    "\n",
    "def primenum(n):\n",
    "    count=0\n",
    "    for i in range(1,n+1):\n",
    "        if n%i==0:\n",
    "            count+=1\n",
    "    if count==2:\n",
    "        return True\n",
    "    return False\n",
    "primenum(21)\n",
    "            \n",
    "lb,ub=500,600\n",
    "primelist=list(filter(primenum,range(lb,ub+1)))  # filter approach\n",
    "print(primelist)\n",
    "\n",
    "\n",
    "primelist2=[i for i in range(lb,ub+1)      #list comprehension appraoch\n",
    "           if primenum(i)]\n",
    "print(primelist2)\n",
    "\n",
    "# Map fails because it doesn't apply for checking conditions\n",
    "# list comprehension applys for filter and map functions too\n"
   ]
  },
  {
   "cell_type": "markdown",
   "metadata": {},
   "source": [
    "###  Lambda\n",
    "\n",
    "* Anonymous Functions can be emedded into maps,list comprehension,filters\n",
    "\n"
   ]
  },
  {
   "cell_type": "code",
   "execution_count": 78,
   "metadata": {},
   "outputs": [
    {
     "data": {
      "text/plain": [
       "[1, 3, 5]"
      ]
     },
     "execution_count": 78,
     "metadata": {},
     "output_type": "execute_result"
    }
   ],
   "source": [
    "a=lambda x: x**3\n",
    "a(3)\n",
    "\n",
    "list(map(lambda x: x**3,[1,2,3,4,5,6]))\n",
    "\n",
    "list(filter(lambda x:(x%2==0),[1,2,3,4,5]))\n",
    "list(filter(lambda x:(x%2!=0),[1,2,3,4,5]))"
   ]
  },
  {
   "cell_type": "code",
   "execution_count": 98,
   "metadata": {},
   "outputs": [
    {
     "name": "stdout",
     "output_type": "stream",
     "text": [
      "[26.0, 17.5, 16.0, 13.5, 25.5, 9.0, 13.0, 21.0, 15.0, 11.0]\n"
     ]
    },
    {
     "data": {
      "text/plain": [
       "[9.0]"
      ]
     },
     "execution_count": 98,
     "metadata": {},
     "output_type": "execute_result"
    }
   ],
   "source": [
    "import random\n",
    "int1=[random.randint(0,25) for i in range(0,10)]\n",
    "int2=[random.randint(0,25) for i in range(0,10)]\n",
    "int3=[random.randint(0,25) for i in range(0,10)]\n",
    "\n",
    "averageint=list(map(lambda x,y,z:(x+y+z)/2, int1 ,int2,int3))\n",
    "print(averageint)\n",
    "\n",
    "failedm=list(filter(lambda x:x<10,averageint))\n",
    "failedm"
   ]
  },
  {
   "cell_type": "markdown",
   "metadata": {},
   "source": [
    "### Applying Functional Programming to the marks analysis application:\n"
   ]
  },
  {
   "cell_type": "code",
   "execution_count": 5,
   "metadata": {},
   "outputs": [],
   "source": [
    "# Generate marks data \n",
    "from random import randint\n",
    "    \n",
    "def generatemarks(n,lb,ub):\n",
    "    filename=\"DataFiles/marks.txt\" \n",
    "    with open(filename,'w') as f:\n",
    "        for i in range(n):\n",
    "            marks=randint(lb,ub)\n",
    "            f.write(str(marks)+\"\\n\")\n",
    "    return\n",
    "generatemarks(300,0,100)\n",
    "            \n",
    "        \n",
    "    "
   ]
  },
  {
   "cell_type": "code",
   "execution_count": 16,
   "metadata": {},
   "outputs": [
    {
     "data": {
      "text/plain": [
       "51"
      ]
     },
     "execution_count": 16,
     "metadata": {},
     "output_type": "execute_result"
    }
   ],
   "source": [
    "# Marks Analysis\n",
    "# Class Average,% of passed,% of failed and % of distinction\n",
    "#Frequency of highest ,Frequency of lowest\n",
    "\n",
    "def readmarkslist(filepath):\n",
    "    with open(filepath,'r') as f:\n",
    "        filedata=f.read().split()\n",
    "    return list(map(int,filedata))\n",
    "    \n",
    "import re\n",
    "def classaverage(filepath):\n",
    "    with open(filepath,'r') as f:\n",
    "        filedata=f.read().split()\n",
    "    markslist=list(map(int,filedata))\n",
    "    return sum(markslist)//len(markslist)\n",
    "\n",
    "filepath=\"DataFiles/marks.txt\"\n",
    "classaverage(filepath)\n",
    "\n",
    "\n",
    "# anothermethod"
   ]
  },
  {
   "cell_type": "code",
   "execution_count": 28,
   "metadata": {},
   "outputs": [
    {
     "data": {
      "text/plain": [
       "34.666666666666664"
      ]
     },
     "execution_count": 28,
     "metadata": {},
     "output_type": "execute_result"
    }
   ],
   "source": [
    "def percentagefailed(filepath):\n",
    "    markslist=readmarkslist(filepath)\n",
    "    failedcount=len(list(filter(lambda mark:mark<40,markslist)))\n",
    "    return failedcount*100/len(markslist)\n",
    "percentagefailed(filepath)"
   ]
  },
  {
   "cell_type": "code",
   "execution_count": 27,
   "metadata": {},
   "outputs": [
    {
     "data": {
      "text/plain": [
       "65.33333333333333"
      ]
     },
     "execution_count": 27,
     "metadata": {},
     "output_type": "execute_result"
    }
   ],
   "source": [
    "def percentagepassed(filepath):\n",
    "    markslist=readmarkslist(filepath)\n",
    "    passedcount=len(list(filter(lambda mark:mark>=40,markslist)))\n",
    "    return passedcount*100/len(markslist)\n",
    "percentagepassed(filepath)"
   ]
  },
  {
   "cell_type": "code",
   "execution_count": 26,
   "metadata": {},
   "outputs": [
    {
     "data": {
      "text/plain": [
       "32.333333333333336"
      ]
     },
     "execution_count": 26,
     "metadata": {},
     "output_type": "execute_result"
    }
   ],
   "source": [
    "def percentagedistinction(filepath):\n",
    "    markslist=readmarkslist(filepath)\n",
    "    distinctioncount=len(list(filter(lambda mark:mark>=70,markslist)))\n",
    "    return distinctioncount*100/len(markslist)\n",
    "percentagedistinction(filepath)"
   ]
  },
  {
   "cell_type": "code",
   "execution_count": 34,
   "metadata": {},
   "outputs": [
    {
     "data": {
      "text/plain": [
       "[1, 100]"
      ]
     },
     "execution_count": 34,
     "metadata": {},
     "output_type": "execute_result"
    }
   ],
   "source": [
    "def highestfrequency(filepath):\n",
    "    markslist=readmarkslist(filepath)\n",
    "    #print((max(markslist)))\n",
    "    return [markslist.count(max(markslist)),max(markslist)]\n",
    "highestfrequency(filepath)"
   ]
  },
  {
   "cell_type": "code",
   "execution_count": 35,
   "metadata": {},
   "outputs": [
    {
     "data": {
      "text/plain": [
       "[4, 0]"
      ]
     },
     "execution_count": 35,
     "metadata": {},
     "output_type": "execute_result"
    }
   ],
   "source": [
    "def lowestfrequency(filepath):\n",
    "    markslist=readmarkslist(filepath)\n",
    "    return [markslist.count(min(markslist)),min(markslist)]\n",
    "lowestfrequency(filepath)"
   ]
  },
  {
   "cell_type": "markdown",
   "metadata": {},
   "source": [
    "### Data Encryption\n",
    "\n",
    "key -- Mapping of characters with replaced characters\n",
    "\n",
    "0->4\n",
    "1->5\n",
    "2->6\n",
    "3->7\n",
    "4->8\n",
    "5->9\n",
    "6->0\n",
    "7->1\n",
    "8->2\n",
    "9->3"
   ]
  },
  {
   "cell_type": "code",
   "execution_count": 9,
   "metadata": {},
   "outputs": [],
   "source": [
    "# Function to generate key for encryption:\n",
    "keypath=\"DataFiles/key.txt\"\n",
    "def generatekey(keypath):\n",
    "    with open(keypath,'w') as f:\n",
    "        for i in range(10):\n",
    "            if i<6 :\n",
    "                f.write(str(i)+' '+str(i+4)+\"\\n\")\n",
    "            else:\n",
    "                f.write(str(i)+\" \"+str(i-6)+\"\\n\")\n",
    "    return\n",
    "generatekey(keypath)"
   ]
  },
  {
   "cell_type": "code",
   "execution_count": 14,
   "metadata": {},
   "outputs": [],
   "source": [
    "# Function to generate key for encryption:\n",
    "keypath=\"DataFiles/key1.txt\"\n",
    "def generatekey(keypath):\n",
    "    with open(keypath,'w') as f:\n",
    "        for i in range(10):\n",
    "            if i>=0 and i<4 :\n",
    "                f.write(str(i)+' '+str(i+6)+\"\\n\")\n",
    "            else:\n",
    "                f.write(str(i)+\" \"+str(i-4)+\"\\n\")\n",
    "    return\n",
    "generatekey(keypath)"
   ]
  },
  {
   "cell_type": "code",
   "execution_count": 18,
   "metadata": {},
   "outputs": [],
   "source": [
    "# Function to encrypt a data file:\n",
    "keyfile=\"DataFiles/key.txt\"\n",
    "def dictionarykeyfile(keyfile):\n",
    "    key={}\n",
    "    with open(keyfile,'r') as f:\n",
    "        for i in f:\n",
    "            line=i.split()\n",
    "            key[line[0]]=line[1]\n",
    "    return key\n",
    "\n",
    "#dictionarykeyfile(keyfile)\n",
    "\n",
    "def encryptmarksdata(datafile,keyfile):\n",
    "    # construct a dictionary for key data\n",
    "    key=dictionarykeyfile(keyfile)\n",
    "    with open(datafile,'r') as f:\n",
    "        filedata=f.read().split('\\n')\n",
    "    with open(\"DataFiles/encryptedmarks.txt\",'w') as f:\n",
    "        for mark in filedata:\n",
    "            line=''\n",
    "            for n in mark:\n",
    "                line+=key[n]\n",
    "            f.write(line+'\\n')\n",
    "            \n",
    "    return\n",
    "datafile=\"DataFiles/marks.txt\"\n",
    "#encryptmarksdata(datafile,keyfile)\n",
    "\n",
    "\n"
   ]
  },
  {
   "cell_type": "code",
   "execution_count": 20,
   "metadata": {},
   "outputs": [],
   "source": [
    "def decryptedmarksdata(encryptedfile,keyfile):\n",
    "    key=dictionarykeyfile(keyfile)\n",
    "    newkey={}\n",
    "    for key,value in key.items():\n",
    "        newkey[value]=key\n",
    "    with open(encryptedfile,'r') as f:\n",
    "        encrypteddata=f.read().split('\\n')\n",
    "    with open('DataFiles/decryptedmarks.txt','w') as f:\n",
    "        for encryptedmark in encrypteddata:\n",
    "            line=''\n",
    "            for n in encryptedmark:\n",
    "                line+=newkey[n]\n",
    "            f.write(line+'\\n')\n",
    "    return\n",
    "decryptedmarksdata(\"DataFiles/encryptedmarks.txt\",keyfile)\n",
    "\n",
    "            "
   ]
  },
  {
   "cell_type": "code",
   "execution_count": 25,
   "metadata": {},
   "outputs": [
    {
     "data": {
      "text/plain": [
       "{'0', '1', '2', '3', '4', '5', '6', '7', '8', '9'}"
      ]
     },
     "execution_count": 25,
     "metadata": {},
     "output_type": "execute_result"
    }
   ],
   "source": [
    "# Comprehensions\n",
    "\n",
    "keyfile=\"DataFiles/key.txt\"\n",
    "key=dictionarykeyfile(keyfile)\n",
    "evenkeys={item for item in key.items() if int(item[0])%2==0}\n",
    "evenkeys={item for item in key}\n",
    "evenkeys"
   ]
  },
  {
   "cell_type": "code",
   "execution_count": null,
   "metadata": {},
   "outputs": [],
   "source": []
  }
 ],
 "metadata": {
  "kernelspec": {
   "display_name": "Python 3",
   "language": "python",
   "name": "python3"
  },
  "language_info": {
   "codemirror_mode": {
    "name": "ipython",
    "version": 3
   },
   "file_extension": ".py",
   "mimetype": "text/x-python",
   "name": "python",
   "nbconvert_exporter": "python",
   "pygments_lexer": "ipython3",
   "version": "3.7.3"
  }
 },
 "nbformat": 4,
 "nbformat_minor": 2
}
