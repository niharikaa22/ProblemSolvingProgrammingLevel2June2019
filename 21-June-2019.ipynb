{
 "cells": [
  {
   "cell_type": "code",
   "execution_count": 70,
   "metadata": {},
   "outputs": [
    {
     "name": "stdout",
     "output_type": "stream",
     "text": [
      "name2  added to contacts\n"
     ]
    }
   ],
   "source": [
    "#Function to add contact to contacts using text file:\n",
    "\n",
    "from Packages import  validators\n",
    "def addcontact(name,phone,email):\n",
    "    #name,phone,email\n",
    "    filename=\"DataFiles/contacts.txt\"\n",
    "    if not checkcontactexists(name):\n",
    "        if validators.phonenumbervalidator(phone) and validators.emailvalidator(email):\n",
    "            with open(filename,'a') as f:\n",
    "                line=name +','+ str(phone)+','+ email+ '\\n'\n",
    "                f.write(line)\n",
    "            print(name,' added to contacts')\n",
    "        else:\n",
    "            print(\"phone number or email invalid\")\n",
    "    else:\n",
    "        print(name,\"already exists\")\n",
    "    return\n",
    "\n",
    "#Function to check the contact if already exists:\n",
    "import re\n",
    "def checkcontactexists(name):\n",
    "    filename=\"DataFiles/contacts.txt\"\n",
    "    with open(filename,'r') as f:\n",
    "        filedata=f.read()\n",
    "        pattern=name+','\n",
    "    return re.search(pattern, filedata)\n",
    "#checkcontactexists(\"name1\")     \n",
    "  \n",
    "\n",
    "addcontact(\"name2\",9805643100,\"okpvcjfj@lkjh.df\")\n",
    "\n",
    "\n",
    "\n"
   ]
  },
  {
   "cell_type": "code",
   "execution_count": 11,
   "metadata": {},
   "outputs": [
    {
     "data": {
      "text/plain": [
       "',name4,name2,name2,name39806543100okpvcxz@lkjh.df\\n9805643100,name39806543100okpvcxz@lkjh.df\\nokpvcjfj@lkjh.df\\n9805643100,name2,name39806543100okpvcxz@lkjh.df\\n9805643100,name39806543100okpvcxz@lkjh.df\\nokpvcjfj@lkjh.df\\nokpvcjfj@lkjh.df\\n9805643100,name2,name2,name39806543100okpvcxz@lkjh.df\\n9805643100,name39806543100okpvcxz@lkjh.df\\nokpvcjfj@lkjh.df\\n9805643100,name2,name39806543100okpvcxz@lkjh.df\\n9805643100,name39806543100okpvcxz@lkjh.df\\nokpvcjfj@lkjh.df\\nokpvcjfj@lkjh.df\\nokpvcjfj@lkjh.df'"
      ]
     },
     "execution_count": 11,
     "metadata": {},
     "output_type": "execute_result"
    }
   ],
   "source": [
    "filename='DataFiles/contacts.txt'\n",
    "def csvToList(filename):\n",
    "    li=[]\n",
    "    with open(filename, 'r')as f:\n",
    "        for line in f:\n",
    "            li.append(line.split(','))\n",
    "    return li\n",
    "\n",
    "def listToFile(li):\n",
    "    s=''\n",
    "    for i in li:\n",
    "        s=','+s.join(i)\n",
    "    return s\n",
    "    \n",
    "listToFile(csvToList(filename))\n"
   ]
  },
  {
   "cell_type": "code",
   "execution_count": 45,
   "metadata": {},
   "outputs": [],
   "source": [
    "filename='DataFiles/contacts.txt'\n",
    "def csvToList(filename):\n",
    "    li=[]\n",
    "    with open(filename, 'r')as f:\n",
    "        for line in f:\n",
    "            li.append(line.split(','))\n",
    "    return li\n",
    "\n",
    "def appendtofile(filename,filedata):\n",
    "    with open(filename,'a')as f:\n",
    "        f.write(filedata)\n",
    "    return\n",
    "#appendtofile(filename,filedata)\n",
    "\n",
    "def listToFile(li):\n",
    "    name = \"name2\"\n",
    "    for i in range(0,len(li)):\n",
    "        for j in range(0,len(li[i])):\n",
    "            if li[i][j] == name:\n",
    "                li[i][j] = \"name4\"\n",
    "    wirteFile(li)\n",
    "    \n",
    "def wirteFile(li):\n",
    "    with open(filename,'r+')as f:\n",
    "        for i in range(0,len(li)):\n",
    "            s=listToString(li[i])          \n",
    "            f.write(s)\n",
    "            \n",
    "\n",
    "def listToString(li1):\n",
    "    s=\"\"\n",
    "    s1=\"\"\n",
    "    i=0\n",
    "    for i in range(0,len(li1)-1):\n",
    "        s1=li1[i]+','\n",
    "        s=s+''.join(s1)\n",
    "    s1=li1[i+1]\n",
    "    s=s+''.join(s1)\n",
    "    return s\n",
    "\n",
    "                \n",
    "    \n",
    "    \n",
    "listToFile(csvToList(filename))\n",
    "#csvToList(filename)\n"
   ]
  },
  {
   "cell_type": "code",
   "execution_count": 119,
   "metadata": {},
   "outputs": [
    {
     "name": "stdout",
     "output_type": "stream",
     "text": [
      "name2 found\n"
     ]
    }
   ],
   "source": [
    "from Packages import  validators\n",
    "def search(name):\n",
    "    #name,phone,email\n",
    "    filename=\"DataFiles/contacts.txt\"\n",
    "    if not checkcontactexists(name):\n",
    "        print(name,\"not found\")\n",
    "    else:\n",
    "        print(name,\"found\")\n",
    "    return\n",
    "\n",
    "#Function to check the contact if already exists:\n",
    "import re\n",
    "def checkcontactexists(name):\n",
    "    filename=\"DataFiles/contacts.txt\"\n",
    "    with open(filename,'r') as f:\n",
    "        filedata=f.read()\n",
    "        pattern=name+','\n",
    "    return re.search(pattern, filedata)\n",
    "#checkcontactexists(\"name1\")     \n",
    "search(\"name2\")"
   ]
  },
  {
   "cell_type": "code",
   "execution_count": 138,
   "metadata": {},
   "outputs": [
    {
     "name": "stdout",
     "output_type": "stream",
     "text": [
      "name5  found\n"
     ]
    }
   ],
   "source": [
    "from Packages import  validators\n",
    "def append(name,phone):\n",
    "    #name,phone,email\n",
    "    filename=\"DataFiles/contacts.txt\"\n",
    "    if not checkcontactexists(name):\n",
    "        if validators.phonenumbervalidator(phone):\n",
    "            with open(filename,'a') as f:\n",
    "                line=name +','+ str(phone)+' \\n'\n",
    "                f.write(line)\n",
    "                print(\"appended\")\n",
    "        else:\n",
    "            print(\"not valid number\")\n",
    "    elif checkcontactexists(name):\n",
    "            print(name,\" found\")\n",
    "        \n",
    "    return\n",
    "\n",
    "#Function to check the contact if already exists:\n",
    "import re\n",
    "def checkcontactexists(name):\n",
    "    filename=\"DataFiles/contacts.txt\"\n",
    "    with open(filename,'r') as f:\n",
    "        filedata=f.read()\n",
    "        pattern=name+','\n",
    "    return re.search(pattern, filedata)\n",
    "append(\"name5\",9234567890)"
   ]
  },
  {
   "cell_type": "code",
   "execution_count": 26,
   "metadata": {},
   "outputs": [
    {
     "name": "stdout",
     "output_type": "stream",
     "text": [
      "name3,9806543100,okpvcxz@lkjh.df\n",
      "\n"
     ]
    }
   ],
   "source": [
    "li = ['name3', '9806543100', 'okpvcxz@lkjh.df\\n']\n",
    "def (li)\n",
    "s=\"\"\n",
    "s1=\"\"\n",
    "i=0\n",
    "for i in range(0,len(li)-1):\n",
    "    s1=li[i]+','\n",
    "    s=s+''.join(s1)\n",
    "s1=li[i+1]\n",
    "s=s+''.join(s1)\n",
    "\n",
    "    "
   ]
  },
  {
   "cell_type": "code",
   "execution_count": 37,
   "metadata": {},
   "outputs": [
    {
     "name": "stdout",
     "output_type": "stream",
     "text": [
      "name3,9806543100,okpvcxz@lkjh.df\n",
      "\n",
      "name4,9806543100,okpvcxz@lkjh.df\n",
      "\n"
     ]
    }
   ],
   "source": [
    "li = [['name3', '9806543100', 'okpvcxz@lkjh.df\\n'],['name4', '9806543100', 'okpvcxz@lkjh.df\\n']]\n",
    "\n",
    "def listToString(li1):\n",
    "    s=\"\"\n",
    "    s1=\"\"\n",
    "    i=0\n",
    "    for i in range(0,len(li1)-1):\n",
    "        s1=li1[i]+','\n",
    "        s=s+''.join(s1)\n",
    "    s1=li1[i+1]\n",
    "    s=s+''.join(s1)\n",
    "    print(s)\n",
    "    \n",
    "for i in li:\n",
    "    listToString(i)\n"
   ]
  },
  {
   "cell_type": "code",
   "execution_count": null,
   "metadata": {},
   "outputs": [],
   "source": [
    "filename='DataFiles/contacts.txt'\n",
    "def csvToList(filename):\n",
    "    li=[]\n",
    "    with open(filename, 'r')as f:\n",
    "        for line in f:\n",
    "            li.append(line.split(','))\n",
    "    return li\n",
    "\n",
    "def listToFile(li):\n",
    "    name = \"name2\"\n",
    "    for i in range(0,len(li)):\n",
    "        for j in range(0,len(li[i])):\n",
    "            if li[i][j] == name:\n",
    "                li[i][j] = \"name4\"\n",
    "    wirteFile(li)\n",
    "    \n",
    "def wirteFile(li):\n",
    "    with open(filename,'r+')as f:\n",
    "        for i in range(0,len(li)):\n",
    "            s=listToString(li[i])          \n",
    "            f.write(s)\n",
    "            \n",
    "\n",
    "def listToString(li1):\n",
    "    s=\"\"\n",
    "    s1=\"\"\n",
    "    i=0\n",
    "    for i in range(0,len(li1)-1):\n",
    "        s1=li1[i]+','\n",
    "        s=s+''.join(s1)\n",
    "    s1=li1[i+1]\n",
    "    s=s+''.join(s1)\n",
    "    return s\n",
    "\n",
    "                \n",
    "    \n",
    "    \n",
    "listToFile(csvToList(filename))\n"
   ]
  }
 ],
 "metadata": {
  "kernelspec": {
   "display_name": "Python 3",
   "language": "python",
   "name": "python3"
  },
  "language_info": {
   "codemirror_mode": {
    "name": "ipython",
    "version": 3
   },
   "file_extension": ".py",
   "mimetype": "text/x-python",
   "name": "python",
   "nbconvert_exporter": "python",
   "pygments_lexer": "ipython3",
   "version": "3.7.3"
  }
 },
 "nbformat": 4,
 "nbformat_minor": 2
}
