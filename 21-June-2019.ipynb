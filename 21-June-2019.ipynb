{
 "cells": [
  {
   "cell_type": "code",
   "execution_count": 47,
   "metadata": {},
   "outputs": [
    {
     "name": "stdout",
     "output_type": "stream",
     "text": [
      "name3  added to contacts\n"
     ]
    }
   ],
   "source": [
    "#Function to add contact to contacts using text file:\n",
    "\n",
    "from Packages import  validators\n",
    "def addcontact(name,phone,email):\n",
    "    #name,phone,email\n",
    "    filename=\"DataFiles/contacts.txt\"\n",
    "    if not checkcontactexists(name):\n",
    "        if validators.phonenumbervalidator(phone) and validators.emailvalidator(email):\n",
    "            with open(filename,'a') as f:\n",
    "                line=name +','+ str(phone)+','+ email+ '\\n'\n",
    "                f.write(line)\n",
    "            print(name,' added to contacts')\n",
    "        else:\n",
    "            print(\"phone number or email invalid\")\n",
    "    else:\n",
    "        print(name,\"already exists\")\n",
    "    return\n",
    "\n",
    "#Function to check the contact if already exists:\n",
    "import re\n",
    "def checkcontactexists(name):\n",
    "    filename=\"DataFiles/contacts.txt\"\n",
    "    with open(filename,'r') as f:\n",
    "        filedata=f.read()\n",
    "        pattern=name+','\n",
    "    return re.search(pattern, filedata)\n",
    "#checkcontactexists(\"name1\")     \n",
    "  \n",
    "\n",
    "addcontact(\"name3\",9806543100,\"okpvcxz@lkjh.df\")\n",
    "\n",
    "\n"
   ]
  },
  {
   "cell_type": "code",
   "execution_count": 56,
   "metadata": {},
   "outputs": [
    {
     "data": {
      "text/plain": [
       "',name19876543210mnbvcxz@lkjh.df\\n,name2,name19876543210mnbvcxz@lkjh.df\\n9806543100,name19876543210mnbvcxz@lkjh.df\\nokpvcxz@lkjh.df\\n'"
      ]
     },
     "execution_count": 56,
     "metadata": {},
     "output_type": "execute_result"
    }
   ],
   "source": [
    "filename='DataFiles/contacts.txt'\n",
    "def csvToList(filename):\n",
    "    li=[]\n",
    "    with open(filename, 'r')as f:\n",
    "        for line in f:\n",
    "            li.append(line.split(','))\n",
    "    return li\n",
    "\n",
    "def listToFile(li):\n",
    "    s=''\n",
    "    for i in li:\n",
    "        s+=','+s.join(i)\n",
    "    return s\n",
    "listToFile(csvToList(filename))\n"
   ]
  },
  {
   "cell_type": "code",
   "execution_count": null,
   "metadata": {},
   "outputs": [],
   "source": []
  }
 ],
 "metadata": {
  "kernelspec": {
   "display_name": "Python 3",
   "language": "python",
   "name": "python3"
  },
  "language_info": {
   "codemirror_mode": {
    "name": "ipython",
    "version": 3
   },
   "file_extension": ".py",
   "mimetype": "text/x-python",
   "name": "python",
   "nbconvert_exporter": "python",
   "pygments_lexer": "ipython3",
   "version": "3.7.3"
  }
 },
 "nbformat": 4,
 "nbformat_minor": 2
}
