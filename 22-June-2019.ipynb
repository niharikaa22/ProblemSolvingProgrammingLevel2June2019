{
 "cells": [
  {
   "cell_type": "markdown",
   "metadata": {},
   "source": [
    "#### 22-June-2019\n",
    "#### Day Objectives\n",
    "- File Handling\n",
    "    - Basic File Data Processing\n",
    "        - Accessing and Modifying File data\n",
    "    - Character Count\n",
    "    - Line Count\n",
    "    - File Size\n",
    "    - Word count\n",
    "    - Unique Word Count"
   ]
  },
  {
   "cell_type": "code",
   "execution_count": null,
   "metadata": {},
   "outputs": [],
   "source": []
  },
  {
   "cell_type": "code",
   "execution_count": 6,
   "metadata": {},
   "outputs": [
    {
     "name": "stdout",
     "output_type": "stream",
     "text": [
      "new dataline2/nline3\n",
      "line4\n",
      "line5\n"
     ]
    }
   ],
   "source": [
    "# Read a file-File should exist(Read Mode)\n",
    "# Write to a file-Existing(append mode) or new file(write)\n",
    "\n",
    "def readfile(filepath):\n",
    "    \n",
    "    with open(filepath,'r') as f: ##f is a variable used to access the with open function\n",
    "        filedata=f.read()\n",
    "    return filedata\n",
    "filepath=\"DataFiles/data.txt\"\n",
    "print(readfile(filepath))\n",
    "        \n",
    "    "
   ]
  },
  {
   "cell_type": "code",
   "execution_count": 9,
   "metadata": {},
   "outputs": [
    {
     "data": {
      "text/plain": [
       "4"
      ]
     },
     "execution_count": 9,
     "metadata": {},
     "output_type": "execute_result"
    }
   ],
   "source": [
    "# function to count the number of characters in a file:\n",
    "\n",
    "def countfile(filepath):\n",
    "    words=0\n",
    "    with open(filepath,'r')as f:\n",
    "        for i in f:\n",
    "            l=i.split()\n",
    "            words=words+len(l)\n",
    "    print(words)\n",
    "filepath=\"DataFiles/data.txt\"\n",
    "#countfile(filepath)\n",
    " \n",
    "    \n",
    "#another method:\n",
    "import re\n",
    "def wordcount(filepath):\n",
    "    pattern='[ /n]'\n",
    "    filedata=readfile(filepath)\n",
    "    count=len(re.split(pattern,filedata))\n",
    "    return count\n",
    "wordcount(filepath)\n",
    "            \n",
    "        "
   ]
  },
  {
   "cell_type": "code",
   "execution_count": 93,
   "metadata": {},
   "outputs": [
    {
     "name": "stdout",
     "output_type": "stream",
     "text": [
      "3\n"
     ]
    }
   ],
   "source": [
    "def countline(filepath):\n",
    "    line=0\n",
    "    with open(filepath,'r')as f:\n",
    "        for line in f:\n",
    "            line=line+1\n",
    "            \n",
    "    print(line)\n",
    "                \n",
    "\n",
    "filepath=\"DataFiles/data.txt\"\n",
    "countwords(filepath)\n",
    "    "
   ]
  },
  {
   "cell_type": "code",
   "execution_count": 10,
   "metadata": {},
   "outputs": [
    {
     "name": "stdout",
     "output_type": "stream",
     "text": [
      "36\n"
     ]
    }
   ],
   "source": [
    "\n",
    "\n",
    "def countchar(filepath):\n",
    "    char=0\n",
    "    with open(filepath,'r') as f:\n",
    "        for i in f:\n",
    "            char=char+len(i)\n",
    "    print(char)\n",
    "    return\n",
    "filepath=\"DataFiles/data.txt\"\n",
    "countchar(filepath)\n",
    "\n"
   ]
  },
  {
   "cell_type": "code",
   "execution_count": 42,
   "metadata": {},
   "outputs": [
    {
     "name": "stdout",
     "output_type": "stream",
     "text": [
      "['abc', 'bcd', 'efg', 'hgdhg']\n"
     ]
    },
    {
     "data": {
      "text/plain": [
       "4"
      ]
     },
     "execution_count": 42,
     "metadata": {},
     "output_type": "execute_result"
    }
   ],
   "source": [
    "#Fuction to ge unique elements in a list:\n",
    "#[1,2,3,3,2,1]---->[1,2,3]\n",
    "#Create a empty unique list[1,2,3]\n",
    "\n",
    "def uniquedata(li):\n",
    "    #create an empty unique liist\n",
    "    unique=[]\n",
    "    #For every element in the main list,\n",
    "      # check if it exists in the unique list.\n",
    "      # If it does not exist,add it to unique list\n",
    "      # else if it already exists,move on to next element\n",
    "    for i in li:\n",
    "        if i not in unique:\n",
    "            unique.append(i)\n",
    "    print(len(unique))\n",
    "    return unique\n",
    "#li=[1,2,3,3,2,1]\n",
    "#uniquedata(li)\n",
    "filepath=\"DataFiles/sample.txt\"    \n",
    "def uniqueword(filepath):\n",
    "    unique=[]\n",
    "    with open(filepath,'r')as f:\n",
    "        for i in f:\n",
    "            for j in i.split():\n",
    "                if j not in unique:\n",
    "                    unique.append(j)  \n",
    "        print(unique)\n",
    "    return len(unique)\n",
    "\n",
    "uniqueword(filepath)"
   ]
  },
  {
   "cell_type": "code",
   "execution_count": null,
   "metadata": {},
   "outputs": [],
   "source": []
  },
  {
   "cell_type": "code",
   "execution_count": 4,
   "metadata": {},
   "outputs": [
    {
     "data": {
      "text/plain": [
       "'data1 data1\\ndata2 data2\\ndata3 data3\\n'"
      ]
     },
     "execution_count": 4,
     "metadata": {},
     "output_type": "execute_result"
    }
   ],
   "source": [
    "# function to read  a file into a list of lines\n",
    "# each element in the list is one line in the file\n",
    "def readfileinlist(filepath):\n",
    "    with open(filepath,'r')as f:\n",
    "        filedata=f.read()\n",
    "        lines=filedata.split('/n')\n",
    "    return lines\n",
    "filepath=\"DataFiles/data.txt\"\n",
    "readfileinlist(filepath)"
   ]
  },
  {
   "cell_type": "code",
   "execution_count": 66,
   "metadata": {},
   "outputs": [
    {
     "name": "stdout",
     "output_type": "stream",
     "text": [
      "bcd : 1\n",
      "abc : 3\n",
      "efg : 1\n",
      "hgdhg : 1\n"
     ]
    }
   ],
   "source": [
    "#Fuction to print the frequency count of all words in a file:\n",
    "# Data in line1\n",
    "#data in line 2\n",
    "# data in line 3\n",
    "#o/p\n",
    "#Data :3\n",
    "#in :3\n",
    "#line :3\n",
    "#1:1\n",
    "#2:1\n",
    "#3:1\n",
    "\n",
    "filepath=\"DataFiles/sample.txt\"    \n",
    "def frequencyword(filepath):\n",
    "    unique=[]\n",
    "    count=0\n",
    "    with open(filepath,'r')as f:\n",
    "        for i in f:\n",
    "            for j in i.split():\n",
    "                unique.append(j)\n",
    "        for k in set(unique):\n",
    "            n=unique.count(k)\n",
    "            print(k,\":\",n)\n",
    "    return \n",
    "\n",
    "frequencyword(filepath)\n",
    "    \n"
   ]
  },
  {
   "cell_type": "code",
   "execution_count": 45,
   "metadata": {},
   "outputs": [
    {
     "data": {
      "text/plain": [
       "True"
      ]
     },
     "execution_count": 45,
     "metadata": {},
     "output_type": "execute_result"
    }
   ],
   "source": [
    "def isprime(a):\n",
    "    count=0\n",
    "    for i in range(1,a+1):\n",
    "        if a%i==0:\n",
    "            count+=1\n",
    "    if count<3:\n",
    "        return True\n",
    "    else:\n",
    "        return False\n",
    "    return\n",
    "isprime(2)"
   ]
  },
  {
   "cell_type": "code",
   "execution_count": 4,
   "metadata": {},
   "outputs": [],
   "source": [
    "contact={}\n",
    "def addcontact():\n",
    "    n=int(input())\n",
    "    for record in range(n):\n",
    "        name=input()\n",
    "        mobile=input()\n",
    "        email=input()\n",
    "        contact[name]=[mobile,email]\n",
    "    with open(\"contact.txt\",\"w\") as data:\n",
    "        for user in contact.items():\n",
    "            data.write(user[0]+\",\"+user[1][0]+\",\"+user[1][1]+\"/n\")\n",
    "    return \"data added successfully\"\n"
   ]
  },
  {
   "cell_type": "code",
   "execution_count": 5,
   "metadata": {},
   "outputs": [
    {
     "name": "stdout",
     "output_type": "stream",
     "text": [
      "1\n",
      "name3\n",
      "8840293090\n",
      "nkskskjj@wshcsh.com\n"
     ]
    },
    {
     "data": {
      "text/plain": [
       "'data added successfully'"
      ]
     },
     "execution_count": 5,
     "metadata": {},
     "output_type": "execute_result"
    }
   ],
   "source": [
    "addcontact()"
   ]
  },
  {
   "cell_type": "code",
   "execution_count": 6,
   "metadata": {},
   "outputs": [
    {
     "name": "stdout",
     "output_type": "stream",
     "text": [
      "contact.txt\n",
      "enter user namename3\n",
      "enter mobile number789800902\n",
      "enter emailjcjdckhdks@kskc.com\n"
     ]
    }
   ],
   "source": [
    "def modifycontacts(filename):\n",
    "    updated_data={}\n",
    "    name=input('enter user name')\n",
    "    with open(filename,'r') as f:\n",
    "        for line in f:\n",
    "            line=line.strip().split(',')\n",
    "            if name in line:\n",
    "                mobile=input('enter mobile number')\n",
    "                email=input('enter email')\n",
    "                line[1]=mobile\n",
    "                line[2]=email\n",
    "                updated_data[line[0]]=[line[1],line[2]]\n",
    "            else:\n",
    "                updated_data[line[0]]=[line[1],line[2]]\n",
    "                continue\n",
    "\n",
    "    with open(filename,'w') as info:\n",
    "        for user in updated_data.items():\n",
    "            info.write(user[0]+\",\"+user[1][0]+\",\"+user[1][1]+\"\\n\")\n",
    "    \n",
    "filename=input()\n",
    "modifycontacts(filename)"
   ]
  },
  {
   "cell_type": "code",
   "execution_count": 6,
   "metadata": {},
   "outputs": [
    {
     "name": "stdout",
     "output_type": "stream",
     "text": [
      "1\n",
      "6\n",
      "AFREEN\n"
     ]
    },
    {
     "ename": "IndexError",
     "evalue": "string index out of range",
     "output_type": "error",
     "traceback": [
      "\u001b[1;31m---------------------------------------------------------------------------\u001b[0m",
      "\u001b[1;31mIndexError\u001b[0m                                Traceback (most recent call last)",
      "\u001b[1;32m<ipython-input-6-36ada4638ec9>\u001b[0m in \u001b[0;36m<module>\u001b[1;34m\u001b[0m\n\u001b[0;32m     35\u001b[0m     \u001b[0mprint\u001b[0m\u001b[1;33m(\u001b[0m\u001b[1;34m\"\"\u001b[0m\u001b[1;33m.\u001b[0m\u001b[0mjoin\u001b[0m\u001b[1;33m(\u001b[0m\u001b[0ml\u001b[0m\u001b[1;33m)\u001b[0m\u001b[1;33m)\u001b[0m\u001b[1;33m\u001b[0m\u001b[1;33m\u001b[0m\u001b[0m\n\u001b[0;32m     36\u001b[0m     \u001b[1;32mreturn\u001b[0m\u001b[1;33m\u001b[0m\u001b[1;33m\u001b[0m\u001b[0m\n\u001b[1;32m---> 37\u001b[1;33m \u001b[0mmagical\u001b[0m\u001b[1;33m(\u001b[0m\u001b[0ms\u001b[0m\u001b[1;33m)\u001b[0m\u001b[1;33m\u001b[0m\u001b[1;33m\u001b[0m\u001b[0m\n\u001b[0m\u001b[0;32m     38\u001b[0m \u001b[1;33m\u001b[0m\u001b[0m\n\u001b[0;32m     39\u001b[0m \u001b[1;33m\u001b[0m\u001b[0m\n",
      "\u001b[1;32m<ipython-input-6-36ada4638ec9>\u001b[0m in \u001b[0;36mmagical\u001b[1;34m(s)\u001b[0m\n\u001b[0;32m     25\u001b[0m                         \u001b[0ma\u001b[0m\u001b[1;33m=\u001b[0m\u001b[0mi\u001b[0m\u001b[1;33m\u001b[0m\u001b[1;33m\u001b[0m\u001b[0m\n\u001b[0;32m     26\u001b[0m                         \u001b[1;32mbreak\u001b[0m\u001b[1;33m\u001b[0m\u001b[1;33m\u001b[0m\u001b[0m\n\u001b[1;32m---> 27\u001b[1;33m                 \u001b[1;32mfor\u001b[0m \u001b[0mi\u001b[0m \u001b[1;32min\u001b[0m \u001b[0mrange\u001b[0m\u001b[1;33m(\u001b[0m\u001b[0mord\u001b[0m\u001b[1;33m(\u001b[0m\u001b[0ms\u001b[0m\u001b[1;33m[\u001b[0m\u001b[0mi\u001b[0m\u001b[1;33m]\u001b[0m\u001b[1;33m)\u001b[0m\u001b[1;33m,\u001b[0m\u001b[1;36m69\u001b[0m\u001b[1;33m,\u001b[0m\u001b[1;33m-\u001b[0m\u001b[1;36m1\u001b[0m\u001b[1;33m)\u001b[0m\u001b[1;33m:\u001b[0m\u001b[1;33m\u001b[0m\u001b[1;33m\u001b[0m\u001b[0m\n\u001b[0m\u001b[0;32m     28\u001b[0m                     \u001b[0mprint\u001b[0m\u001b[1;33m(\u001b[0m\u001b[0mi\u001b[0m\u001b[1;33m)\u001b[0m\u001b[1;33m\u001b[0m\u001b[1;33m\u001b[0m\u001b[0m\n\u001b[0;32m     29\u001b[0m                     \u001b[1;32mif\u001b[0m \u001b[0misprime\u001b[0m\u001b[1;33m(\u001b[0m\u001b[0mi\u001b[0m\u001b[1;33m)\u001b[0m\u001b[1;33m:\u001b[0m\u001b[1;33m\u001b[0m\u001b[1;33m\u001b[0m\u001b[0m\n",
      "\u001b[1;31mIndexError\u001b[0m: string index out of range"
     ]
    }
   ],
   "source": [
    "t=int(input())\n",
    "n=int(input())\n",
    "s=input()\n",
    "l=[]\n",
    "def isprime(a):\n",
    "    count=0\n",
    "    for i in range(1,a+1):\n",
    "        if a%i==0:\n",
    "            count+=1\n",
    "    if count<3:\n",
    "        return True\n",
    "    else:\n",
    "        return False\n",
    "    return\n",
    "#isprime(2)\n",
    "\n",
    "def magical(s):\n",
    "    if len(s)==n:\n",
    "        for i in range(0,len(s)):\n",
    "            if isprime(ord(s[i])):\n",
    "                l.append(chr(ord(s[i])))\n",
    "            else:\n",
    "                for i in range(ord(s[i]),90):\n",
    "                    if isprime(i):\n",
    "                        a=i\n",
    "                        break\n",
    "                for i in range(ord(s[i]),65,-1):\n",
    "                    print(i)\n",
    "                    if isprime(i):\n",
    "                        b=i\n",
    "                        break\n",
    "                if a<b:\n",
    "                    l.append(chr(i))\n",
    "                    \n",
    "    print(\"\".join(l))\n",
    "    return\n",
    "magical(s)\n",
    "        \n",
    "\n",
    "        \n",
    "\n"
   ]
  },
  {
   "cell_type": "code",
   "execution_count": 28,
   "metadata": {},
   "outputs": [
    {
     "data": {
      "text/plain": [
       "90"
      ]
     },
     "execution_count": 28,
     "metadata": {},
     "output_type": "execute_result"
    }
   ],
   "source": [
    "ord('Z')"
   ]
  },
  {
   "cell_type": "code",
   "execution_count": 4,
   "metadata": {},
   "outputs": [
    {
     "name": "stdout",
     "output_type": "stream",
     "text": [
      "10\n",
      "9\n",
      "8\n",
      "7\n",
      "6\n",
      "5\n",
      "4\n",
      "3\n",
      "2\n",
      "1\n"
     ]
    }
   ],
   "source": [
    "n=10\n",
    "for i in range(n,0,-1):\n",
    "    print(i)"
   ]
  },
  {
   "cell_type": "code",
   "execution_count": 5,
   "metadata": {},
   "outputs": [
    {
     "ename": "NameError",
     "evalue": "name 'i' is not defined",
     "output_type": "error",
     "traceback": [
      "\u001b[1;31m---------------------------------------------------------------------------\u001b[0m",
      "\u001b[1;31mNameError\u001b[0m                                 Traceback (most recent call last)",
      "\u001b[1;32m<ipython-input-5-05e0274d3cb1>\u001b[0m in \u001b[0;36m<module>\u001b[1;34m\u001b[0m\n\u001b[0;32m      1\u001b[0m \u001b[0ms\u001b[0m\u001b[1;33m=\u001b[0m\u001b[1;34m\"kdssd\"\u001b[0m\u001b[1;33m\u001b[0m\u001b[1;33m\u001b[0m\u001b[0m\n\u001b[1;32m----> 2\u001b[1;33m \u001b[1;32mfor\u001b[0m \u001b[0mj\u001b[0m \u001b[1;32min\u001b[0m \u001b[0mrange\u001b[0m\u001b[1;33m(\u001b[0m\u001b[0mord\u001b[0m\u001b[1;33m(\u001b[0m\u001b[0ms\u001b[0m\u001b[1;33m[\u001b[0m\u001b[0mi\u001b[0m\u001b[1;33m]\u001b[0m\u001b[1;33m)\u001b[0m\u001b[1;33m,\u001b[0m\u001b[1;33m-\u001b[0m\u001b[1;36m1\u001b[0m\u001b[1;33m)\u001b[0m\u001b[1;33m:\u001b[0m\u001b[1;33m\u001b[0m\u001b[1;33m\u001b[0m\u001b[0m\n\u001b[0m\u001b[0;32m      3\u001b[0m     \u001b[0mprint\u001b[0m\u001b[1;33m(\u001b[0m\u001b[0mj\u001b[0m\u001b[1;33m)\u001b[0m\u001b[1;33m\u001b[0m\u001b[1;33m\u001b[0m\u001b[0m\n",
      "\u001b[1;31mNameError\u001b[0m: name 'i' is not defined"
     ]
    }
   ],
   "source": [
    "s=\"kdssd\"\n",
    "for j in range(ord(s[i]),-1):\n",
    "    print(j)"
   ]
  },
  {
   "cell_type": "code",
   "execution_count": 1,
   "metadata": {},
   "outputs": [
    {
     "name": "stdout",
     "output_type": "stream",
     "text": [
      "1\n",
      "6\n",
      "AFREEN\n",
      "\n"
     ]
    }
   ],
   "source": [
    "t=int(input())\n",
    "n=int(input())\n",
    "s=input()\n",
    "l=[]\n",
    "def isprime(a):\n",
    "    count=0\n",
    "    for i in range(1,a+1):\n",
    "        if a%i==0:\n",
    "            count+=1\n",
    "    if count<3:\n",
    "        return True\n",
    "    else:\n",
    "        return False\n",
    "    return\n",
    "#isprime(2)\n",
    "\n",
    "def magical(s):\n",
    "    a=0\n",
    "    b=0\n",
    "    if len(s)==n:\n",
    "        for i in range(0,len(s)):\n",
    "            if isprime(ord(s[i])):\n",
    "                l.append(chr(ord(s[i])))\n",
    "    else:\n",
    "        if ord(s[i])>=65 and ord(s[i])<=66:\n",
    "            for j in range(ord(s[i]),69):\n",
    "                if isprime(j):\n",
    "                    print(l.append(chr(j)))\n",
    "                    break\n",
    "                elif ord(s[i])>=68 and ord(s[i])<=122:\n",
    "                    for k in range(ord(s[i]),122):\n",
    "                        if isprime(k):\n",
    "                            a=k\n",
    "                            print(chr(a))\n",
    "                            break\n",
    "                    for m in range(ord(s[i]),69,-1):\n",
    "                        if isprime(m):\n",
    "                            b=m\n",
    "                            print(chr(b))\n",
    "                            break\n",
    "                if a<b:\n",
    "                    print(l.append(chr(a)))\n",
    "                else:\n",
    "                    print(l.append(chr(b)))\n",
    "\n",
    "    print(\"\".join(l))\n",
    "    return\n",
    "magical(s)\n",
    "        \n",
    "\n",
    "        \n"
   ]
  },
  {
   "cell_type": "code",
   "execution_count": 18,
   "metadata": {},
   "outputs": [
    {
     "name": "stdout",
     "output_type": "stream",
     "text": [
      "13\n",
      "hackerearth\n",
      "sjskspdsda\n"
     ]
    },
    {
     "ename": "TypeError",
     "evalue": "argument of type 'NoneType' is not iterable",
     "output_type": "error",
     "traceback": [
      "\u001b[1;31m---------------------------------------------------------------------------\u001b[0m",
      "\u001b[1;31mTypeError\u001b[0m                                 Traceback (most recent call last)",
      "\u001b[1;32m<ipython-input-18-be047a0bca41>\u001b[0m in \u001b[0;36m<module>\u001b[1;34m\u001b[0m\n\u001b[0;32m     20\u001b[0m     \u001b[0mprint\u001b[0m\u001b[1;33m(\u001b[0m\u001b[0mcount\u001b[0m\u001b[1;33m)\u001b[0m\u001b[1;33m\u001b[0m\u001b[1;33m\u001b[0m\u001b[0m\n\u001b[0;32m     21\u001b[0m     \u001b[1;32mreturn\u001b[0m\u001b[1;33m\u001b[0m\u001b[1;33m\u001b[0m\u001b[0m\n\u001b[1;32m---> 22\u001b[1;33m \u001b[0mstringhack\u001b[0m\u001b[1;33m(\u001b[0m\u001b[0mstring\u001b[0m\u001b[1;33m)\u001b[0m\u001b[1;33m\u001b[0m\u001b[1;33m\u001b[0m\u001b[0m\n\u001b[0m\u001b[0;32m     23\u001b[0m \u001b[1;33m\u001b[0m\u001b[0m\n",
      "\u001b[1;32m<ipython-input-18-be047a0bca41>\u001b[0m in \u001b[0;36mstringhack\u001b[1;34m(string)\u001b[0m\n\u001b[0;32m     16\u001b[0m     \u001b[1;31m#print(l)\u001b[0m\u001b[1;33m\u001b[0m\u001b[1;33m\u001b[0m\u001b[1;33m\u001b[0m\u001b[0m\n\u001b[0;32m     17\u001b[0m     \u001b[1;32mfor\u001b[0m \u001b[0mi\u001b[0m \u001b[1;32min\u001b[0m \u001b[0mrange\u001b[0m\u001b[1;33m(\u001b[0m\u001b[1;36m0\u001b[0m\u001b[1;33m,\u001b[0m\u001b[0mlen\u001b[0m\u001b[1;33m(\u001b[0m\u001b[0mstring\u001b[0m\u001b[1;33m)\u001b[0m\u001b[1;33m)\u001b[0m\u001b[1;33m:\u001b[0m\u001b[1;33m\u001b[0m\u001b[1;33m\u001b[0m\u001b[0m\n\u001b[1;32m---> 18\u001b[1;33m         \u001b[1;32mif\u001b[0m \u001b[0ml\u001b[0m \u001b[1;32min\u001b[0m \u001b[0ma\u001b[0m\u001b[1;33m:\u001b[0m\u001b[1;33m\u001b[0m\u001b[1;33m\u001b[0m\u001b[0m\n\u001b[0m\u001b[0;32m     19\u001b[0m             \u001b[0mcount\u001b[0m\u001b[1;33m+=\u001b[0m\u001b[1;36m1\u001b[0m\u001b[1;33m\u001b[0m\u001b[1;33m\u001b[0m\u001b[0m\n\u001b[0;32m     20\u001b[0m     \u001b[0mprint\u001b[0m\u001b[1;33m(\u001b[0m\u001b[0mcount\u001b[0m\u001b[1;33m)\u001b[0m\u001b[1;33m\u001b[0m\u001b[1;33m\u001b[0m\u001b[0m\n",
      "\u001b[1;31mTypeError\u001b[0m: argument of type 'NoneType' is not iterable"
     ]
    }
   ],
   "source": [
    "n=int(input())\n",
    "string=input()\n",
    "\n",
    "a=[]\n",
    "s1=input()\n",
    "for i in range(0,len(s1)):\n",
    "    a.append(ord(s1[i]))\n",
    "a=a.sort()\n",
    "#print(a)\n",
    "def stringhack(string):\n",
    "    l=[]\n",
    "    count=1\n",
    "    for i in range(0,len(s1)):\n",
    "        l.append(ord(string[i]))\n",
    "    l=l.sort()\n",
    "    #print(l)\n",
    "    for i in range(0,len(string)):\n",
    "        if l in a:\n",
    "            count+=1\n",
    "    print(count)\n",
    "    return\n",
    "stringhack(string)\n",
    "        "
   ]
  },
  {
   "cell_type": "code",
   "execution_count": null,
   "metadata": {},
   "outputs": [],
   "source": []
  },
  {
   "cell_type": "code",
   "execution_count": null,
   "metadata": {},
   "outputs": [],
   "source": []
  },
  {
   "cell_type": "code",
   "execution_count": null,
   "metadata": {},
   "outputs": [],
   "source": []
  },
  {
   "cell_type": "markdown",
   "metadata": {},
   "source": [
    "###### "
   ]
  }
 ],
 "metadata": {
  "kernelspec": {
   "display_name": "Python 3",
   "language": "python",
   "name": "python3"
  },
  "language_info": {
   "codemirror_mode": {
    "name": "ipython",
    "version": 3
   },
   "file_extension": ".py",
   "mimetype": "text/x-python",
   "name": "python",
   "nbconvert_exporter": "python",
   "pygments_lexer": "ipython3",
   "version": "3.7.3"
  }
 },
 "nbformat": 4,
 "nbformat_minor": 2
}
